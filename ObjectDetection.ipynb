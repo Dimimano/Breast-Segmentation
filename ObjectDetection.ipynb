{
 "cells": [
  {
   "cell_type": "code",
   "execution_count": 1,
   "metadata": {},
   "outputs": [],
   "source": [
    "import shutil\n",
    "import os\n",
    "import splitfolders\n",
    "os.environ['CUDA_LAUNCH_BLOCKING'] = \"1\"\n",
    "import torch\n",
    "from ultralytics import YOLO"
   ]
  },
  {
   "cell_type": "markdown",
   "metadata": {},
   "source": [
    "Copy mammograms and masks to the yolov5 folder."
   ]
  },
  {
   "cell_type": "code",
   "execution_count": 2,
   "metadata": {},
   "outputs": [
    {
     "data": {
      "text/plain": [
       "'C:\\\\Users\\\\manolakisd\\\\yolov5\\\\labels'"
      ]
     },
     "execution_count": 2,
     "metadata": {},
     "output_type": "execute_result"
    }
   ],
   "source": [
    "shutil.copytree('D:\\\\BreastSegmentation\\\\Dataset_Second_Pipeline\\\\Preprocessed640\\\\Mammos', 'C:\\\\Users\\\\manolakisd\\\\yolov5\\\\images')\n",
    "shutil.copytree('D:\\\\BreastSegmentation\\\\Dataset_Second_Pipeline\\\\Preprocessed640\\\\BBoxs', 'C:\\\\Users\\\\manolakisd\\\\yolov5\\\\labels')"
   ]
  },
  {
   "cell_type": "markdown",
   "metadata": {},
   "source": [
    "Rename all mask files (must have the same name as the correspoding mammogram files)."
   ]
  },
  {
   "cell_type": "code",
   "execution_count": 11,
   "metadata": {},
   "outputs": [],
   "source": [
    "path = 'C:\\\\Users\\\\manolakisd\\\\yolov5\\\\labels\\\\test'\n",
    "files = os.listdir(path)\n",
    "\n",
    "for _, file in enumerate(files):\n",
    "\n",
    "    file_path = os.path.join(path, file)\n",
    "\n",
    "    os.rename(file_path, file_path.replace('mask','mammo'))"
   ]
  },
  {
   "cell_type": "markdown",
   "metadata": {},
   "source": [
    "Split mammograms and masks into train and validation sets."
   ]
  },
  {
   "cell_type": "code",
   "execution_count": 4,
   "metadata": {},
   "outputs": [
    {
     "name": "stderr",
     "output_type": "stream",
     "text": [
      "Copying files: 0 files [00:00, ? files/s]"
     ]
    },
    {
     "name": "stderr",
     "output_type": "stream",
     "text": [
      "Copying files: 1231 files [00:00, 1313.62 files/s]\n"
     ]
    }
   ],
   "source": [
    "splitfolders.ratio(\"C:\\\\Users\\\\manolakisd\\\\yolov5\\\\images\", output=\"C:\\\\Users\\\\manolakisd\\\\yolov5\\\\images\", seed=1337, ratio=(.8, .2))"
   ]
  },
  {
   "cell_type": "code",
   "execution_count": 5,
   "metadata": {},
   "outputs": [
    {
     "name": "stderr",
     "output_type": "stream",
     "text": [
      "Copying files: 1231 files [00:00, 1673.35 files/s]\n"
     ]
    }
   ],
   "source": [
    "splitfolders.ratio(\"C:\\\\Users\\\\manolakisd\\\\yolov5\\\\labels\", output=\"C:\\\\Users\\\\manolakisd\\\\yolov5\\\\labels\", seed=1337, ratio=(.8, .2))"
   ]
  },
  {
   "cell_type": "code",
   "execution_count": 2,
   "metadata": {},
   "outputs": [],
   "source": [
    "os.chdir('C:\\\\Users\\\\manolakisd\\\\yolov5')"
   ]
  },
  {
   "cell_type": "code",
   "execution_count": 11,
   "metadata": {},
   "outputs": [
    {
     "name": "stdout",
     "output_type": "stream",
     "text": [
      " Volume in drive C has no label.\n",
      " Volume Serial Number is E881-86C4\n",
      "\n",
      " Directory of C:\\Users\\manolakisd\\yolov5\n",
      "\n",
      "11/30/2023  01:50 PM    <DIR>          .\n",
      "11/30/2023  01:50 PM    <DIR>          ..\n",
      "11/21/2023  01:43 PM             3,923 .dockerignore\n",
      "11/21/2023  01:43 PM                77 .gitattributes\n",
      "11/21/2023  01:43 PM    <DIR>          .github\n",
      "11/21/2023  01:43 PM             4,255 .gitignore\n",
      "11/21/2023  01:43 PM             1,888 .pre-commit-config.yaml\n",
      "11/21/2023  01:43 PM             8,183 benchmarks.py\n",
      "11/21/2023  01:43 PM               407 CITATION.cff\n",
      "11/21/2023  01:43 PM    <DIR>          classify\n",
      "11/21/2023  01:43 PM             5,102 CONTRIBUTING.md\n",
      "11/21/2023  02:47 PM    <DIR>          data\n",
      "11/21/2023  01:43 PM            15,649 detect.py\n",
      "11/21/2023  01:43 PM            42,138 export.py\n",
      "11/21/2023  01:43 PM             7,938 hubconf.py\n",
      "11/30/2023  01:51 PM    <DIR>          images\n",
      "11/30/2023  01:52 PM    <DIR>          labels\n",
      "11/21/2023  01:43 PM            35,184 LICENSE\n",
      "11/21/2023  02:22 PM    <DIR>          models\n",
      "11/21/2023  01:43 PM            42,500 README.md\n",
      "11/21/2023  01:43 PM            41,523 README.zh-CN.md\n",
      "11/21/2023  01:43 PM             1,612 requirements.txt\n",
      "11/21/2023  02:47 PM    <DIR>          runs\n",
      "11/21/2023  01:43 PM    <DIR>          segment\n",
      "11/21/2023  01:43 PM             1,779 setup.cfg\n",
      "11/21/2023  01:43 PM            34,529 train.py\n",
      "11/21/2023  01:43 PM            42,024 tutorial.ipynb\n",
      "11/21/2023  02:22 PM    <DIR>          utils\n",
      "11/21/2023  01:43 PM            20,997 val.py\n",
      "11/21/2023  02:47 PM        14,808,437 yolov5s.pt\n",
      "11/21/2023  02:22 PM    <DIR>          __pycache__\n",
      "              19 File(s)     15,118,145 bytes\n",
      "              12 Dir(s)   3,521,392,640 bytes free\n"
     ]
    }
   ],
   "source": [
    "!dir"
   ]
  },
  {
   "cell_type": "code",
   "execution_count": 4,
   "metadata": {},
   "outputs": [],
   "source": [
    "DEVICE = torch.device(\"cuda\" if torch.cuda.is_available() else \"cpu\")"
   ]
  },
  {
   "cell_type": "code",
   "execution_count": 16,
   "metadata": {},
   "outputs": [],
   "source": [
    "torch.cuda.empty_cache()"
   ]
  },
  {
   "cell_type": "code",
   "execution_count": 4,
   "metadata": {},
   "outputs": [
    {
     "name": "stdout",
     "output_type": "stream",
     "text": [
      "^C\n"
     ]
    }
   ],
   "source": [
    "!python train.py --img 640 --cfg yolov5n.yaml --batch 2 --epochs 300 --data C:\\\\Users\\\\manolakisd\\\\mass_data.yml --weights yolov5n.pt --patience 50 --workers 24 --hyp C:\\Users\\manolakisd\\yolov5\\data\\hyps\\hyp.scratch-low.yaml --name mass_detection_yolov5n2"
   ]
  },
  {
   "cell_type": "code",
   "execution_count": 3,
   "metadata": {},
   "outputs": [
    {
     "name": "stderr",
     "output_type": "stream",
     "text": [
      "\u001b[34m\u001b[1mval: \u001b[0mdata=C:\\\\Users\\\\manolakisd\\\\mass_data.yml, weights=['C:\\\\\\\\Users\\\\\\\\manolakisd\\\\\\\\yolov5\\\\\\\\runs\\\\\\\\train\\\\\\\\mass_detection_yolov5n\\\\weights\\\\\\\\best.pt'], batch_size=32, imgsz=640, conf_thres=0.001, iou_thres=0.6, max_det=300, task=test, device=, workers=8, single_cls=False, augment=False, verbose=False, save_txt=False, save_hybrid=False, save_conf=False, save_json=False, project=runs\\val, name=exp, exist_ok=False, half=False, dnn=False\n",
      "YOLOv5  v7.0-245-g3d8f004 Python-3.8.10 torch-2.1.1+cu121 CUDA:0 (NVIDIA GeForce RTX 3080 Ti, 12288MiB)\n",
      "\n",
      "Fusing layers... \n",
      "YOLOv5n summary: 157 layers, 1760518 parameters, 0 gradients, 4.1 GFLOPs\n",
      "\n",
      "\u001b[34m\u001b[1mtest: \u001b[0mScanning C:\\Users\\manolakisd\\yolov5\\labels\\test...:   0%|          | 0/361 [00:00<?, ?it/s]\n",
      "\u001b[34m\u001b[1mtest: \u001b[0mScanning C:\\Users\\manolakisd\\yolov5\\labels\\test... 1 images, 0 backgrounds, 0 corrupt:   0%|          | 1/361 [00:07<44:00,  7.33s/it]\n",
      "\u001b[34m\u001b[1mtest: \u001b[0mScanning C:\\Users\\manolakisd\\yolov5\\labels\\test... 142 images, 0 backgrounds, 0 corrupt:  39%|███▉      | 142/361 [00:07<00:08, 27.07it/s]\n",
      "\u001b[34m\u001b[1mtest: \u001b[0mScanning C:\\Users\\manolakisd\\yolov5\\labels\\test... 332 images, 0 backgrounds, 0 corrupt:  92%|█████████▏| 332/361 [00:07<00:00, 76.81it/s]\n",
      "\u001b[34m\u001b[1mtest: \u001b[0mScanning C:\\Users\\manolakisd\\yolov5\\labels\\test... 361 images, 0 backgrounds, 0 corrupt: 100%|██████████| 361/361 [00:07<00:00, 47.83it/s]\n",
      "\u001b[34m\u001b[1mtest: \u001b[0mWARNING  Cache directory C:\\Users\\manolakisd\\yolov5\\labels is not writeable: [WinError 183] Cannot create a file when that file already exists: 'C:\\\\Users\\\\manolakisd\\\\yolov5\\\\labels\\\\test.cache.npy' -> 'C:\\\\Users\\\\manolakisd\\\\yolov5\\\\labels\\\\test.cache'\n",
      "\n",
      "                 Class     Images  Instances          P          R      mAP50   mAP50-95:   0%|          | 0/12 [00:00<?, ?it/s]\n",
      "                 Class     Images  Instances          P          R      mAP50   mAP50-95:   8%|▊         | 1/12 [00:03<00:39,  3.64s/it]\n",
      "                 Class     Images  Instances          P          R      mAP50   mAP50-95:  17%|█▋        | 2/12 [00:04<00:19,  1.99s/it]\n",
      "                 Class     Images  Instances          P          R      mAP50   mAP50-95:  25%|██▌       | 3/12 [00:05<00:12,  1.38s/it]\n",
      "                 Class     Images  Instances          P          R      mAP50   mAP50-95:  33%|███▎      | 4/12 [00:05<00:08,  1.04s/it]\n",
      "                 Class     Images  Instances          P          R      mAP50   mAP50-95:  42%|████▏     | 5/12 [00:06<00:05,  1.26it/s]\n",
      "                 Class     Images  Instances          P          R      mAP50   mAP50-95:  50%|█████     | 6/12 [00:06<00:03,  1.52it/s]\n",
      "                 Class     Images  Instances          P          R      mAP50   mAP50-95:  58%|█████▊    | 7/12 [00:06<00:02,  1.77it/s]\n",
      "                 Class     Images  Instances          P          R      mAP50   mAP50-95:  67%|██████▋   | 8/12 [00:07<00:02,  1.97it/s]\n",
      "                 Class     Images  Instances          P          R      mAP50   mAP50-95:  75%|███████▌  | 9/12 [00:07<00:01,  2.11it/s]\n",
      "                 Class     Images  Instances          P          R      mAP50   mAP50-95:  83%|████████▎ | 10/12 [00:07<00:00,  2.24it/s]\n",
      "                 Class     Images  Instances          P          R      mAP50   mAP50-95:  92%|█████████▏| 11/12 [00:08<00:00,  2.31it/s]\n",
      "                 Class     Images  Instances          P          R      mAP50   mAP50-95: 100%|██████████| 12/12 [00:08<00:00,  2.70it/s]\n",
      "                 Class     Images  Instances          P          R      mAP50   mAP50-95: 100%|██████████| 12/12 [00:08<00:00,  1.40it/s]\n",
      "                   all        361        378      0.605      0.494      0.503      0.201\n",
      "Speed: 0.5ms pre-process, 5.4ms inference, 3.4ms NMS per image at shape (32, 3, 640, 640)\n",
      "Results saved to \u001b[1mruns\\val\\exp24\u001b[0m\n"
     ]
    }
   ],
   "source": [
    "!python val.py --weights C:\\\\Users\\\\manolakisd\\\\yolov5\\\\runs\\\\train\\\\mass_detection_yolov5n\\weights\\\\best.pt --img 640 --data C:\\\\Users\\\\manolakisd\\\\mass_data.yml --task test"
   ]
  },
  {
   "cell_type": "code",
   "execution_count": 4,
   "metadata": {},
   "outputs": [
    {
     "name": "stderr",
     "output_type": "stream",
     "text": [
      "\u001b[34m\u001b[1mdetect: \u001b[0mweights=['C:\\\\\\\\Users\\\\\\\\manolakisd\\\\\\\\yolov5\\\\\\\\runs\\\\\\\\train\\\\\\\\mass_detection_yolov5s\\\\\\\\weights\\\\\\\\best.pt'], source=C:\\\\Users\\\\manolakisd\\\\yolov5\\\\images\\\\test, data=data\\coco128.yaml, imgsz=[640, 640], conf_thres=0.25, iou_thres=0.45, max_det=1000, device=, view_img=False, save_txt=False, save_csv=False, save_conf=False, save_crop=False, nosave=False, classes=None, agnostic_nms=False, augment=False, visualize=False, update=False, project=runs\\detect, name=exp, exist_ok=False, line_thickness=3, hide_labels=False, hide_conf=False, half=False, dnn=False, vid_stride=1\n",
      "YOLOv5  v7.0-245-g3d8f004 Python-3.8.10 torch-2.1.1+cu121 CUDA:0 (NVIDIA GeForce RTX 3080 Ti, 12288MiB)\n",
      "\n",
      "Fusing layers... \n",
      "YOLOv5s summary: 157 layers, 7012822 parameters, 0 gradients, 15.8 GFLOPs\n",
      "image 1/361 C:\\Users\\manolakisd\\yolov5\\images\\test\\mammo0.png: 640x640 (no detections), 15.0ms\n",
      "image 2/361 C:\\Users\\manolakisd\\yolov5\\images\\test\\mammo1.png: 640x640 (no detections), 13.6ms\n",
      "image 3/361 C:\\Users\\manolakisd\\yolov5\\images\\test\\mammo10.png: 640x640 (no detections), 14.0ms\n",
      "image 4/361 C:\\Users\\manolakisd\\yolov5\\images\\test\\mammo100.png: 640x640 1 mass, 17.6ms\n",
      "image 5/361 C:\\Users\\manolakisd\\yolov5\\images\\test\\mammo101.png: 640x640 1 mass, 13.0ms\n",
      "image 6/361 C:\\Users\\manolakisd\\yolov5\\images\\test\\mammo102.png: 640x640 1 mass, 13.4ms\n",
      "image 7/361 C:\\Users\\manolakisd\\yolov5\\images\\test\\mammo103.png: 640x640 1 mass, 15.0ms\n",
      "image 8/361 C:\\Users\\manolakisd\\yolov5\\images\\test\\mammo104.png: 640x640 (no detections), 14.0ms\n",
      "image 9/361 C:\\Users\\manolakisd\\yolov5\\images\\test\\mammo105.png: 640x640 (no detections), 12.9ms\n",
      "image 10/361 C:\\Users\\manolakisd\\yolov5\\images\\test\\mammo106.png: 640x640 1 mass, 15.0ms\n",
      "image 11/361 C:\\Users\\manolakisd\\yolov5\\images\\test\\mammo107.png: 640x640 1 mass, 15.0ms\n",
      "image 12/361 C:\\Users\\manolakisd\\yolov5\\images\\test\\mammo108.png: 640x640 1 mass, 14.9ms\n",
      "image 13/361 C:\\Users\\manolakisd\\yolov5\\images\\test\\mammo109.png: 640x640 1 mass, 14.0ms\n",
      "image 14/361 C:\\Users\\manolakisd\\yolov5\\images\\test\\mammo11.png: 640x640 1 mass, 14.0ms\n",
      "image 15/361 C:\\Users\\manolakisd\\yolov5\\images\\test\\mammo110.png: 640x640 1 mass, 15.0ms\n",
      "image 16/361 C:\\Users\\manolakisd\\yolov5\\images\\test\\mammo111.png: 640x640 1 mass, 14.5ms\n",
      "image 17/361 C:\\Users\\manolakisd\\yolov5\\images\\test\\mammo112.png: 640x640 2 masss, 11.9ms\n",
      "image 18/361 C:\\Users\\manolakisd\\yolov5\\images\\test\\mammo113.png: 640x640 (no detections), 15.9ms\n",
      "image 19/361 C:\\Users\\manolakisd\\yolov5\\images\\test\\mammo114.png: 640x640 1 mass, 14.0ms\n",
      "image 20/361 C:\\Users\\manolakisd\\yolov5\\images\\test\\mammo115.png: 640x640 2 masss, 14.0ms\n",
      "image 21/361 C:\\Users\\manolakisd\\yolov5\\images\\test\\mammo116.png: 640x640 2 masss, 15.0ms\n",
      "image 22/361 C:\\Users\\manolakisd\\yolov5\\images\\test\\mammo117.png: 640x640 1 mass, 12.9ms\n",
      "image 23/361 C:\\Users\\manolakisd\\yolov5\\images\\test\\mammo118.png: 640x640 1 mass, 17.0ms\n",
      "image 24/361 C:\\Users\\manolakisd\\yolov5\\images\\test\\mammo119.png: 640x640 1 mass, 18.9ms\n",
      "image 25/361 C:\\Users\\manolakisd\\yolov5\\images\\test\\mammo12.png: 640x640 (no detections), 15.0ms\n",
      "image 26/361 C:\\Users\\manolakisd\\yolov5\\images\\test\\mammo120.png: 640x640 1 mass, 21.6ms\n",
      "image 27/361 C:\\Users\\manolakisd\\yolov5\\images\\test\\mammo121.png: 640x640 1 mass, 15.9ms\n",
      "image 28/361 C:\\Users\\manolakisd\\yolov5\\images\\test\\mammo122.png: 640x640 (no detections), 14.9ms\n",
      "image 29/361 C:\\Users\\manolakisd\\yolov5\\images\\test\\mammo123.png: 640x640 (no detections), 15.0ms\n",
      "image 30/361 C:\\Users\\manolakisd\\yolov5\\images\\test\\mammo124.png: 640x640 (no detections), 18.0ms\n",
      "image 31/361 C:\\Users\\manolakisd\\yolov5\\images\\test\\mammo125.png: 640x640 2 masss, 14.9ms\n",
      "image 32/361 C:\\Users\\manolakisd\\yolov5\\images\\test\\mammo126.png: 640x640 2 masss, 15.0ms\n",
      "image 33/361 C:\\Users\\manolakisd\\yolov5\\images\\test\\mammo127.png: 640x640 1 mass, 25.3ms\n",
      "image 34/361 C:\\Users\\manolakisd\\yolov5\\images\\test\\mammo128.png: 640x640 1 mass, 18.9ms\n",
      "image 35/361 C:\\Users\\manolakisd\\yolov5\\images\\test\\mammo129.png: 640x640 1 mass, 16.9ms\n",
      "image 36/361 C:\\Users\\manolakisd\\yolov5\\images\\test\\mammo13.png: 640x640 1 mass, 14.9ms\n",
      "image 37/361 C:\\Users\\manolakisd\\yolov5\\images\\test\\mammo130.png: 640x640 1 mass, 17.0ms\n",
      "image 38/361 C:\\Users\\manolakisd\\yolov5\\images\\test\\mammo131.png: 640x640 1 mass, 18.0ms\n",
      "image 39/361 C:\\Users\\manolakisd\\yolov5\\images\\test\\mammo132.png: 640x640 (no detections), 15.2ms\n",
      "image 40/361 C:\\Users\\manolakisd\\yolov5\\images\\test\\mammo133.png: 640x640 (no detections), 16.0ms\n",
      "image 41/361 C:\\Users\\manolakisd\\yolov5\\images\\test\\mammo134.png: 640x640 (no detections), 23.9ms\n",
      "image 42/361 C:\\Users\\manolakisd\\yolov5\\images\\test\\mammo135.png: 640x640 (no detections), 15.0ms\n",
      "image 43/361 C:\\Users\\manolakisd\\yolov5\\images\\test\\mammo136.png: 640x640 1 mass, 15.0ms\n",
      "image 44/361 C:\\Users\\manolakisd\\yolov5\\images\\test\\mammo137.png: 640x640 1 mass, 15.0ms\n",
      "image 45/361 C:\\Users\\manolakisd\\yolov5\\images\\test\\mammo138.png: 640x640 1 mass, 14.0ms\n",
      "image 46/361 C:\\Users\\manolakisd\\yolov5\\images\\test\\mammo139.png: 640x640 (no detections), 14.7ms\n",
      "image 47/361 C:\\Users\\manolakisd\\yolov5\\images\\test\\mammo14.png: 640x640 1 mass, 20.3ms\n",
      "image 48/361 C:\\Users\\manolakisd\\yolov5\\images\\test\\mammo140.png: 640x640 (no detections), 16.0ms\n",
      "image 49/361 C:\\Users\\manolakisd\\yolov5\\images\\test\\mammo141.png: 640x640 1 mass, 17.9ms\n",
      "image 50/361 C:\\Users\\manolakisd\\yolov5\\images\\test\\mammo142.png: 640x640 1 mass, 15.0ms\n",
      "image 51/361 C:\\Users\\manolakisd\\yolov5\\images\\test\\mammo143.png: 640x640 1 mass, 14.9ms\n",
      "image 52/361 C:\\Users\\manolakisd\\yolov5\\images\\test\\mammo144.png: 640x640 (no detections), 21.9ms\n",
      "image 53/361 C:\\Users\\manolakisd\\yolov5\\images\\test\\mammo145.png: 640x640 2 masss, 16.0ms\n",
      "image 54/361 C:\\Users\\manolakisd\\yolov5\\images\\test\\mammo146.png: 640x640 1 mass, 14.0ms\n",
      "image 55/361 C:\\Users\\manolakisd\\yolov5\\images\\test\\mammo147.png: 640x640 1 mass, 16.0ms\n",
      "image 56/361 C:\\Users\\manolakisd\\yolov5\\images\\test\\mammo148.png: 640x640 1 mass, 31.9ms\n",
      "image 57/361 C:\\Users\\manolakisd\\yolov5\\images\\test\\mammo149.png: 640x640 1 mass, 21.9ms\n",
      "image 58/361 C:\\Users\\manolakisd\\yolov5\\images\\test\\mammo15.png: 640x640 1 mass, 14.0ms\n",
      "image 59/361 C:\\Users\\manolakisd\\yolov5\\images\\test\\mammo150.png: 640x640 1 mass, 15.0ms\n",
      "image 60/361 C:\\Users\\manolakisd\\yolov5\\images\\test\\mammo151.png: 640x640 2 masss, 14.5ms\n",
      "image 61/361 C:\\Users\\manolakisd\\yolov5\\images\\test\\mammo152.png: 640x640 (no detections), 15.0ms\n",
      "image 62/361 C:\\Users\\manolakisd\\yolov5\\images\\test\\mammo153.png: 640x640 (no detections), 14.0ms\n",
      "image 63/361 C:\\Users\\manolakisd\\yolov5\\images\\test\\mammo154.png: 640x640 1 mass, 15.0ms\n",
      "image 64/361 C:\\Users\\manolakisd\\yolov5\\images\\test\\mammo155.png: 640x640 1 mass, 15.9ms\n",
      "image 65/361 C:\\Users\\manolakisd\\yolov5\\images\\test\\mammo156.png: 640x640 1 mass, 15.0ms\n",
      "image 66/361 C:\\Users\\manolakisd\\yolov5\\images\\test\\mammo157.png: 640x640 1 mass, 15.0ms\n",
      "image 67/361 C:\\Users\\manolakisd\\yolov5\\images\\test\\mammo158.png: 640x640 1 mass, 14.0ms\n",
      "image 68/361 C:\\Users\\manolakisd\\yolov5\\images\\test\\mammo159.png: 640x640 (no detections), 15.0ms\n",
      "image 69/361 C:\\Users\\manolakisd\\yolov5\\images\\test\\mammo16.png: 640x640 1 mass, 16.0ms\n",
      "image 70/361 C:\\Users\\manolakisd\\yolov5\\images\\test\\mammo160.png: 640x640 2 masss, 14.0ms\n",
      "image 71/361 C:\\Users\\manolakisd\\yolov5\\images\\test\\mammo161.png: 640x640 (no detections), 16.0ms\n",
      "image 72/361 C:\\Users\\manolakisd\\yolov5\\images\\test\\mammo162.png: 640x640 2 masss, 20.0ms\n",
      "image 73/361 C:\\Users\\manolakisd\\yolov5\\images\\test\\mammo163.png: 640x640 2 masss, 14.0ms\n",
      "image 74/361 C:\\Users\\manolakisd\\yolov5\\images\\test\\mammo164.png: 640x640 (no detections), 15.0ms\n",
      "image 75/361 C:\\Users\\manolakisd\\yolov5\\images\\test\\mammo165.png: 640x640 1 mass, 14.9ms\n",
      "image 76/361 C:\\Users\\manolakisd\\yolov5\\images\\test\\mammo166.png: 640x640 (no detections), 16.0ms\n",
      "image 77/361 C:\\Users\\manolakisd\\yolov5\\images\\test\\mammo167.png: 640x640 (no detections), 15.0ms\n",
      "image 78/361 C:\\Users\\manolakisd\\yolov5\\images\\test\\mammo168.png: 640x640 (no detections), 15.0ms\n",
      "image 79/361 C:\\Users\\manolakisd\\yolov5\\images\\test\\mammo169.png: 640x640 (no detections), 15.0ms\n",
      "image 80/361 C:\\Users\\manolakisd\\yolov5\\images\\test\\mammo17.png: 640x640 1 mass, 15.5ms\n",
      "image 81/361 C:\\Users\\manolakisd\\yolov5\\images\\test\\mammo170.png: 640x640 (no detections), 14.0ms\n",
      "image 82/361 C:\\Users\\manolakisd\\yolov5\\images\\test\\mammo171.png: 640x640 1 mass, 16.0ms\n",
      "image 83/361 C:\\Users\\manolakisd\\yolov5\\images\\test\\mammo172.png: 640x640 1 mass, 13.0ms\n",
      "image 84/361 C:\\Users\\manolakisd\\yolov5\\images\\test\\mammo173.png: 640x640 2 masss, 14.9ms\n",
      "image 85/361 C:\\Users\\manolakisd\\yolov5\\images\\test\\mammo174.png: 640x640 1 mass, 15.0ms\n",
      "image 86/361 C:\\Users\\manolakisd\\yolov5\\images\\test\\mammo175.png: 640x640 1 mass, 14.5ms\n",
      "image 87/361 C:\\Users\\manolakisd\\yolov5\\images\\test\\mammo176.png: 640x640 (no detections), 13.8ms\n",
      "image 88/361 C:\\Users\\manolakisd\\yolov5\\images\\test\\mammo177.png: 640x640 (no detections), 15.0ms\n",
      "image 89/361 C:\\Users\\manolakisd\\yolov5\\images\\test\\mammo178.png: 640x640 (no detections), 14.0ms\n",
      "image 90/361 C:\\Users\\manolakisd\\yolov5\\images\\test\\mammo179.png: 640x640 1 mass, 14.5ms\n",
      "image 91/361 C:\\Users\\manolakisd\\yolov5\\images\\test\\mammo18.png: 640x640 (no detections), 12.0ms\n",
      "image 92/361 C:\\Users\\manolakisd\\yolov5\\images\\test\\mammo180.png: 640x640 2 masss, 14.0ms\n",
      "image 93/361 C:\\Users\\manolakisd\\yolov5\\images\\test\\mammo181.png: 640x640 (no detections), 24.5ms\n",
      "image 94/361 C:\\Users\\manolakisd\\yolov5\\images\\test\\mammo182.png: 640x640 (no detections), 27.8ms\n",
      "image 95/361 C:\\Users\\manolakisd\\yolov5\\images\\test\\mammo183.png: 640x640 (no detections), 18.0ms\n",
      "image 96/361 C:\\Users\\manolakisd\\yolov5\\images\\test\\mammo184.png: 640x640 2 masss, 15.0ms\n",
      "image 97/361 C:\\Users\\manolakisd\\yolov5\\images\\test\\mammo185.png: 640x640 1 mass, 13.0ms\n",
      "image 98/361 C:\\Users\\manolakisd\\yolov5\\images\\test\\mammo186.png: 640x640 (no detections), 14.9ms\n",
      "image 99/361 C:\\Users\\manolakisd\\yolov5\\images\\test\\mammo187.png: 640x640 (no detections), 16.9ms\n",
      "image 100/361 C:\\Users\\manolakisd\\yolov5\\images\\test\\mammo188.png: 640x640 1 mass, 15.0ms\n",
      "image 101/361 C:\\Users\\manolakisd\\yolov5\\images\\test\\mammo189.png: 640x640 1 mass, 15.0ms\n",
      "image 102/361 C:\\Users\\manolakisd\\yolov5\\images\\test\\mammo19.png: 640x640 1 mass, 14.9ms\n",
      "image 103/361 C:\\Users\\manolakisd\\yolov5\\images\\test\\mammo190.png: 640x640 1 mass, 15.0ms\n",
      "image 104/361 C:\\Users\\manolakisd\\yolov5\\images\\test\\mammo191.png: 640x640 1 mass, 16.0ms\n",
      "image 105/361 C:\\Users\\manolakisd\\yolov5\\images\\test\\mammo192.png: 640x640 (no detections), 16.9ms\n",
      "image 106/361 C:\\Users\\manolakisd\\yolov5\\images\\test\\mammo193.png: 640x640 (no detections), 20.0ms\n",
      "image 107/361 C:\\Users\\manolakisd\\yolov5\\images\\test\\mammo194.png: 640x640 4 masss, 16.0ms\n",
      "image 108/361 C:\\Users\\manolakisd\\yolov5\\images\\test\\mammo195.png: 640x640 1 mass, 16.0ms\n",
      "image 109/361 C:\\Users\\manolakisd\\yolov5\\images\\test\\mammo196.png: 640x640 (no detections), 15.0ms\n",
      "image 110/361 C:\\Users\\manolakisd\\yolov5\\images\\test\\mammo197.png: 640x640 1 mass, 15.0ms\n",
      "image 111/361 C:\\Users\\manolakisd\\yolov5\\images\\test\\mammo198.png: 640x640 (no detections), 14.0ms\n",
      "image 112/361 C:\\Users\\manolakisd\\yolov5\\images\\test\\mammo199.png: 640x640 1 mass, 14.9ms\n",
      "image 113/361 C:\\Users\\manolakisd\\yolov5\\images\\test\\mammo2.png: 640x640 1 mass, 12.0ms\n",
      "image 114/361 C:\\Users\\manolakisd\\yolov5\\images\\test\\mammo20.png: 640x640 1 mass, 14.9ms\n",
      "image 115/361 C:\\Users\\manolakisd\\yolov5\\images\\test\\mammo200.png: 640x640 (no detections), 15.0ms\n",
      "image 116/361 C:\\Users\\manolakisd\\yolov5\\images\\test\\mammo201.png: 640x640 (no detections), 15.0ms\n",
      "image 117/361 C:\\Users\\manolakisd\\yolov5\\images\\test\\mammo202.png: 640x640 1 mass, 14.0ms\n",
      "image 118/361 C:\\Users\\manolakisd\\yolov5\\images\\test\\mammo203.png: 640x640 1 mass, 12.0ms\n",
      "image 119/361 C:\\Users\\manolakisd\\yolov5\\images\\test\\mammo204.png: 640x640 1 mass, 15.9ms\n",
      "image 120/361 C:\\Users\\manolakisd\\yolov5\\images\\test\\mammo205.png: 640x640 1 mass, 14.0ms\n",
      "image 121/361 C:\\Users\\manolakisd\\yolov5\\images\\test\\mammo206.png: 640x640 1 mass, 14.0ms\n",
      "image 122/361 C:\\Users\\manolakisd\\yolov5\\images\\test\\mammo207.png: 640x640 2 masss, 15.0ms\n",
      "image 123/361 C:\\Users\\manolakisd\\yolov5\\images\\test\\mammo208.png: 640x640 1 mass, 12.0ms\n",
      "image 124/361 C:\\Users\\manolakisd\\yolov5\\images\\test\\mammo209.png: 640x640 2 masss, 18.9ms\n",
      "image 125/361 C:\\Users\\manolakisd\\yolov5\\images\\test\\mammo21.png: 640x640 1 mass, 16.0ms\n",
      "image 126/361 C:\\Users\\manolakisd\\yolov5\\images\\test\\mammo210.png: 640x640 2 masss, 13.0ms\n",
      "image 127/361 C:\\Users\\manolakisd\\yolov5\\images\\test\\mammo211.png: 640x640 2 masss, 14.0ms\n",
      "image 128/361 C:\\Users\\manolakisd\\yolov5\\images\\test\\mammo212.png: 640x640 1 mass, 14.0ms\n",
      "image 129/361 C:\\Users\\manolakisd\\yolov5\\images\\test\\mammo213.png: 640x640 2 masss, 15.0ms\n",
      "image 130/361 C:\\Users\\manolakisd\\yolov5\\images\\test\\mammo214.png: 640x640 1 mass, 13.0ms\n",
      "image 131/361 C:\\Users\\manolakisd\\yolov5\\images\\test\\mammo215.png: 640x640 (no detections), 14.0ms\n",
      "image 132/361 C:\\Users\\manolakisd\\yolov5\\images\\test\\mammo216.png: 640x640 1 mass, 15.0ms\n",
      "image 133/361 C:\\Users\\manolakisd\\yolov5\\images\\test\\mammo217.png: 640x640 1 mass, 12.0ms\n",
      "image 134/361 C:\\Users\\manolakisd\\yolov5\\images\\test\\mammo218.png: 640x640 (no detections), 16.0ms\n",
      "image 135/361 C:\\Users\\manolakisd\\yolov5\\images\\test\\mammo219.png: 640x640 1 mass, 15.9ms\n",
      "image 136/361 C:\\Users\\manolakisd\\yolov5\\images\\test\\mammo22.png: 640x640 1 mass, 15.0ms\n",
      "image 137/361 C:\\Users\\manolakisd\\yolov5\\images\\test\\mammo220.png: 640x640 1 mass, 28.9ms\n",
      "image 138/361 C:\\Users\\manolakisd\\yolov5\\images\\test\\mammo221.png: 640x640 (no detections), 18.9ms\n",
      "image 139/361 C:\\Users\\manolakisd\\yolov5\\images\\test\\mammo222.png: 640x640 1 mass, 16.9ms\n",
      "image 140/361 C:\\Users\\manolakisd\\yolov5\\images\\test\\mammo223.png: 640x640 1 mass, 17.9ms\n",
      "image 141/361 C:\\Users\\manolakisd\\yolov5\\images\\test\\mammo224.png: 640x640 1 mass, 14.9ms\n",
      "image 142/361 C:\\Users\\manolakisd\\yolov5\\images\\test\\mammo225.png: 640x640 (no detections), 28.9ms\n",
      "image 143/361 C:\\Users\\manolakisd\\yolov5\\images\\test\\mammo226.png: 640x640 (no detections), 18.9ms\n",
      "image 144/361 C:\\Users\\manolakisd\\yolov5\\images\\test\\mammo227.png: 640x640 (no detections), 15.0ms\n",
      "image 145/361 C:\\Users\\manolakisd\\yolov5\\images\\test\\mammo228.png: 640x640 (no detections), 13.0ms\n",
      "image 146/361 C:\\Users\\manolakisd\\yolov5\\images\\test\\mammo229.png: 640x640 1 mass, 15.0ms\n",
      "image 147/361 C:\\Users\\manolakisd\\yolov5\\images\\test\\mammo23.png: 640x640 (no detections), 15.0ms\n",
      "image 148/361 C:\\Users\\manolakisd\\yolov5\\images\\test\\mammo230.png: 640x640 (no detections), 14.0ms\n",
      "image 149/361 C:\\Users\\manolakisd\\yolov5\\images\\test\\mammo231.png: 640x640 (no detections), 14.0ms\n",
      "image 150/361 C:\\Users\\manolakisd\\yolov5\\images\\test\\mammo232.png: 640x640 1 mass, 14.0ms\n",
      "image 151/361 C:\\Users\\manolakisd\\yolov5\\images\\test\\mammo233.png: 640x640 1 mass, 14.0ms\n",
      "image 152/361 C:\\Users\\manolakisd\\yolov5\\images\\test\\mammo234.png: 640x640 1 mass, 14.0ms\n",
      "image 153/361 C:\\Users\\manolakisd\\yolov5\\images\\test\\mammo235.png: 640x640 1 mass, 14.0ms\n",
      "image 154/361 C:\\Users\\manolakisd\\yolov5\\images\\test\\mammo236.png: 640x640 (no detections), 14.0ms\n",
      "image 155/361 C:\\Users\\manolakisd\\yolov5\\images\\test\\mammo237.png: 640x640 (no detections), 14.0ms\n",
      "image 156/361 C:\\Users\\manolakisd\\yolov5\\images\\test\\mammo238.png: 640x640 2 masss, 13.0ms\n",
      "image 157/361 C:\\Users\\manolakisd\\yolov5\\images\\test\\mammo239.png: 640x640 1 mass, 12.0ms\n",
      "image 158/361 C:\\Users\\manolakisd\\yolov5\\images\\test\\mammo24.png: 640x640 1 mass, 14.9ms\n",
      "image 159/361 C:\\Users\\manolakisd\\yolov5\\images\\test\\mammo240.png: 640x640 1 mass, 13.0ms\n",
      "image 160/361 C:\\Users\\manolakisd\\yolov5\\images\\test\\mammo241.png: 640x640 1 mass, 13.0ms\n",
      "image 161/361 C:\\Users\\manolakisd\\yolov5\\images\\test\\mammo242.png: 640x640 (no detections), 13.9ms\n",
      "image 162/361 C:\\Users\\manolakisd\\yolov5\\images\\test\\mammo243.png: 640x640 (no detections), 22.9ms\n",
      "image 163/361 C:\\Users\\manolakisd\\yolov5\\images\\test\\mammo244.png: 640x640 (no detections), 21.9ms\n",
      "image 164/361 C:\\Users\\manolakisd\\yolov5\\images\\test\\mammo245.png: 640x640 (no detections), 21.9ms\n",
      "image 165/361 C:\\Users\\manolakisd\\yolov5\\images\\test\\mammo246.png: 640x640 1 mass, 31.9ms\n",
      "image 166/361 C:\\Users\\manolakisd\\yolov5\\images\\test\\mammo247.png: 640x640 1 mass, 22.9ms\n",
      "image 167/361 C:\\Users\\manolakisd\\yolov5\\images\\test\\mammo248.png: 640x640 1 mass, 24.9ms\n",
      "image 168/361 C:\\Users\\manolakisd\\yolov5\\images\\test\\mammo249.png: 640x640 1 mass, 17.0ms\n",
      "image 169/361 C:\\Users\\manolakisd\\yolov5\\images\\test\\mammo25.png: 640x640 1 mass, 16.0ms\n",
      "image 170/361 C:\\Users\\manolakisd\\yolov5\\images\\test\\mammo250.png: 640x640 1 mass, 17.9ms\n",
      "image 171/361 C:\\Users\\manolakisd\\yolov5\\images\\test\\mammo251.png: 640x640 1 mass, 15.9ms\n",
      "image 172/361 C:\\Users\\manolakisd\\yolov5\\images\\test\\mammo252.png: 640x640 (no detections), 17.0ms\n",
      "image 173/361 C:\\Users\\manolakisd\\yolov5\\images\\test\\mammo253.png: 640x640 1 mass, 17.0ms\n",
      "image 174/361 C:\\Users\\manolakisd\\yolov5\\images\\test\\mammo254.png: 640x640 1 mass, 17.9ms\n",
      "image 175/361 C:\\Users\\manolakisd\\yolov5\\images\\test\\mammo255.png: 640x640 1 mass, 15.0ms\n",
      "image 176/361 C:\\Users\\manolakisd\\yolov5\\images\\test\\mammo256.png: 640x640 1 mass, 16.0ms\n",
      "image 177/361 C:\\Users\\manolakisd\\yolov5\\images\\test\\mammo257.png: 640x640 1 mass, 17.9ms\n",
      "image 178/361 C:\\Users\\manolakisd\\yolov5\\images\\test\\mammo258.png: 640x640 2 masss, 16.0ms\n",
      "image 179/361 C:\\Users\\manolakisd\\yolov5\\images\\test\\mammo259.png: 640x640 1 mass, 17.9ms\n",
      "image 180/361 C:\\Users\\manolakisd\\yolov5\\images\\test\\mammo26.png: 640x640 1 mass, 17.0ms\n",
      "image 181/361 C:\\Users\\manolakisd\\yolov5\\images\\test\\mammo260.png: 640x640 2 masss, 16.9ms\n",
      "image 182/361 C:\\Users\\manolakisd\\yolov5\\images\\test\\mammo261.png: 640x640 (no detections), 17.0ms\n",
      "image 183/361 C:\\Users\\manolakisd\\yolov5\\images\\test\\mammo262.png: 640x640 1 mass, 17.0ms\n",
      "image 184/361 C:\\Users\\manolakisd\\yolov5\\images\\test\\mammo263.png: 640x640 1 mass, 20.9ms\n",
      "image 185/361 C:\\Users\\manolakisd\\yolov5\\images\\test\\mammo264.png: 640x640 (no detections), 22.0ms\n",
      "image 186/361 C:\\Users\\manolakisd\\yolov5\\images\\test\\mammo265.png: 640x640 (no detections), 18.0ms\n",
      "image 187/361 C:\\Users\\manolakisd\\yolov5\\images\\test\\mammo266.png: 640x640 1 mass, 18.0ms\n",
      "image 188/361 C:\\Users\\manolakisd\\yolov5\\images\\test\\mammo267.png: 640x640 1 mass, 18.0ms\n",
      "image 189/361 C:\\Users\\manolakisd\\yolov5\\images\\test\\mammo268.png: 640x640 (no detections), 17.0ms\n",
      "image 190/361 C:\\Users\\manolakisd\\yolov5\\images\\test\\mammo269.png: 640x640 1 mass, 17.9ms\n",
      "image 191/361 C:\\Users\\manolakisd\\yolov5\\images\\test\\mammo27.png: 640x640 1 mass, 18.9ms\n",
      "image 192/361 C:\\Users\\manolakisd\\yolov5\\images\\test\\mammo270.png: 640x640 2 masss, 17.0ms\n",
      "image 193/361 C:\\Users\\manolakisd\\yolov5\\images\\test\\mammo271.png: 640x640 (no detections), 19.0ms\n",
      "image 194/361 C:\\Users\\manolakisd\\yolov5\\images\\test\\mammo272.png: 640x640 (no detections), 18.0ms\n",
      "image 195/361 C:\\Users\\manolakisd\\yolov5\\images\\test\\mammo273.png: 640x640 2 masss, 17.0ms\n",
      "image 196/361 C:\\Users\\manolakisd\\yolov5\\images\\test\\mammo274.png: 640x640 (no detections), 16.9ms\n",
      "image 197/361 C:\\Users\\manolakisd\\yolov5\\images\\test\\mammo275.png: 640x640 2 masss, 21.9ms\n",
      "image 198/361 C:\\Users\\manolakisd\\yolov5\\images\\test\\mammo276.png: 640x640 1 mass, 31.9ms\n",
      "image 199/361 C:\\Users\\manolakisd\\yolov5\\images\\test\\mammo277.png: 640x640 (no detections), 23.9ms\n",
      "image 200/361 C:\\Users\\manolakisd\\yolov5\\images\\test\\mammo278.png: 640x640 1 mass, 22.9ms\n",
      "image 201/361 C:\\Users\\manolakisd\\yolov5\\images\\test\\mammo279.png: 640x640 1 mass, 22.0ms\n",
      "image 202/361 C:\\Users\\manolakisd\\yolov5\\images\\test\\mammo28.png: 640x640 2 masss, 27.4ms\n",
      "image 203/361 C:\\Users\\manolakisd\\yolov5\\images\\test\\mammo280.png: 640x640 1 mass, 23.9ms\n",
      "image 204/361 C:\\Users\\manolakisd\\yolov5\\images\\test\\mammo281.png: 640x640 1 mass, 22.9ms\n",
      "image 205/361 C:\\Users\\manolakisd\\yolov5\\images\\test\\mammo282.png: 640x640 (no detections), 22.9ms\n",
      "image 206/361 C:\\Users\\manolakisd\\yolov5\\images\\test\\mammo283.png: 640x640 (no detections), 19.9ms\n",
      "image 207/361 C:\\Users\\manolakisd\\yolov5\\images\\test\\mammo284.png: 640x640 (no detections), 21.9ms\n",
      "image 208/361 C:\\Users\\manolakisd\\yolov5\\images\\test\\mammo285.png: 640x640 (no detections), 19.7ms\n",
      "image 209/361 C:\\Users\\manolakisd\\yolov5\\images\\test\\mammo286.png: 640x640 (no detections), 17.0ms\n",
      "image 210/361 C:\\Users\\manolakisd\\yolov5\\images\\test\\mammo287.png: 640x640 1 mass, 24.9ms\n",
      "image 211/361 C:\\Users\\manolakisd\\yolov5\\images\\test\\mammo288.png: 640x640 1 mass, 17.0ms\n",
      "image 212/361 C:\\Users\\manolakisd\\yolov5\\images\\test\\mammo289.png: 640x640 1 mass, 20.9ms\n",
      "image 213/361 C:\\Users\\manolakisd\\yolov5\\images\\test\\mammo29.png: 640x640 (no detections), 24.9ms\n",
      "image 214/361 C:\\Users\\manolakisd\\yolov5\\images\\test\\mammo290.png: 640x640 (no detections), 19.9ms\n",
      "image 215/361 C:\\Users\\manolakisd\\yolov5\\images\\test\\mammo291.png: 640x640 (no detections), 18.9ms\n",
      "image 216/361 C:\\Users\\manolakisd\\yolov5\\images\\test\\mammo292.png: 640x640 1 mass, 21.9ms\n",
      "image 217/361 C:\\Users\\manolakisd\\yolov5\\images\\test\\mammo293.png: 640x640 1 mass, 19.9ms\n",
      "image 218/361 C:\\Users\\manolakisd\\yolov5\\images\\test\\mammo294.png: 640x640 2 masss, 23.0ms\n",
      "image 219/361 C:\\Users\\manolakisd\\yolov5\\images\\test\\mammo295.png: 640x640 1 mass, 21.9ms\n",
      "image 220/361 C:\\Users\\manolakisd\\yolov5\\images\\test\\mammo296.png: 640x640 1 mass, 25.0ms\n",
      "image 221/361 C:\\Users\\manolakisd\\yolov5\\images\\test\\mammo297.png: 640x640 1 mass, 24.9ms\n",
      "image 222/361 C:\\Users\\manolakisd\\yolov5\\images\\test\\mammo298.png: 640x640 (no detections), 25.9ms\n",
      "image 223/361 C:\\Users\\manolakisd\\yolov5\\images\\test\\mammo299.png: 640x640 (no detections), 25.9ms\n",
      "image 224/361 C:\\Users\\manolakisd\\yolov5\\images\\test\\mammo3.png: 640x640 2 masss, 23.9ms\n",
      "image 225/361 C:\\Users\\manolakisd\\yolov5\\images\\test\\mammo30.png: 640x640 (no detections), 26.0ms\n",
      "image 226/361 C:\\Users\\manolakisd\\yolov5\\images\\test\\mammo300.png: 640x640 1 mass, 25.9ms\n",
      "image 227/361 C:\\Users\\manolakisd\\yolov5\\images\\test\\mammo301.png: 640x640 1 mass, 22.9ms\n",
      "image 228/361 C:\\Users\\manolakisd\\yolov5\\images\\test\\mammo302.png: 640x640 1 mass, 24.9ms\n",
      "image 229/361 C:\\Users\\manolakisd\\yolov5\\images\\test\\mammo303.png: 640x640 1 mass, 23.9ms\n",
      "image 230/361 C:\\Users\\manolakisd\\yolov5\\images\\test\\mammo304.png: 640x640 1 mass, 28.0ms\n",
      "image 231/361 C:\\Users\\manolakisd\\yolov5\\images\\test\\mammo305.png: 640x640 1 mass, 23.9ms\n",
      "image 232/361 C:\\Users\\manolakisd\\yolov5\\images\\test\\mammo306.png: 640x640 (no detections), 23.9ms\n",
      "image 233/361 C:\\Users\\manolakisd\\yolov5\\images\\test\\mammo307.png: 640x640 1 mass, 25.0ms\n",
      "image 234/361 C:\\Users\\manolakisd\\yolov5\\images\\test\\mammo308.png: 640x640 1 mass, 22.9ms\n",
      "image 235/361 C:\\Users\\manolakisd\\yolov5\\images\\test\\mammo309.png: 640x640 1 mass, 24.9ms\n",
      "image 236/361 C:\\Users\\manolakisd\\yolov5\\images\\test\\mammo31.png: 640x640 1 mass, 24.9ms\n",
      "image 237/361 C:\\Users\\manolakisd\\yolov5\\images\\test\\mammo310.png: 640x640 1 mass, 24.9ms\n",
      "image 238/361 C:\\Users\\manolakisd\\yolov5\\images\\test\\mammo311.png: 640x640 1 mass, 24.9ms\n",
      "image 239/361 C:\\Users\\manolakisd\\yolov5\\images\\test\\mammo312.png: 640x640 1 mass, 24.9ms\n",
      "image 240/361 C:\\Users\\manolakisd\\yolov5\\images\\test\\mammo313.png: 640x640 1 mass, 23.4ms\n",
      "image 241/361 C:\\Users\\manolakisd\\yolov5\\images\\test\\mammo314.png: 640x640 1 mass, 26.9ms\n",
      "image 242/361 C:\\Users\\manolakisd\\yolov5\\images\\test\\mammo315.png: 640x640 1 mass, 33.9ms\n",
      "image 243/361 C:\\Users\\manolakisd\\yolov5\\images\\test\\mammo316.png: 640x640 2 masss, 25.9ms\n",
      "image 244/361 C:\\Users\\manolakisd\\yolov5\\images\\test\\mammo317.png: 640x640 1 mass, 23.9ms\n",
      "image 245/361 C:\\Users\\manolakisd\\yolov5\\images\\test\\mammo318.png: 640x640 1 mass, 23.9ms\n",
      "image 246/361 C:\\Users\\manolakisd\\yolov5\\images\\test\\mammo319.png: 640x640 (no detections), 22.9ms\n",
      "image 247/361 C:\\Users\\manolakisd\\yolov5\\images\\test\\mammo32.png: 640x640 (no detections), 25.9ms\n",
      "image 248/361 C:\\Users\\manolakisd\\yolov5\\images\\test\\mammo320.png: 640x640 1 mass, 26.0ms\n",
      "image 249/361 C:\\Users\\manolakisd\\yolov5\\images\\test\\mammo321.png: 640x640 1 mass, 26.0ms\n",
      "image 250/361 C:\\Users\\manolakisd\\yolov5\\images\\test\\mammo322.png: 640x640 1 mass, 23.9ms\n",
      "image 251/361 C:\\Users\\manolakisd\\yolov5\\images\\test\\mammo323.png: 640x640 (no detections), 23.9ms\n",
      "image 252/361 C:\\Users\\manolakisd\\yolov5\\images\\test\\mammo324.png: 640x640 1 mass, 25.9ms\n",
      "image 253/361 C:\\Users\\manolakisd\\yolov5\\images\\test\\mammo325.png: 640x640 1 mass, 23.9ms\n",
      "image 254/361 C:\\Users\\manolakisd\\yolov5\\images\\test\\mammo326.png: 640x640 1 mass, 24.9ms\n",
      "image 255/361 C:\\Users\\manolakisd\\yolov5\\images\\test\\mammo327.png: 640x640 (no detections), 24.0ms\n",
      "image 256/361 C:\\Users\\manolakisd\\yolov5\\images\\test\\mammo328.png: 640x640 1 mass, 23.9ms\n",
      "image 257/361 C:\\Users\\manolakisd\\yolov5\\images\\test\\mammo329.png: 640x640 1 mass, 24.9ms\n",
      "image 258/361 C:\\Users\\manolakisd\\yolov5\\images\\test\\mammo33.png: 640x640 2 masss, 24.9ms\n",
      "image 259/361 C:\\Users\\manolakisd\\yolov5\\images\\test\\mammo330.png: 640x640 1 mass, 25.9ms\n",
      "image 260/361 C:\\Users\\manolakisd\\yolov5\\images\\test\\mammo331.png: 640x640 (no detections), 22.9ms\n",
      "image 261/361 C:\\Users\\manolakisd\\yolov5\\images\\test\\mammo332.png: 640x640 1 mass, 24.9ms\n",
      "image 262/361 C:\\Users\\manolakisd\\yolov5\\images\\test\\mammo333.png: 640x640 (no detections), 25.9ms\n",
      "image 263/361 C:\\Users\\manolakisd\\yolov5\\images\\test\\mammo334.png: 640x640 1 mass, 25.9ms\n",
      "image 264/361 C:\\Users\\manolakisd\\yolov5\\images\\test\\mammo335.png: 640x640 1 mass, 24.5ms\n",
      "image 265/361 C:\\Users\\manolakisd\\yolov5\\images\\test\\mammo336.png: 640x640 2 masss, 25.0ms\n",
      "image 266/361 C:\\Users\\manolakisd\\yolov5\\images\\test\\mammo337.png: 640x640 2 masss, 24.9ms\n",
      "image 267/361 C:\\Users\\manolakisd\\yolov5\\images\\test\\mammo338.png: 640x640 (no detections), 24.9ms\n",
      "image 268/361 C:\\Users\\manolakisd\\yolov5\\images\\test\\mammo339.png: 640x640 (no detections), 23.9ms\n",
      "image 269/361 C:\\Users\\manolakisd\\yolov5\\images\\test\\mammo34.png: 640x640 1 mass, 25.9ms\n",
      "image 270/361 C:\\Users\\manolakisd\\yolov5\\images\\test\\mammo340.png: 640x640 1 mass, 26.0ms\n",
      "image 271/361 C:\\Users\\manolakisd\\yolov5\\images\\test\\mammo341.png: 640x640 1 mass, 26.9ms\n",
      "image 272/361 C:\\Users\\manolakisd\\yolov5\\images\\test\\mammo342.png: 640x640 1 mass, 25.9ms\n",
      "image 273/361 C:\\Users\\manolakisd\\yolov5\\images\\test\\mammo343.png: 640x640 (no detections), 26.0ms\n",
      "image 274/361 C:\\Users\\manolakisd\\yolov5\\images\\test\\mammo344.png: 640x640 (no detections), 26.5ms\n",
      "image 275/361 C:\\Users\\manolakisd\\yolov5\\images\\test\\mammo345.png: 640x640 1 mass, 26.0ms\n",
      "image 276/361 C:\\Users\\manolakisd\\yolov5\\images\\test\\mammo346.png: 640x640 (no detections), 25.5ms\n",
      "image 277/361 C:\\Users\\manolakisd\\yolov5\\images\\test\\mammo347.png: 640x640 1 mass, 25.9ms\n",
      "image 278/361 C:\\Users\\manolakisd\\yolov5\\images\\test\\mammo348.png: 640x640 1 mass, 27.9ms\n",
      "image 279/361 C:\\Users\\manolakisd\\yolov5\\images\\test\\mammo349.png: 640x640 (no detections), 24.9ms\n",
      "image 280/361 C:\\Users\\manolakisd\\yolov5\\images\\test\\mammo35.png: 640x640 2 masss, 27.9ms\n",
      "image 281/361 C:\\Users\\manolakisd\\yolov5\\images\\test\\mammo350.png: 640x640 1 mass, 24.0ms\n",
      "image 282/361 C:\\Users\\manolakisd\\yolov5\\images\\test\\mammo351.png: 640x640 (no detections), 25.0ms\n",
      "image 283/361 C:\\Users\\manolakisd\\yolov5\\images\\test\\mammo352.png: 640x640 1 mass, 26.9ms\n",
      "image 284/361 C:\\Users\\manolakisd\\yolov5\\images\\test\\mammo353.png: 640x640 (no detections), 25.0ms\n",
      "image 285/361 C:\\Users\\manolakisd\\yolov5\\images\\test\\mammo354.png: 640x640 1 mass, 25.9ms\n",
      "image 286/361 C:\\Users\\manolakisd\\yolov5\\images\\test\\mammo355.png: 640x640 1 mass, 24.9ms\n",
      "image 287/361 C:\\Users\\manolakisd\\yolov5\\images\\test\\mammo356.png: 640x640 (no detections), 25.9ms\n",
      "image 288/361 C:\\Users\\manolakisd\\yolov5\\images\\test\\mammo357.png: 640x640 1 mass, 25.9ms\n",
      "image 289/361 C:\\Users\\manolakisd\\yolov5\\images\\test\\mammo358.png: 640x640 (no detections), 23.9ms\n",
      "image 290/361 C:\\Users\\manolakisd\\yolov5\\images\\test\\mammo359.png: 640x640 (no detections), 27.9ms\n",
      "image 291/361 C:\\Users\\manolakisd\\yolov5\\images\\test\\mammo36.png: 640x640 1 mass, 32.9ms\n",
      "image 292/361 C:\\Users\\manolakisd\\yolov5\\images\\test\\mammo360.png: 640x640 1 mass, 37.9ms\n",
      "image 293/361 C:\\Users\\manolakisd\\yolov5\\images\\test\\mammo37.png: 640x640 (no detections), 34.9ms\n",
      "image 294/361 C:\\Users\\manolakisd\\yolov5\\images\\test\\mammo38.png: 640x640 1 mass, 36.9ms\n",
      "image 295/361 C:\\Users\\manolakisd\\yolov5\\images\\test\\mammo39.png: 640x640 1 mass, 38.9ms\n",
      "image 296/361 C:\\Users\\manolakisd\\yolov5\\images\\test\\mammo4.png: 640x640 1 mass, 36.9ms\n",
      "image 297/361 C:\\Users\\manolakisd\\yolov5\\images\\test\\mammo40.png: 640x640 2 masss, 35.9ms\n",
      "image 298/361 C:\\Users\\manolakisd\\yolov5\\images\\test\\mammo41.png: 640x640 2 masss, 37.9ms\n",
      "image 299/361 C:\\Users\\manolakisd\\yolov5\\images\\test\\mammo42.png: 640x640 1 mass, 35.9ms\n",
      "image 300/361 C:\\Users\\manolakisd\\yolov5\\images\\test\\mammo43.png: 640x640 (no detections), 35.9ms\n",
      "image 301/361 C:\\Users\\manolakisd\\yolov5\\images\\test\\mammo44.png: 640x640 1 mass, 34.9ms\n",
      "image 302/361 C:\\Users\\manolakisd\\yolov5\\images\\test\\mammo45.png: 640x640 1 mass, 36.9ms\n",
      "image 303/361 C:\\Users\\manolakisd\\yolov5\\images\\test\\mammo46.png: 640x640 2 masss, 35.9ms\n",
      "image 304/361 C:\\Users\\manolakisd\\yolov5\\images\\test\\mammo47.png: 640x640 1 mass, 36.4ms\n",
      "image 305/361 C:\\Users\\manolakisd\\yolov5\\images\\test\\mammo48.png: 640x640 (no detections), 35.9ms\n",
      "image 306/361 C:\\Users\\manolakisd\\yolov5\\images\\test\\mammo49.png: 640x640 1 mass, 25.9ms\n",
      "image 307/361 C:\\Users\\manolakisd\\yolov5\\images\\test\\mammo5.png: 640x640 1 mass, 27.9ms\n",
      "image 308/361 C:\\Users\\manolakisd\\yolov5\\images\\test\\mammo50.png: 640x640 2 masss, 25.9ms\n",
      "image 309/361 C:\\Users\\manolakisd\\yolov5\\images\\test\\mammo51.png: 640x640 1 mass, 25.9ms\n",
      "image 310/361 C:\\Users\\manolakisd\\yolov5\\images\\test\\mammo52.png: 640x640 2 masss, 27.9ms\n",
      "image 311/361 C:\\Users\\manolakisd\\yolov5\\images\\test\\mammo53.png: 640x640 1 mass, 26.9ms\n",
      "image 312/361 C:\\Users\\manolakisd\\yolov5\\images\\test\\mammo54.png: 640x640 1 mass, 25.9ms\n",
      "image 313/361 C:\\Users\\manolakisd\\yolov5\\images\\test\\mammo55.png: 640x640 (no detections), 26.9ms\n",
      "image 314/361 C:\\Users\\manolakisd\\yolov5\\images\\test\\mammo56.png: 640x640 (no detections), 27.9ms\n",
      "image 315/361 C:\\Users\\manolakisd\\yolov5\\images\\test\\mammo57.png: 640x640 1 mass, 26.9ms\n",
      "image 316/361 C:\\Users\\manolakisd\\yolov5\\images\\test\\mammo58.png: 640x640 2 masss, 27.9ms\n",
      "image 317/361 C:\\Users\\manolakisd\\yolov5\\images\\test\\mammo59.png: 640x640 1 mass, 28.0ms\n",
      "image 318/361 C:\\Users\\manolakisd\\yolov5\\images\\test\\mammo6.png: 640x640 1 mass, 25.9ms\n",
      "image 319/361 C:\\Users\\manolakisd\\yolov5\\images\\test\\mammo60.png: 640x640 1 mass, 25.9ms\n",
      "image 320/361 C:\\Users\\manolakisd\\yolov5\\images\\test\\mammo61.png: 640x640 1 mass, 25.9ms\n",
      "image 321/361 C:\\Users\\manolakisd\\yolov5\\images\\test\\mammo62.png: 640x640 1 mass, 27.9ms\n",
      "image 322/361 C:\\Users\\manolakisd\\yolov5\\images\\test\\mammo63.png: 640x640 1 mass, 27.9ms\n",
      "image 323/361 C:\\Users\\manolakisd\\yolov5\\images\\test\\mammo64.png: 640x640 (no detections), 27.9ms\n",
      "image 324/361 C:\\Users\\manolakisd\\yolov5\\images\\test\\mammo65.png: 640x640 (no detections), 27.9ms\n",
      "image 325/361 C:\\Users\\manolakisd\\yolov5\\images\\test\\mammo66.png: 640x640 (no detections), 24.9ms\n",
      "image 326/361 C:\\Users\\manolakisd\\yolov5\\images\\test\\mammo67.png: 640x640 1 mass, 27.9ms\n",
      "image 327/361 C:\\Users\\manolakisd\\yolov5\\images\\test\\mammo68.png: 640x640 2 masss, 26.9ms\n",
      "image 328/361 C:\\Users\\manolakisd\\yolov5\\images\\test\\mammo69.png: 640x640 3 masss, 27.9ms\n",
      "image 329/361 C:\\Users\\manolakisd\\yolov5\\images\\test\\mammo7.png: 640x640 3 masss, 27.9ms\n",
      "image 330/361 C:\\Users\\manolakisd\\yolov5\\images\\test\\mammo70.png: 640x640 (no detections), 28.9ms\n",
      "image 331/361 C:\\Users\\manolakisd\\yolov5\\images\\test\\mammo71.png: 640x640 (no detections), 29.9ms\n",
      "image 332/361 C:\\Users\\manolakisd\\yolov5\\images\\test\\mammo72.png: 640x640 (no detections), 25.9ms\n",
      "image 333/361 C:\\Users\\manolakisd\\yolov5\\images\\test\\mammo73.png: 640x640 1 mass, 26.9ms\n",
      "image 334/361 C:\\Users\\manolakisd\\yolov5\\images\\test\\mammo74.png: 640x640 (no detections), 25.9ms\n",
      "image 335/361 C:\\Users\\manolakisd\\yolov5\\images\\test\\mammo75.png: 640x640 1 mass, 27.9ms\n",
      "image 336/361 C:\\Users\\manolakisd\\yolov5\\images\\test\\mammo76.png: 640x640 2 masss, 27.9ms\n",
      "image 337/361 C:\\Users\\manolakisd\\yolov5\\images\\test\\mammo77.png: 640x640 1 mass, 26.9ms\n",
      "image 338/361 C:\\Users\\manolakisd\\yolov5\\images\\test\\mammo78.png: 640x640 1 mass, 26.9ms\n",
      "image 339/361 C:\\Users\\manolakisd\\yolov5\\images\\test\\mammo79.png: 640x640 2 masss, 26.9ms\n",
      "image 340/361 C:\\Users\\manolakisd\\yolov5\\images\\test\\mammo8.png: 640x640 (no detections), 27.9ms\n",
      "image 341/361 C:\\Users\\manolakisd\\yolov5\\images\\test\\mammo80.png: 640x640 1 mass, 28.9ms\n",
      "image 342/361 C:\\Users\\manolakisd\\yolov5\\images\\test\\mammo81.png: 640x640 1 mass, 29.9ms\n",
      "image 343/361 C:\\Users\\manolakisd\\yolov5\\images\\test\\mammo82.png: 640x640 2 masss, 28.9ms\n",
      "image 344/361 C:\\Users\\manolakisd\\yolov5\\images\\test\\mammo83.png: 640x640 1 mass, 27.9ms\n",
      "image 345/361 C:\\Users\\manolakisd\\yolov5\\images\\test\\mammo84.png: 640x640 (no detections), 27.9ms\n",
      "image 346/361 C:\\Users\\manolakisd\\yolov5\\images\\test\\mammo85.png: 640x640 2 masss, 27.9ms\n",
      "image 347/361 C:\\Users\\manolakisd\\yolov5\\images\\test\\mammo86.png: 640x640 2 masss, 37.9ms\n",
      "image 348/361 C:\\Users\\manolakisd\\yolov5\\images\\test\\mammo87.png: 640x640 1 mass, 36.9ms\n",
      "image 349/361 C:\\Users\\manolakisd\\yolov5\\images\\test\\mammo88.png: 640x640 2 masss, 34.9ms\n",
      "image 350/361 C:\\Users\\manolakisd\\yolov5\\images\\test\\mammo89.png: 640x640 2 masss, 35.9ms\n",
      "image 351/361 C:\\Users\\manolakisd\\yolov5\\images\\test\\mammo9.png: 640x640 (no detections), 38.9ms\n",
      "image 352/361 C:\\Users\\manolakisd\\yolov5\\images\\test\\mammo90.png: 640x640 1 mass, 37.9ms\n",
      "image 353/361 C:\\Users\\manolakisd\\yolov5\\images\\test\\mammo91.png: 640x640 (no detections), 34.9ms\n",
      "image 354/361 C:\\Users\\manolakisd\\yolov5\\images\\test\\mammo92.png: 640x640 (no detections), 38.9ms\n",
      "image 355/361 C:\\Users\\manolakisd\\yolov5\\images\\test\\mammo93.png: 640x640 2 masss, 33.9ms\n",
      "image 356/361 C:\\Users\\manolakisd\\yolov5\\images\\test\\mammo94.png: 640x640 (no detections), 35.9ms\n",
      "image 357/361 C:\\Users\\manolakisd\\yolov5\\images\\test\\mammo95.png: 640x640 1 mass, 35.9ms\n",
      "image 358/361 C:\\Users\\manolakisd\\yolov5\\images\\test\\mammo96.png: 640x640 (no detections), 38.9ms\n",
      "image 359/361 C:\\Users\\manolakisd\\yolov5\\images\\test\\mammo97.png: 640x640 (no detections), 34.9ms\n",
      "image 360/361 C:\\Users\\manolakisd\\yolov5\\images\\test\\mammo98.png: 640x640 1 mass, 39.9ms\n",
      "image 361/361 C:\\Users\\manolakisd\\yolov5\\images\\test\\mammo99.png: 640x640 1 mass, 35.9ms\n",
      "Speed: 1.2ms pre-process, 21.3ms inference, 2.7ms NMS per image at shape (1, 3, 640, 640)\n",
      "Results saved to \u001b[1mruns\\detect\\exp4\u001b[0m\n"
     ]
    }
   ],
   "source": [
    "!python detect.py --weights C:\\\\Users\\\\manolakisd\\\\yolov5\\\\runs\\\\train\\\\mass_detection_yolov5s\\\\weights\\\\best.pt --img 640 --source C:\\\\Users\\\\manolakisd\\\\yolov5\\\\images\\\\test"
   ]
  },
  {
   "cell_type": "code",
   "execution_count": null,
   "metadata": {},
   "outputs": [],
   "source": [
    "!python export.py --weights runs/train/mass_detection4/weights/best.pt --include tfjs"
   ]
  },
  {
   "cell_type": "code",
   "execution_count": 3,
   "metadata": {},
   "outputs": [
    {
     "name": "stdout",
     "output_type": "stream",
     "text": [
      "New https://pypi.org/project/ultralytics/8.0.228 available 😃 Update with 'pip install -U ultralytics'\n",
      "Ultralytics YOLOv8.0.215 🚀 Python-3.8.10 torch-2.1.1+cu121 CUDA:0 (NVIDIA GeForce RTX 3080 Ti, 12288MiB)\n",
      "\u001b[34m\u001b[1mengine\\trainer: \u001b[0mtask=detect, mode=train, model=D:\\BreastSegmentation\\ObjectDetection\\yolov8s.pt, data=C:\\Users\\manolakisd\\mass_data.yml, epochs=300, patience=50, batch=16, imgsz=640, save=True, save_period=-1, cache=False, device=None, workers=24, project=None, name=train, exist_ok=False, pretrained=True, optimizer=auto, verbose=True, seed=0, deterministic=True, single_cls=False, rect=False, cos_lr=False, close_mosaic=10, resume=False, amp=True, fraction=1.0, profile=False, freeze=None, overlap_mask=True, mask_ratio=4, dropout=0.0, val=True, split=val, save_json=False, save_hybrid=False, conf=None, iou=0.7, max_det=300, half=False, dnn=False, plots=True, source=None, show=False, save_txt=False, save_conf=False, save_crop=False, show_labels=True, show_conf=True, vid_stride=1, stream_buffer=False, line_width=None, visualize=False, augment=False, agnostic_nms=False, classes=None, retina_masks=False, boxes=True, format=torchscript, keras=False, optimize=False, int8=False, dynamic=False, simplify=False, opset=None, workspace=4, nms=False, lr0=0.01, lrf=0.01, momentum=0.937, weight_decay=0.0005, warmup_epochs=3.0, warmup_momentum=0.8, warmup_bias_lr=0.1, box=7.5, cls=0.5, dfl=1.5, pose=12.0, kobj=1.0, label_smoothing=0.0, nbs=64, hsv_h=0, hsv_s=0, hsv_v=0, degrees=0.0, translate=0, scale=0.0, shear=0.0, perspective=0.0, flipud=0.3, fliplr=0.3, mosaic=1.0, mixup=0.0, copy_paste=0.0, cfg=None, tracker=botsort.yaml, save_dir=runs\\detect\\train\n",
      "Overriding model.yaml nc=80 with nc=1\n",
      "\n",
      "                   from  n    params  module                                       arguments                     \n",
      "  0                  -1  1       928  ultralytics.nn.modules.conv.Conv             [3, 32, 3, 2]                 \n",
      "  1                  -1  1     18560  ultralytics.nn.modules.conv.Conv             [32, 64, 3, 2]                \n",
      "  2                  -1  1     29056  ultralytics.nn.modules.block.C2f             [64, 64, 1, True]             \n",
      "  3                  -1  1     73984  ultralytics.nn.modules.conv.Conv             [64, 128, 3, 2]               \n",
      "  4                  -1  2    197632  ultralytics.nn.modules.block.C2f             [128, 128, 2, True]           \n",
      "  5                  -1  1    295424  ultralytics.nn.modules.conv.Conv             [128, 256, 3, 2]              \n",
      "  6                  -1  2    788480  ultralytics.nn.modules.block.C2f             [256, 256, 2, True]           \n",
      "  7                  -1  1   1180672  ultralytics.nn.modules.conv.Conv             [256, 512, 3, 2]              \n",
      "  8                  -1  1   1838080  ultralytics.nn.modules.block.C2f             [512, 512, 1, True]           \n",
      "  9                  -1  1    656896  ultralytics.nn.modules.block.SPPF            [512, 512, 5]                 \n",
      " 10                  -1  1         0  torch.nn.modules.upsampling.Upsample         [None, 2, 'nearest']          \n",
      " 11             [-1, 6]  1         0  ultralytics.nn.modules.conv.Concat           [1]                           \n",
      " 12                  -1  1    591360  ultralytics.nn.modules.block.C2f             [768, 256, 1]                 \n",
      " 13                  -1  1         0  torch.nn.modules.upsampling.Upsample         [None, 2, 'nearest']          \n",
      " 14             [-1, 4]  1         0  ultralytics.nn.modules.conv.Concat           [1]                           \n",
      " 15                  -1  1    148224  ultralytics.nn.modules.block.C2f             [384, 128, 1]                 \n",
      " 16                  -1  1    147712  ultralytics.nn.modules.conv.Conv             [128, 128, 3, 2]              \n",
      " 17            [-1, 12]  1         0  ultralytics.nn.modules.conv.Concat           [1]                           \n",
      " 18                  -1  1    493056  ultralytics.nn.modules.block.C2f             [384, 256, 1]                 \n",
      " 19                  -1  1    590336  ultralytics.nn.modules.conv.Conv             [256, 256, 3, 2]              \n",
      " 20             [-1, 9]  1         0  ultralytics.nn.modules.conv.Concat           [1]                           \n",
      " 21                  -1  1   1969152  ultralytics.nn.modules.block.C2f             [768, 512, 1]                 \n",
      " 22        [15, 18, 21]  1   2116435  ultralytics.nn.modules.head.Detect           [1, [128, 256, 512]]          \n",
      "Model summary: 225 layers, 11135987 parameters, 11135971 gradients, 28.6 GFLOPs\n",
      "\n",
      "Transferred 349/355 items from pretrained weights\n",
      "Freezing layer 'model.22.dfl.conv.weight'\n",
      "\u001b[34m\u001b[1mAMP: \u001b[0mrunning Automatic Mixed Precision (AMP) checks with YOLOv8n...\n",
      "\u001b[34m\u001b[1mAMP: \u001b[0mchecks passed ✅\n"
     ]
    },
    {
     "name": "stderr",
     "output_type": "stream",
     "text": [
      "\u001b[34m\u001b[1mtrain: \u001b[0mScanning C:\\Users\\manolakisd\\yolov5\\labels\\train.cache... 984 images, 0 backgrounds, 0 corrupt: 100%|██████████| 984/984 [00:00<?, ?it/s]\n",
      "\u001b[34m\u001b[1mval: \u001b[0mScanning C:\\Users\\manolakisd\\yolov5\\labels\\val.cache... 247 images, 0 backgrounds, 0 corrupt: 100%|██████████| 247/247 [00:00<?, ?it/s]\n"
     ]
    },
    {
     "name": "stdout",
     "output_type": "stream",
     "text": [
      "Plotting labels to runs\\detect\\train\\labels.jpg... \n",
      "\u001b[34m\u001b[1moptimizer:\u001b[0m 'optimizer=auto' found, ignoring 'lr0=0.01' and 'momentum=0.937' and determining best 'optimizer', 'lr0' and 'momentum' automatically... \n",
      "\u001b[34m\u001b[1moptimizer:\u001b[0m AdamW(lr=0.002, momentum=0.9) with parameter groups 57 weight(decay=0.0), 64 weight(decay=0.0005), 63 bias(decay=0.0)\n",
      "Image sizes 640 train, 640 val\n",
      "Using 12 dataloader workers\n",
      "Logging results to \u001b[1mruns\\detect\\train\u001b[0m\n",
      "Starting training for 300 epochs...\n",
      "\n",
      "      Epoch    GPU_mem   box_loss   cls_loss   dfl_loss  Instances       Size\n"
     ]
    },
    {
     "name": "stderr",
     "output_type": "stream",
     "text": [
      "      1/300      4.18G      2.397      6.059      1.742          9        640: 100%|██████████| 62/62 [00:18<00:00,  3.32it/s]\n",
      "                 Class     Images  Instances      Box(P          R      mAP50  mAP50-95): 100%|██████████| 8/8 [00:03<00:00,  2.57it/s]"
     ]
    },
    {
     "name": "stdout",
     "output_type": "stream",
     "text": [
      "                   all        247        266      0.361      0.338      0.258      0.101\n"
     ]
    },
    {
     "name": "stderr",
     "output_type": "stream",
     "text": [
      "\n"
     ]
    },
    {
     "name": "stdout",
     "output_type": "stream",
     "text": [
      "\n",
      "      Epoch    GPU_mem   box_loss   cls_loss   dfl_loss  Instances       Size\n"
     ]
    },
    {
     "name": "stderr",
     "output_type": "stream",
     "text": [
      "      2/300      4.24G      2.167      2.255      1.671          9        640: 100%|██████████| 62/62 [00:13<00:00,  4.47it/s]\n",
      "                 Class     Images  Instances      Box(P          R      mAP50  mAP50-95): 100%|██████████| 8/8 [00:02<00:00,  2.88it/s]"
     ]
    },
    {
     "name": "stdout",
     "output_type": "stream",
     "text": [
      "                   all        247        266    0.00605      0.113    0.00316    0.00123\n"
     ]
    },
    {
     "name": "stderr",
     "output_type": "stream",
     "text": [
      "\n"
     ]
    },
    {
     "name": "stdout",
     "output_type": "stream",
     "text": [
      "\n",
      "      Epoch    GPU_mem   box_loss   cls_loss   dfl_loss  Instances       Size\n"
     ]
    },
    {
     "name": "stderr",
     "output_type": "stream",
     "text": [
      "      3/300      4.24G      2.157      2.198      1.677          7        640: 100%|██████████| 62/62 [00:13<00:00,  4.70it/s]\n",
      "                 Class     Images  Instances      Box(P          R      mAP50  mAP50-95): 100%|██████████| 8/8 [00:02<00:00,  2.93it/s]"
     ]
    },
    {
     "name": "stdout",
     "output_type": "stream",
     "text": [
      "                   all        247        266      0.239      0.207      0.132     0.0483\n"
     ]
    },
    {
     "name": "stderr",
     "output_type": "stream",
     "text": [
      "\n"
     ]
    },
    {
     "name": "stdout",
     "output_type": "stream",
     "text": [
      "\n",
      "      Epoch    GPU_mem   box_loss   cls_loss   dfl_loss  Instances       Size\n"
     ]
    },
    {
     "name": "stderr",
     "output_type": "stream",
     "text": [
      "      4/300      4.23G      2.079      2.007      1.614          9        640: 100%|██████████| 62/62 [00:13<00:00,  4.64it/s]\n",
      "                 Class     Images  Instances      Box(P          R      mAP50  mAP50-95): 100%|██████████| 8/8 [00:02<00:00,  3.60it/s]"
     ]
    },
    {
     "name": "stdout",
     "output_type": "stream",
     "text": [
      "                   all        247        266      0.285      0.109      0.103     0.0373\n"
     ]
    },
    {
     "name": "stderr",
     "output_type": "stream",
     "text": [
      "\n"
     ]
    },
    {
     "name": "stdout",
     "output_type": "stream",
     "text": [
      "\n",
      "      Epoch    GPU_mem   box_loss   cls_loss   dfl_loss  Instances       Size\n"
     ]
    },
    {
     "name": "stderr",
     "output_type": "stream",
     "text": [
      "      5/300      4.09G      2.115      2.096      1.634          9        640: 100%|██████████| 62/62 [00:13<00:00,  4.69it/s]\n",
      "                 Class     Images  Instances      Box(P          R      mAP50  mAP50-95): 100%|██████████| 8/8 [00:02<00:00,  3.04it/s]"
     ]
    },
    {
     "name": "stdout",
     "output_type": "stream",
     "text": [
      "                   all        247        266      0.367      0.163      0.176     0.0651\n"
     ]
    },
    {
     "name": "stderr",
     "output_type": "stream",
     "text": [
      "\n"
     ]
    },
    {
     "name": "stdout",
     "output_type": "stream",
     "text": [
      "\n",
      "      Epoch    GPU_mem   box_loss   cls_loss   dfl_loss  Instances       Size\n"
     ]
    },
    {
     "name": "stderr",
     "output_type": "stream",
     "text": [
      "      6/300      4.09G      2.106      2.052      1.644         12        640: 100%|██████████| 62/62 [00:13<00:00,  4.70it/s]\n",
      "                 Class     Images  Instances      Box(P          R      mAP50  mAP50-95): 100%|██████████| 8/8 [00:02<00:00,  3.02it/s]"
     ]
    },
    {
     "name": "stdout",
     "output_type": "stream",
     "text": [
      "                   all        247        266      0.364      0.406      0.333      0.142\n"
     ]
    },
    {
     "name": "stderr",
     "output_type": "stream",
     "text": [
      "\n"
     ]
    },
    {
     "name": "stdout",
     "output_type": "stream",
     "text": [
      "\n",
      "      Epoch    GPU_mem   box_loss   cls_loss   dfl_loss  Instances       Size\n"
     ]
    },
    {
     "name": "stderr",
     "output_type": "stream",
     "text": [
      "      7/300      4.09G      2.077      2.005      1.618         11        640: 100%|██████████| 62/62 [00:13<00:00,  4.68it/s]\n",
      "                 Class     Images  Instances      Box(P          R      mAP50  mAP50-95): 100%|██████████| 8/8 [00:02<00:00,  2.94it/s]"
     ]
    },
    {
     "name": "stdout",
     "output_type": "stream",
     "text": [
      "                   all        247        266      0.402      0.305      0.306      0.131\n"
     ]
    },
    {
     "name": "stderr",
     "output_type": "stream",
     "text": [
      "\n"
     ]
    },
    {
     "name": "stdout",
     "output_type": "stream",
     "text": [
      "\n",
      "      Epoch    GPU_mem   box_loss   cls_loss   dfl_loss  Instances       Size\n"
     ]
    },
    {
     "name": "stderr",
     "output_type": "stream",
     "text": [
      "      8/300      4.08G      2.082      2.005      1.583         12        640: 100%|██████████| 62/62 [00:13<00:00,  4.70it/s]\n",
      "                 Class     Images  Instances      Box(P          R      mAP50  mAP50-95): 100%|██████████| 8/8 [00:02<00:00,  3.01it/s]"
     ]
    },
    {
     "name": "stdout",
     "output_type": "stream",
     "text": [
      "                   all        247        266      0.443      0.387      0.387      0.162\n"
     ]
    },
    {
     "name": "stderr",
     "output_type": "stream",
     "text": [
      "\n"
     ]
    },
    {
     "name": "stdout",
     "output_type": "stream",
     "text": [
      "\n",
      "      Epoch    GPU_mem   box_loss   cls_loss   dfl_loss  Instances       Size\n"
     ]
    },
    {
     "name": "stderr",
     "output_type": "stream",
     "text": [
      "      9/300      4.09G      2.124      1.941      1.624         11        640: 100%|██████████| 62/62 [00:13<00:00,  4.69it/s]\n",
      "                 Class     Images  Instances      Box(P          R      mAP50  mAP50-95): 100%|██████████| 8/8 [00:02<00:00,  2.99it/s]"
     ]
    },
    {
     "name": "stdout",
     "output_type": "stream",
     "text": [
      "                   all        247        266      0.446      0.365      0.321      0.122\n"
     ]
    },
    {
     "name": "stderr",
     "output_type": "stream",
     "text": [
      "\n"
     ]
    },
    {
     "name": "stdout",
     "output_type": "stream",
     "text": [
      "\n",
      "      Epoch    GPU_mem   box_loss   cls_loss   dfl_loss  Instances       Size\n"
     ]
    },
    {
     "name": "stderr",
     "output_type": "stream",
     "text": [
      "     10/300      4.24G      2.009      1.946      1.588         12        640: 100%|██████████| 62/62 [00:13<00:00,  4.71it/s]\n",
      "                 Class     Images  Instances      Box(P          R      mAP50  mAP50-95): 100%|██████████| 8/8 [00:02<00:00,  2.98it/s]"
     ]
    },
    {
     "name": "stdout",
     "output_type": "stream",
     "text": [
      "                   all        247        266      0.514      0.376      0.383      0.154\n"
     ]
    },
    {
     "name": "stderr",
     "output_type": "stream",
     "text": [
      "\n"
     ]
    },
    {
     "name": "stdout",
     "output_type": "stream",
     "text": [
      "\n",
      "      Epoch    GPU_mem   box_loss   cls_loss   dfl_loss  Instances       Size\n"
     ]
    },
    {
     "name": "stderr",
     "output_type": "stream",
     "text": [
      "     11/300      4.24G      2.069      1.946      1.594          7        640: 100%|██████████| 62/62 [00:13<00:00,  4.67it/s]\n",
      "                 Class     Images  Instances      Box(P          R      mAP50  mAP50-95): 100%|██████████| 8/8 [00:02<00:00,  3.01it/s]"
     ]
    },
    {
     "name": "stdout",
     "output_type": "stream",
     "text": [
      "                   all        247        266       0.48      0.425      0.418      0.173\n"
     ]
    },
    {
     "name": "stderr",
     "output_type": "stream",
     "text": [
      "\n"
     ]
    },
    {
     "name": "stdout",
     "output_type": "stream",
     "text": [
      "\n",
      "      Epoch    GPU_mem   box_loss   cls_loss   dfl_loss  Instances       Size\n"
     ]
    },
    {
     "name": "stderr",
     "output_type": "stream",
     "text": [
      "     12/300      4.24G      1.986      1.882      1.564          9        640: 100%|██████████| 62/62 [00:13<00:00,  4.72it/s]\n",
      "                 Class     Images  Instances      Box(P          R      mAP50  mAP50-95): 100%|██████████| 8/8 [00:02<00:00,  2.83it/s]"
     ]
    },
    {
     "name": "stdout",
     "output_type": "stream",
     "text": [
      "                   all        247        266      0.562      0.425      0.443      0.181\n"
     ]
    },
    {
     "name": "stderr",
     "output_type": "stream",
     "text": [
      "\n"
     ]
    },
    {
     "name": "stdout",
     "output_type": "stream",
     "text": [
      "\n",
      "      Epoch    GPU_mem   box_loss   cls_loss   dfl_loss  Instances       Size\n"
     ]
    },
    {
     "name": "stderr",
     "output_type": "stream",
     "text": [
      "     13/300      4.08G      1.994       1.81      1.573         10        640: 100%|██████████| 62/62 [00:13<00:00,  4.69it/s]\n",
      "                 Class     Images  Instances      Box(P          R      mAP50  mAP50-95): 100%|██████████| 8/8 [00:02<00:00,  3.00it/s]"
     ]
    },
    {
     "name": "stdout",
     "output_type": "stream",
     "text": [
      "                   all        247        266       0.66      0.364      0.443      0.179\n"
     ]
    },
    {
     "name": "stderr",
     "output_type": "stream",
     "text": [
      "\n"
     ]
    },
    {
     "name": "stdout",
     "output_type": "stream",
     "text": [
      "\n",
      "      Epoch    GPU_mem   box_loss   cls_loss   dfl_loss  Instances       Size\n"
     ]
    },
    {
     "name": "stderr",
     "output_type": "stream",
     "text": [
      "     14/300      4.09G      2.029      1.826      1.577          9        640: 100%|██████████| 62/62 [00:13<00:00,  4.71it/s]\n",
      "                 Class     Images  Instances      Box(P          R      mAP50  mAP50-95): 100%|██████████| 8/8 [00:02<00:00,  3.02it/s]"
     ]
    },
    {
     "name": "stdout",
     "output_type": "stream",
     "text": [
      "                   all        247        266      0.585      0.327      0.414      0.177\n"
     ]
    },
    {
     "name": "stderr",
     "output_type": "stream",
     "text": [
      "\n"
     ]
    },
    {
     "name": "stdout",
     "output_type": "stream",
     "text": [
      "\n",
      "      Epoch    GPU_mem   box_loss   cls_loss   dfl_loss  Instances       Size\n"
     ]
    },
    {
     "name": "stderr",
     "output_type": "stream",
     "text": [
      "     15/300      4.08G      1.928      1.746      1.524         12        640: 100%|██████████| 62/62 [00:13<00:00,  4.68it/s]\n",
      "                 Class     Images  Instances      Box(P          R      mAP50  mAP50-95): 100%|██████████| 8/8 [00:02<00:00,  3.03it/s]"
     ]
    },
    {
     "name": "stdout",
     "output_type": "stream",
     "text": [
      "                   all        247        266      0.499      0.425      0.418      0.174\n"
     ]
    },
    {
     "name": "stderr",
     "output_type": "stream",
     "text": [
      "\n"
     ]
    },
    {
     "name": "stdout",
     "output_type": "stream",
     "text": [
      "\n",
      "      Epoch    GPU_mem   box_loss   cls_loss   dfl_loss  Instances       Size\n"
     ]
    },
    {
     "name": "stderr",
     "output_type": "stream",
     "text": [
      "     16/300      4.24G       1.97      1.801      1.576          8        640: 100%|██████████| 62/62 [00:13<00:00,  4.69it/s]\n",
      "                 Class     Images  Instances      Box(P          R      mAP50  mAP50-95): 100%|██████████| 8/8 [00:02<00:00,  3.00it/s]"
     ]
    },
    {
     "name": "stdout",
     "output_type": "stream",
     "text": [
      "                   all        247        266      0.531      0.395      0.411       0.18\n"
     ]
    },
    {
     "name": "stderr",
     "output_type": "stream",
     "text": [
      "\n"
     ]
    },
    {
     "name": "stdout",
     "output_type": "stream",
     "text": [
      "\n",
      "      Epoch    GPU_mem   box_loss   cls_loss   dfl_loss  Instances       Size\n"
     ]
    },
    {
     "name": "stderr",
     "output_type": "stream",
     "text": [
      "     17/300      4.08G      1.988      1.792       1.56          9        640: 100%|██████████| 62/62 [00:13<00:00,  4.70it/s]\n",
      "                 Class     Images  Instances      Box(P          R      mAP50  mAP50-95): 100%|██████████| 8/8 [00:02<00:00,  3.01it/s]"
     ]
    },
    {
     "name": "stdout",
     "output_type": "stream",
     "text": [
      "                   all        247        266      0.605      0.403      0.436      0.177\n"
     ]
    },
    {
     "name": "stderr",
     "output_type": "stream",
     "text": [
      "\n"
     ]
    },
    {
     "name": "stdout",
     "output_type": "stream",
     "text": [
      "\n",
      "      Epoch    GPU_mem   box_loss   cls_loss   dfl_loss  Instances       Size\n"
     ]
    },
    {
     "name": "stderr",
     "output_type": "stream",
     "text": [
      "     18/300      4.07G      1.974      1.818      1.557          6        640: 100%|██████████| 62/62 [00:13<00:00,  4.67it/s]\n",
      "                 Class     Images  Instances      Box(P          R      mAP50  mAP50-95): 100%|██████████| 8/8 [00:02<00:00,  2.97it/s]"
     ]
    },
    {
     "name": "stdout",
     "output_type": "stream",
     "text": [
      "                   all        247        266      0.511      0.405      0.413      0.172\n"
     ]
    },
    {
     "name": "stderr",
     "output_type": "stream",
     "text": [
      "\n"
     ]
    },
    {
     "name": "stdout",
     "output_type": "stream",
     "text": [
      "\n",
      "      Epoch    GPU_mem   box_loss   cls_loss   dfl_loss  Instances       Size\n"
     ]
    },
    {
     "name": "stderr",
     "output_type": "stream",
     "text": [
      "     19/300      4.09G      1.916      1.761       1.53         12        640: 100%|██████████| 62/62 [00:13<00:00,  4.70it/s]\n",
      "                 Class     Images  Instances      Box(P          R      mAP50  mAP50-95): 100%|██████████| 8/8 [00:02<00:00,  2.90it/s]"
     ]
    },
    {
     "name": "stdout",
     "output_type": "stream",
     "text": [
      "                   all        247        266      0.592      0.414      0.462      0.198\n"
     ]
    },
    {
     "name": "stderr",
     "output_type": "stream",
     "text": [
      "\n"
     ]
    },
    {
     "name": "stdout",
     "output_type": "stream",
     "text": [
      "\n",
      "      Epoch    GPU_mem   box_loss   cls_loss   dfl_loss  Instances       Size\n"
     ]
    },
    {
     "name": "stderr",
     "output_type": "stream",
     "text": [
      "     20/300      4.24G      1.897      1.775      1.516          7        640: 100%|██████████| 62/62 [00:13<00:00,  4.70it/s]\n",
      "                 Class     Images  Instances      Box(P          R      mAP50  mAP50-95): 100%|██████████| 8/8 [00:02<00:00,  2.99it/s]"
     ]
    },
    {
     "name": "stdout",
     "output_type": "stream",
     "text": [
      "                   all        247        266      0.509      0.365        0.4      0.168\n"
     ]
    },
    {
     "name": "stderr",
     "output_type": "stream",
     "text": [
      "\n"
     ]
    },
    {
     "name": "stdout",
     "output_type": "stream",
     "text": [
      "\n",
      "      Epoch    GPU_mem   box_loss   cls_loss   dfl_loss  Instances       Size\n"
     ]
    },
    {
     "name": "stderr",
     "output_type": "stream",
     "text": [
      "     21/300      4.24G      1.914      1.797      1.515         10        640: 100%|██████████| 62/62 [00:13<00:00,  4.71it/s]\n",
      "                 Class     Images  Instances      Box(P          R      mAP50  mAP50-95): 100%|██████████| 8/8 [00:02<00:00,  2.98it/s]"
     ]
    },
    {
     "name": "stdout",
     "output_type": "stream",
     "text": [
      "                   all        247        266      0.562      0.425      0.442      0.174\n"
     ]
    },
    {
     "name": "stderr",
     "output_type": "stream",
     "text": [
      "\n"
     ]
    },
    {
     "name": "stdout",
     "output_type": "stream",
     "text": [
      "\n",
      "      Epoch    GPU_mem   box_loss   cls_loss   dfl_loss  Instances       Size\n"
     ]
    },
    {
     "name": "stderr",
     "output_type": "stream",
     "text": [
      "     22/300      4.24G      1.947      1.804      1.533          9        640: 100%|██████████| 62/62 [00:13<00:00,  4.70it/s]\n",
      "                 Class     Images  Instances      Box(P          R      mAP50  mAP50-95): 100%|██████████| 8/8 [00:02<00:00,  3.08it/s]"
     ]
    },
    {
     "name": "stdout",
     "output_type": "stream",
     "text": [
      "                   all        247        266      0.592      0.344      0.404      0.173\n"
     ]
    },
    {
     "name": "stderr",
     "output_type": "stream",
     "text": [
      "\n"
     ]
    },
    {
     "name": "stdout",
     "output_type": "stream",
     "text": [
      "\n",
      "      Epoch    GPU_mem   box_loss   cls_loss   dfl_loss  Instances       Size\n"
     ]
    },
    {
     "name": "stderr",
     "output_type": "stream",
     "text": [
      "     23/300      4.09G      1.886       1.78      1.497          9        640: 100%|██████████| 62/62 [00:13<00:00,  4.72it/s]\n",
      "                 Class     Images  Instances      Box(P          R      mAP50  mAP50-95): 100%|██████████| 8/8 [00:02<00:00,  3.04it/s]"
     ]
    },
    {
     "name": "stdout",
     "output_type": "stream",
     "text": [
      "                   all        247        266      0.567      0.391      0.445      0.199\n"
     ]
    },
    {
     "name": "stderr",
     "output_type": "stream",
     "text": [
      "\n"
     ]
    },
    {
     "name": "stdout",
     "output_type": "stream",
     "text": [
      "\n",
      "      Epoch    GPU_mem   box_loss   cls_loss   dfl_loss  Instances       Size\n"
     ]
    },
    {
     "name": "stderr",
     "output_type": "stream",
     "text": [
      "     24/300      4.08G      1.885      1.734       1.49          8        640: 100%|██████████| 62/62 [00:13<00:00,  4.71it/s]\n",
      "                 Class     Images  Instances      Box(P          R      mAP50  mAP50-95): 100%|██████████| 8/8 [00:02<00:00,  2.92it/s]"
     ]
    },
    {
     "name": "stdout",
     "output_type": "stream",
     "text": [
      "                   all        247        266      0.541      0.457      0.465      0.184\n"
     ]
    },
    {
     "name": "stderr",
     "output_type": "stream",
     "text": [
      "\n"
     ]
    },
    {
     "name": "stdout",
     "output_type": "stream",
     "text": [
      "\n",
      "      Epoch    GPU_mem   box_loss   cls_loss   dfl_loss  Instances       Size\n"
     ]
    },
    {
     "name": "stderr",
     "output_type": "stream",
     "text": [
      "     25/300      4.07G      1.924      1.811       1.52         12        640: 100%|██████████| 62/62 [00:13<00:00,  4.69it/s]\n",
      "                 Class     Images  Instances      Box(P          R      mAP50  mAP50-95): 100%|██████████| 8/8 [00:02<00:00,  3.02it/s]"
     ]
    },
    {
     "name": "stdout",
     "output_type": "stream",
     "text": [
      "                   all        247        266      0.495      0.432      0.434      0.192\n"
     ]
    },
    {
     "name": "stderr",
     "output_type": "stream",
     "text": [
      "\n"
     ]
    },
    {
     "name": "stdout",
     "output_type": "stream",
     "text": [
      "\n",
      "      Epoch    GPU_mem   box_loss   cls_loss   dfl_loss  Instances       Size\n"
     ]
    },
    {
     "name": "stderr",
     "output_type": "stream",
     "text": [
      "     26/300      4.24G      1.893      1.725      1.487          9        640: 100%|██████████| 62/62 [00:13<00:00,  4.69it/s]\n",
      "                 Class     Images  Instances      Box(P          R      mAP50  mAP50-95): 100%|██████████| 8/8 [00:02<00:00,  2.89it/s]"
     ]
    },
    {
     "name": "stdout",
     "output_type": "stream",
     "text": [
      "                   all        247        266      0.571      0.474      0.482      0.202\n"
     ]
    },
    {
     "name": "stderr",
     "output_type": "stream",
     "text": [
      "\n"
     ]
    },
    {
     "name": "stdout",
     "output_type": "stream",
     "text": [
      "\n",
      "      Epoch    GPU_mem   box_loss   cls_loss   dfl_loss  Instances       Size\n"
     ]
    },
    {
     "name": "stderr",
     "output_type": "stream",
     "text": [
      "     27/300      4.09G      1.895      1.691      1.519          8        640: 100%|██████████| 62/62 [00:13<00:00,  4.68it/s]\n",
      "                 Class     Images  Instances      Box(P          R      mAP50  mAP50-95): 100%|██████████| 8/8 [00:02<00:00,  2.85it/s]"
     ]
    },
    {
     "name": "stdout",
     "output_type": "stream",
     "text": [
      "                   all        247        266      0.522      0.381      0.417      0.175\n"
     ]
    },
    {
     "name": "stderr",
     "output_type": "stream",
     "text": [
      "\n"
     ]
    },
    {
     "name": "stdout",
     "output_type": "stream",
     "text": [
      "\n",
      "      Epoch    GPU_mem   box_loss   cls_loss   dfl_loss  Instances       Size\n"
     ]
    },
    {
     "name": "stderr",
     "output_type": "stream",
     "text": [
      "     28/300      4.08G      1.869      1.696      1.481          9        640: 100%|██████████| 62/62 [00:13<00:00,  4.67it/s]\n",
      "                 Class     Images  Instances      Box(P          R      mAP50  mAP50-95): 100%|██████████| 8/8 [00:02<00:00,  2.83it/s]"
     ]
    },
    {
     "name": "stdout",
     "output_type": "stream",
     "text": [
      "                   all        247        266      0.546      0.459      0.474      0.197\n"
     ]
    },
    {
     "name": "stderr",
     "output_type": "stream",
     "text": [
      "\n"
     ]
    },
    {
     "name": "stdout",
     "output_type": "stream",
     "text": [
      "\n",
      "      Epoch    GPU_mem   box_loss   cls_loss   dfl_loss  Instances       Size\n"
     ]
    },
    {
     "name": "stderr",
     "output_type": "stream",
     "text": [
      "     29/300      4.09G      1.865      1.674      1.495          9        640: 100%|██████████| 62/62 [00:13<00:00,  4.66it/s]\n",
      "                 Class     Images  Instances      Box(P          R      mAP50  mAP50-95): 100%|██████████| 8/8 [00:02<00:00,  2.77it/s]"
     ]
    },
    {
     "name": "stdout",
     "output_type": "stream",
     "text": [
      "                   all        247        266      0.542      0.459      0.425      0.176\n"
     ]
    },
    {
     "name": "stderr",
     "output_type": "stream",
     "text": [
      "\n"
     ]
    },
    {
     "name": "stdout",
     "output_type": "stream",
     "text": [
      "\n",
      "      Epoch    GPU_mem   box_loss   cls_loss   dfl_loss  Instances       Size\n"
     ]
    },
    {
     "name": "stderr",
     "output_type": "stream",
     "text": [
      "     30/300      4.24G      1.842      1.697      1.475          8        640: 100%|██████████| 62/62 [00:13<00:00,  4.68it/s]\n",
      "                 Class     Images  Instances      Box(P          R      mAP50  mAP50-95): 100%|██████████| 8/8 [00:02<00:00,  2.99it/s]"
     ]
    },
    {
     "name": "stdout",
     "output_type": "stream",
     "text": [
      "                   all        247        266       0.63       0.44      0.498      0.212\n"
     ]
    },
    {
     "name": "stderr",
     "output_type": "stream",
     "text": [
      "\n"
     ]
    },
    {
     "name": "stdout",
     "output_type": "stream",
     "text": [
      "\n",
      "      Epoch    GPU_mem   box_loss   cls_loss   dfl_loss  Instances       Size\n"
     ]
    },
    {
     "name": "stderr",
     "output_type": "stream",
     "text": [
      "     31/300      4.24G      1.821      1.654      1.465         11        640: 100%|██████████| 62/62 [00:13<00:00,  4.70it/s]\n",
      "                 Class     Images  Instances      Box(P          R      mAP50  mAP50-95): 100%|██████████| 8/8 [00:02<00:00,  2.99it/s]"
     ]
    },
    {
     "name": "stdout",
     "output_type": "stream",
     "text": [
      "                   all        247        266      0.556        0.5      0.501       0.21\n"
     ]
    },
    {
     "name": "stderr",
     "output_type": "stream",
     "text": [
      "\n"
     ]
    },
    {
     "name": "stdout",
     "output_type": "stream",
     "text": [
      "\n",
      "      Epoch    GPU_mem   box_loss   cls_loss   dfl_loss  Instances       Size\n"
     ]
    },
    {
     "name": "stderr",
     "output_type": "stream",
     "text": [
      "     32/300      4.24G      1.878      1.646        1.5         12        640: 100%|██████████| 62/62 [00:13<00:00,  4.71it/s]\n",
      "                 Class     Images  Instances      Box(P          R      mAP50  mAP50-95): 100%|██████████| 8/8 [00:02<00:00,  2.88it/s]"
     ]
    },
    {
     "name": "stdout",
     "output_type": "stream",
     "text": [
      "                   all        247        266      0.597      0.474      0.484      0.204\n"
     ]
    },
    {
     "name": "stderr",
     "output_type": "stream",
     "text": [
      "\n"
     ]
    },
    {
     "name": "stdout",
     "output_type": "stream",
     "text": [
      "\n",
      "      Epoch    GPU_mem   box_loss   cls_loss   dfl_loss  Instances       Size\n"
     ]
    },
    {
     "name": "stderr",
     "output_type": "stream",
     "text": [
      "     33/300      4.24G      1.846      1.623      1.471         13        640: 100%|██████████| 62/62 [00:13<00:00,  4.69it/s]\n",
      "                 Class     Images  Instances      Box(P          R      mAP50  mAP50-95): 100%|██████████| 8/8 [00:02<00:00,  2.99it/s]"
     ]
    },
    {
     "name": "stdout",
     "output_type": "stream",
     "text": [
      "                   all        247        266      0.563      0.421      0.444      0.185\n"
     ]
    },
    {
     "name": "stderr",
     "output_type": "stream",
     "text": [
      "\n"
     ]
    },
    {
     "name": "stdout",
     "output_type": "stream",
     "text": [
      "\n",
      "      Epoch    GPU_mem   box_loss   cls_loss   dfl_loss  Instances       Size\n"
     ]
    },
    {
     "name": "stderr",
     "output_type": "stream",
     "text": [
      "     34/300      4.24G      1.814      1.675      1.453          9        640: 100%|██████████| 62/62 [00:13<00:00,  4.71it/s]\n",
      "                 Class     Images  Instances      Box(P          R      mAP50  mAP50-95): 100%|██████████| 8/8 [00:02<00:00,  2.98it/s]"
     ]
    },
    {
     "name": "stdout",
     "output_type": "stream",
     "text": [
      "                   all        247        266      0.594      0.444      0.461       0.19\n"
     ]
    },
    {
     "name": "stderr",
     "output_type": "stream",
     "text": [
      "\n"
     ]
    },
    {
     "name": "stdout",
     "output_type": "stream",
     "text": [
      "\n",
      "      Epoch    GPU_mem   box_loss   cls_loss   dfl_loss  Instances       Size\n"
     ]
    },
    {
     "name": "stderr",
     "output_type": "stream",
     "text": [
      "     35/300      4.25G      1.769      1.568      1.432          8        640: 100%|██████████| 62/62 [00:13<00:00,  4.70it/s]\n",
      "                 Class     Images  Instances      Box(P          R      mAP50  mAP50-95): 100%|██████████| 8/8 [00:02<00:00,  2.94it/s]"
     ]
    },
    {
     "name": "stdout",
     "output_type": "stream",
     "text": [
      "                   all        247        266      0.549      0.417      0.464        0.2\n"
     ]
    },
    {
     "name": "stderr",
     "output_type": "stream",
     "text": [
      "\n"
     ]
    },
    {
     "name": "stdout",
     "output_type": "stream",
     "text": [
      "\n",
      "      Epoch    GPU_mem   box_loss   cls_loss   dfl_loss  Instances       Size\n"
     ]
    },
    {
     "name": "stderr",
     "output_type": "stream",
     "text": [
      "     36/300      4.24G      1.794      1.637      1.448          9        640: 100%|██████████| 62/62 [00:13<00:00,  4.67it/s]\n",
      "                 Class     Images  Instances      Box(P          R      mAP50  mAP50-95): 100%|██████████| 8/8 [00:02<00:00,  2.95it/s]"
     ]
    },
    {
     "name": "stdout",
     "output_type": "stream",
     "text": [
      "                   all        247        266      0.509      0.481      0.485      0.209\n"
     ]
    },
    {
     "name": "stderr",
     "output_type": "stream",
     "text": [
      "\n"
     ]
    },
    {
     "name": "stdout",
     "output_type": "stream",
     "text": [
      "\n",
      "      Epoch    GPU_mem   box_loss   cls_loss   dfl_loss  Instances       Size\n"
     ]
    },
    {
     "name": "stderr",
     "output_type": "stream",
     "text": [
      "     37/300      4.25G      1.838      1.617      1.463          6        640: 100%|██████████| 62/62 [00:13<00:00,  4.71it/s]\n",
      "                 Class     Images  Instances      Box(P          R      mAP50  mAP50-95): 100%|██████████| 8/8 [00:02<00:00,  2.98it/s]"
     ]
    },
    {
     "name": "stdout",
     "output_type": "stream",
     "text": [
      "                   all        247        266      0.558      0.474      0.492      0.209\n"
     ]
    },
    {
     "name": "stderr",
     "output_type": "stream",
     "text": [
      "\n"
     ]
    },
    {
     "name": "stdout",
     "output_type": "stream",
     "text": [
      "\n",
      "      Epoch    GPU_mem   box_loss   cls_loss   dfl_loss  Instances       Size\n"
     ]
    },
    {
     "name": "stderr",
     "output_type": "stream",
     "text": [
      "     38/300      4.08G      1.784      1.567      1.438          7        640: 100%|██████████| 62/62 [00:13<00:00,  4.67it/s]\n",
      "                 Class     Images  Instances      Box(P          R      mAP50  mAP50-95): 100%|██████████| 8/8 [00:02<00:00,  3.01it/s]"
     ]
    },
    {
     "name": "stdout",
     "output_type": "stream",
     "text": [
      "                   all        247        266      0.551      0.417      0.453       0.19\n"
     ]
    },
    {
     "name": "stderr",
     "output_type": "stream",
     "text": [
      "\n"
     ]
    },
    {
     "name": "stdout",
     "output_type": "stream",
     "text": [
      "\n",
      "      Epoch    GPU_mem   box_loss   cls_loss   dfl_loss  Instances       Size\n"
     ]
    },
    {
     "name": "stderr",
     "output_type": "stream",
     "text": [
      "     39/300      4.09G      1.828      1.633      1.444          8        640: 100%|██████████| 62/62 [00:13<00:00,  4.69it/s]\n",
      "                 Class     Images  Instances      Box(P          R      mAP50  mAP50-95): 100%|██████████| 8/8 [00:02<00:00,  2.92it/s]"
     ]
    },
    {
     "name": "stdout",
     "output_type": "stream",
     "text": [
      "                   all        247        266      0.632      0.372      0.461      0.196\n"
     ]
    },
    {
     "name": "stderr",
     "output_type": "stream",
     "text": [
      "\n"
     ]
    },
    {
     "name": "stdout",
     "output_type": "stream",
     "text": [
      "\n",
      "      Epoch    GPU_mem   box_loss   cls_loss   dfl_loss  Instances       Size\n"
     ]
    },
    {
     "name": "stderr",
     "output_type": "stream",
     "text": [
      "     40/300      4.08G      1.797      1.531      1.436         10        640: 100%|██████████| 62/62 [00:13<00:00,  4.72it/s]\n",
      "                 Class     Images  Instances      Box(P          R      mAP50  mAP50-95): 100%|██████████| 8/8 [00:02<00:00,  2.96it/s]"
     ]
    },
    {
     "name": "stdout",
     "output_type": "stream",
     "text": [
      "                   all        247        266      0.643      0.508      0.522      0.221\n"
     ]
    },
    {
     "name": "stderr",
     "output_type": "stream",
     "text": [
      "\n"
     ]
    },
    {
     "name": "stdout",
     "output_type": "stream",
     "text": [
      "\n",
      "      Epoch    GPU_mem   box_loss   cls_loss   dfl_loss  Instances       Size\n"
     ]
    },
    {
     "name": "stderr",
     "output_type": "stream",
     "text": [
      "     41/300      4.09G      1.796       1.59      1.438          9        640: 100%|██████████| 62/62 [00:13<00:00,  4.69it/s]\n",
      "                 Class     Images  Instances      Box(P          R      mAP50  mAP50-95): 100%|██████████| 8/8 [00:02<00:00,  2.84it/s]"
     ]
    },
    {
     "name": "stdout",
     "output_type": "stream",
     "text": [
      "                   all        247        266      0.607      0.387      0.461      0.199\n"
     ]
    },
    {
     "name": "stderr",
     "output_type": "stream",
     "text": [
      "\n"
     ]
    },
    {
     "name": "stdout",
     "output_type": "stream",
     "text": [
      "\n",
      "      Epoch    GPU_mem   box_loss   cls_loss   dfl_loss  Instances       Size\n"
     ]
    },
    {
     "name": "stderr",
     "output_type": "stream",
     "text": [
      "     42/300      4.24G      1.776      1.596      1.424          8        640: 100%|██████████| 62/62 [00:13<00:00,  4.67it/s]\n",
      "                 Class     Images  Instances      Box(P          R      mAP50  mAP50-95): 100%|██████████| 8/8 [00:02<00:00,  2.93it/s]"
     ]
    },
    {
     "name": "stdout",
     "output_type": "stream",
     "text": [
      "                   all        247        266       0.55      0.406      0.444      0.195\n"
     ]
    },
    {
     "name": "stderr",
     "output_type": "stream",
     "text": [
      "\n"
     ]
    },
    {
     "name": "stdout",
     "output_type": "stream",
     "text": [
      "\n",
      "      Epoch    GPU_mem   box_loss   cls_loss   dfl_loss  Instances       Size\n"
     ]
    },
    {
     "name": "stderr",
     "output_type": "stream",
     "text": [
      "     43/300      4.09G      1.787      1.632      1.445         13        640: 100%|██████████| 62/62 [00:13<00:00,  4.64it/s]\n",
      "                 Class     Images  Instances      Box(P          R      mAP50  mAP50-95): 100%|██████████| 8/8 [00:02<00:00,  3.00it/s]"
     ]
    },
    {
     "name": "stdout",
     "output_type": "stream",
     "text": [
      "                   all        247        266      0.612      0.451      0.481      0.207\n"
     ]
    },
    {
     "name": "stderr",
     "output_type": "stream",
     "text": [
      "\n"
     ]
    },
    {
     "name": "stdout",
     "output_type": "stream",
     "text": [
      "\n",
      "      Epoch    GPU_mem   box_loss   cls_loss   dfl_loss  Instances       Size\n"
     ]
    },
    {
     "name": "stderr",
     "output_type": "stream",
     "text": [
      "     44/300      4.08G      1.796      1.619      1.454         10        640: 100%|██████████| 62/62 [00:13<00:00,  4.66it/s]\n",
      "                 Class     Images  Instances      Box(P          R      mAP50  mAP50-95): 100%|██████████| 8/8 [00:02<00:00,  2.97it/s]"
     ]
    },
    {
     "name": "stdout",
     "output_type": "stream",
     "text": [
      "                   all        247        266      0.592      0.458      0.489      0.211\n"
     ]
    },
    {
     "name": "stderr",
     "output_type": "stream",
     "text": [
      "\n"
     ]
    },
    {
     "name": "stdout",
     "output_type": "stream",
     "text": [
      "\n",
      "      Epoch    GPU_mem   box_loss   cls_loss   dfl_loss  Instances       Size\n"
     ]
    },
    {
     "name": "stderr",
     "output_type": "stream",
     "text": [
      "     45/300      4.09G      1.745      1.519      1.405          7        640: 100%|██████████| 62/62 [00:13<00:00,  4.70it/s]\n",
      "                 Class     Images  Instances      Box(P          R      mAP50  mAP50-95): 100%|██████████| 8/8 [00:02<00:00,  2.83it/s]"
     ]
    },
    {
     "name": "stdout",
     "output_type": "stream",
     "text": [
      "                   all        247        266      0.539      0.451      0.473      0.196\n"
     ]
    },
    {
     "name": "stderr",
     "output_type": "stream",
     "text": [
      "\n"
     ]
    },
    {
     "name": "stdout",
     "output_type": "stream",
     "text": [
      "\n",
      "      Epoch    GPU_mem   box_loss   cls_loss   dfl_loss  Instances       Size\n"
     ]
    },
    {
     "name": "stderr",
     "output_type": "stream",
     "text": [
      "     46/300      4.24G      1.737      1.561      1.403         11        640: 100%|██████████| 62/62 [00:13<00:00,  4.65it/s]\n",
      "                 Class     Images  Instances      Box(P          R      mAP50  mAP50-95): 100%|██████████| 8/8 [00:02<00:00,  3.01it/s]"
     ]
    },
    {
     "name": "stdout",
     "output_type": "stream",
     "text": [
      "                   all        247        266      0.573      0.466      0.487      0.209\n"
     ]
    },
    {
     "name": "stderr",
     "output_type": "stream",
     "text": [
      "\n"
     ]
    },
    {
     "name": "stdout",
     "output_type": "stream",
     "text": [
      "\n",
      "      Epoch    GPU_mem   box_loss   cls_loss   dfl_loss  Instances       Size\n"
     ]
    },
    {
     "name": "stderr",
     "output_type": "stream",
     "text": [
      "     47/300      4.25G      1.783      1.552       1.44          9        640: 100%|██████████| 62/62 [00:13<00:00,  4.66it/s]\n",
      "                 Class     Images  Instances      Box(P          R      mAP50  mAP50-95): 100%|██████████| 8/8 [00:02<00:00,  3.00it/s]"
     ]
    },
    {
     "name": "stdout",
     "output_type": "stream",
     "text": [
      "                   all        247        266      0.588      0.391       0.46      0.198\n"
     ]
    },
    {
     "name": "stderr",
     "output_type": "stream",
     "text": [
      "\n"
     ]
    },
    {
     "name": "stdout",
     "output_type": "stream",
     "text": [
      "\n",
      "      Epoch    GPU_mem   box_loss   cls_loss   dfl_loss  Instances       Size\n"
     ]
    },
    {
     "name": "stderr",
     "output_type": "stream",
     "text": [
      "     48/300      4.24G      1.716      1.473      1.414         13        640: 100%|██████████| 62/62 [00:13<00:00,  4.66it/s]\n",
      "                 Class     Images  Instances      Box(P          R      mAP50  mAP50-95): 100%|██████████| 8/8 [00:02<00:00,  3.01it/s]"
     ]
    },
    {
     "name": "stdout",
     "output_type": "stream",
     "text": [
      "                   all        247        266      0.603       0.44      0.482      0.212\n"
     ]
    },
    {
     "name": "stderr",
     "output_type": "stream",
     "text": [
      "\n"
     ]
    },
    {
     "name": "stdout",
     "output_type": "stream",
     "text": [
      "\n",
      "      Epoch    GPU_mem   box_loss   cls_loss   dfl_loss  Instances       Size\n"
     ]
    },
    {
     "name": "stderr",
     "output_type": "stream",
     "text": [
      "     49/300      4.07G      1.735      1.481      1.409         11        640: 100%|██████████| 62/62 [00:13<00:00,  4.66it/s]\n",
      "                 Class     Images  Instances      Box(P          R      mAP50  mAP50-95): 100%|██████████| 8/8 [00:02<00:00,  2.95it/s]"
     ]
    },
    {
     "name": "stdout",
     "output_type": "stream",
     "text": [
      "                   all        247        266      0.598      0.474      0.496      0.212\n"
     ]
    },
    {
     "name": "stderr",
     "output_type": "stream",
     "text": [
      "\n"
     ]
    },
    {
     "name": "stdout",
     "output_type": "stream",
     "text": [
      "\n",
      "      Epoch    GPU_mem   box_loss   cls_loss   dfl_loss  Instances       Size\n"
     ]
    },
    {
     "name": "stderr",
     "output_type": "stream",
     "text": [
      "     50/300      4.24G      1.691      1.429       1.38         10        640: 100%|██████████| 62/62 [00:13<00:00,  4.67it/s]\n",
      "                 Class     Images  Instances      Box(P          R      mAP50  mAP50-95): 100%|██████████| 8/8 [00:02<00:00,  2.84it/s]"
     ]
    },
    {
     "name": "stdout",
     "output_type": "stream",
     "text": [
      "                   all        247        266       0.65      0.504      0.531       0.22\n"
     ]
    },
    {
     "name": "stderr",
     "output_type": "stream",
     "text": [
      "\n"
     ]
    },
    {
     "name": "stdout",
     "output_type": "stream",
     "text": [
      "\n",
      "      Epoch    GPU_mem   box_loss   cls_loss   dfl_loss  Instances       Size\n"
     ]
    },
    {
     "name": "stderr",
     "output_type": "stream",
     "text": [
      "     51/300      4.24G      1.735      1.501      1.402          9        640: 100%|██████████| 62/62 [00:13<00:00,  4.66it/s]\n",
      "                 Class     Images  Instances      Box(P          R      mAP50  mAP50-95): 100%|██████████| 8/8 [00:02<00:00,  2.91it/s]"
     ]
    },
    {
     "name": "stdout",
     "output_type": "stream",
     "text": [
      "                   all        247        266      0.656      0.487      0.523      0.211\n"
     ]
    },
    {
     "name": "stderr",
     "output_type": "stream",
     "text": [
      "\n"
     ]
    },
    {
     "name": "stdout",
     "output_type": "stream",
     "text": [
      "\n",
      "      Epoch    GPU_mem   box_loss   cls_loss   dfl_loss  Instances       Size\n"
     ]
    },
    {
     "name": "stderr",
     "output_type": "stream",
     "text": [
      "     52/300      4.24G      1.716      1.481      1.382          9        640: 100%|██████████| 62/62 [00:13<00:00,  4.69it/s]\n",
      "                 Class     Images  Instances      Box(P          R      mAP50  mAP50-95): 100%|██████████| 8/8 [00:02<00:00,  2.99it/s]"
     ]
    },
    {
     "name": "stdout",
     "output_type": "stream",
     "text": [
      "                   all        247        266      0.629      0.452      0.502      0.206\n"
     ]
    },
    {
     "name": "stderr",
     "output_type": "stream",
     "text": [
      "\n"
     ]
    },
    {
     "name": "stdout",
     "output_type": "stream",
     "text": [
      "\n",
      "      Epoch    GPU_mem   box_loss   cls_loss   dfl_loss  Instances       Size\n"
     ]
    },
    {
     "name": "stderr",
     "output_type": "stream",
     "text": [
      "     53/300      4.24G      1.684      1.414      1.384         10        640: 100%|██████████| 62/62 [00:13<00:00,  4.69it/s]\n",
      "                 Class     Images  Instances      Box(P          R      mAP50  mAP50-95): 100%|██████████| 8/8 [00:02<00:00,  2.93it/s]"
     ]
    },
    {
     "name": "stdout",
     "output_type": "stream",
     "text": [
      "                   all        247        266      0.627      0.486      0.505      0.216\n"
     ]
    },
    {
     "name": "stderr",
     "output_type": "stream",
     "text": [
      "\n"
     ]
    },
    {
     "name": "stdout",
     "output_type": "stream",
     "text": [
      "\n",
      "      Epoch    GPU_mem   box_loss   cls_loss   dfl_loss  Instances       Size\n"
     ]
    },
    {
     "name": "stderr",
     "output_type": "stream",
     "text": [
      "     54/300      4.08G       1.72      1.425      1.392          9        640: 100%|██████████| 62/62 [00:13<00:00,  4.70it/s]\n",
      "                 Class     Images  Instances      Box(P          R      mAP50  mAP50-95): 100%|██████████| 8/8 [00:02<00:00,  3.03it/s]"
     ]
    },
    {
     "name": "stdout",
     "output_type": "stream",
     "text": [
      "                   all        247        266      0.609      0.391      0.462      0.192\n"
     ]
    },
    {
     "name": "stderr",
     "output_type": "stream",
     "text": [
      "\n"
     ]
    },
    {
     "name": "stdout",
     "output_type": "stream",
     "text": [
      "\n",
      "      Epoch    GPU_mem   box_loss   cls_loss   dfl_loss  Instances       Size\n"
     ]
    },
    {
     "name": "stderr",
     "output_type": "stream",
     "text": [
      "     55/300      4.24G      1.662      1.384      1.359          8        640: 100%|██████████| 62/62 [00:13<00:00,  4.69it/s]\n",
      "                 Class     Images  Instances      Box(P          R      mAP50  mAP50-95): 100%|██████████| 8/8 [00:02<00:00,  2.97it/s]"
     ]
    },
    {
     "name": "stdout",
     "output_type": "stream",
     "text": [
      "                   all        247        266      0.656      0.455      0.512      0.218\n"
     ]
    },
    {
     "name": "stderr",
     "output_type": "stream",
     "text": [
      "\n"
     ]
    },
    {
     "name": "stdout",
     "output_type": "stream",
     "text": [
      "\n",
      "      Epoch    GPU_mem   box_loss   cls_loss   dfl_loss  Instances       Size\n"
     ]
    },
    {
     "name": "stderr",
     "output_type": "stream",
     "text": [
      "     56/300      4.08G      1.706      1.402      1.383         10        640: 100%|██████████| 62/62 [00:13<00:00,  4.68it/s]\n",
      "                 Class     Images  Instances      Box(P          R      mAP50  mAP50-95): 100%|██████████| 8/8 [00:02<00:00,  2.96it/s]"
     ]
    },
    {
     "name": "stdout",
     "output_type": "stream",
     "text": [
      "                   all        247        266      0.519       0.53      0.491      0.203\n"
     ]
    },
    {
     "name": "stderr",
     "output_type": "stream",
     "text": [
      "\n"
     ]
    },
    {
     "name": "stdout",
     "output_type": "stream",
     "text": [
      "\n",
      "      Epoch    GPU_mem   box_loss   cls_loss   dfl_loss  Instances       Size\n"
     ]
    },
    {
     "name": "stderr",
     "output_type": "stream",
     "text": [
      "     57/300      4.08G      1.706       1.37      1.392         11        640: 100%|██████████| 62/62 [00:13<00:00,  4.67it/s]\n",
      "                 Class     Images  Instances      Box(P          R      mAP50  mAP50-95): 100%|██████████| 8/8 [00:02<00:00,  2.97it/s]"
     ]
    },
    {
     "name": "stdout",
     "output_type": "stream",
     "text": [
      "                   all        247        266      0.585      0.435      0.456      0.187\n"
     ]
    },
    {
     "name": "stderr",
     "output_type": "stream",
     "text": [
      "\n"
     ]
    },
    {
     "name": "stdout",
     "output_type": "stream",
     "text": [
      "\n",
      "      Epoch    GPU_mem   box_loss   cls_loss   dfl_loss  Instances       Size\n"
     ]
    },
    {
     "name": "stderr",
     "output_type": "stream",
     "text": [
      "     58/300      4.25G      1.645      1.376      1.357         14        640: 100%|██████████| 62/62 [00:13<00:00,  4.69it/s]\n",
      "                 Class     Images  Instances      Box(P          R      mAP50  mAP50-95): 100%|██████████| 8/8 [00:02<00:00,  3.04it/s]"
     ]
    },
    {
     "name": "stdout",
     "output_type": "stream",
     "text": [
      "                   all        247        266      0.595      0.498      0.515      0.214\n"
     ]
    },
    {
     "name": "stderr",
     "output_type": "stream",
     "text": [
      "\n"
     ]
    },
    {
     "name": "stdout",
     "output_type": "stream",
     "text": [
      "\n",
      "      Epoch    GPU_mem   box_loss   cls_loss   dfl_loss  Instances       Size\n"
     ]
    },
    {
     "name": "stderr",
     "output_type": "stream",
     "text": [
      "     59/300      4.09G      1.651      1.395      1.361          9        640: 100%|██████████| 62/62 [00:13<00:00,  4.71it/s]\n",
      "                 Class     Images  Instances      Box(P          R      mAP50  mAP50-95): 100%|██████████| 8/8 [00:02<00:00,  3.00it/s]"
     ]
    },
    {
     "name": "stdout",
     "output_type": "stream",
     "text": [
      "                   all        247        266      0.625      0.414      0.459      0.199\n"
     ]
    },
    {
     "name": "stderr",
     "output_type": "stream",
     "text": [
      "\n"
     ]
    },
    {
     "name": "stdout",
     "output_type": "stream",
     "text": [
      "\n",
      "      Epoch    GPU_mem   box_loss   cls_loss   dfl_loss  Instances       Size\n"
     ]
    },
    {
     "name": "stderr",
     "output_type": "stream",
     "text": [
      "     60/300      4.25G      1.599      1.312      1.352          8        640: 100%|██████████| 62/62 [00:13<00:00,  4.68it/s]\n",
      "                 Class     Images  Instances      Box(P          R      mAP50  mAP50-95): 100%|██████████| 8/8 [00:02<00:00,  2.94it/s]"
     ]
    },
    {
     "name": "stdout",
     "output_type": "stream",
     "text": [
      "                   all        247        266      0.647      0.466      0.509      0.216\n"
     ]
    },
    {
     "name": "stderr",
     "output_type": "stream",
     "text": [
      "\n"
     ]
    },
    {
     "name": "stdout",
     "output_type": "stream",
     "text": [
      "\n",
      "      Epoch    GPU_mem   box_loss   cls_loss   dfl_loss  Instances       Size\n"
     ]
    },
    {
     "name": "stderr",
     "output_type": "stream",
     "text": [
      "     61/300      4.23G      1.637      1.309      1.364         12        640: 100%|██████████| 62/62 [00:13<00:00,  4.63it/s]\n",
      "                 Class     Images  Instances      Box(P          R      mAP50  mAP50-95): 100%|██████████| 8/8 [00:02<00:00,  2.97it/s]"
     ]
    },
    {
     "name": "stdout",
     "output_type": "stream",
     "text": [
      "                   all        247        266      0.557      0.483       0.49      0.204\n"
     ]
    },
    {
     "name": "stderr",
     "output_type": "stream",
     "text": [
      "\n"
     ]
    },
    {
     "name": "stdout",
     "output_type": "stream",
     "text": [
      "\n",
      "      Epoch    GPU_mem   box_loss   cls_loss   dfl_loss  Instances       Size\n"
     ]
    },
    {
     "name": "stderr",
     "output_type": "stream",
     "text": [
      "     62/300      4.23G      1.634      1.316      1.349          9        640: 100%|██████████| 62/62 [00:13<00:00,  4.72it/s]\n",
      "                 Class     Images  Instances      Box(P          R      mAP50  mAP50-95): 100%|██████████| 8/8 [00:02<00:00,  3.05it/s]"
     ]
    },
    {
     "name": "stdout",
     "output_type": "stream",
     "text": [
      "                   all        247        266      0.557      0.451      0.462      0.187\n"
     ]
    },
    {
     "name": "stderr",
     "output_type": "stream",
     "text": [
      "\n"
     ]
    },
    {
     "name": "stdout",
     "output_type": "stream",
     "text": [
      "\n",
      "      Epoch    GPU_mem   box_loss   cls_loss   dfl_loss  Instances       Size\n"
     ]
    },
    {
     "name": "stderr",
     "output_type": "stream",
     "text": [
      "     63/300      4.08G      1.602      1.279      1.343          8        640: 100%|██████████| 62/62 [00:13<00:00,  4.70it/s]\n",
      "                 Class     Images  Instances      Box(P          R      mAP50  mAP50-95): 100%|██████████| 8/8 [00:02<00:00,  2.83it/s]"
     ]
    },
    {
     "name": "stdout",
     "output_type": "stream",
     "text": [
      "                   all        247        266      0.591       0.44      0.482      0.202\n"
     ]
    },
    {
     "name": "stderr",
     "output_type": "stream",
     "text": [
      "\n"
     ]
    },
    {
     "name": "stdout",
     "output_type": "stream",
     "text": [
      "\n",
      "      Epoch    GPU_mem   box_loss   cls_loss   dfl_loss  Instances       Size\n"
     ]
    },
    {
     "name": "stderr",
     "output_type": "stream",
     "text": [
      "     64/300      4.24G      1.635      1.326       1.35          7        640: 100%|██████████| 62/62 [00:13<00:00,  4.68it/s]\n",
      "                 Class     Images  Instances      Box(P          R      mAP50  mAP50-95): 100%|██████████| 8/8 [00:02<00:00,  2.99it/s]"
     ]
    },
    {
     "name": "stdout",
     "output_type": "stream",
     "text": [
      "                   all        247        266      0.626      0.492        0.5      0.223\n"
     ]
    },
    {
     "name": "stderr",
     "output_type": "stream",
     "text": [
      "\n"
     ]
    },
    {
     "name": "stdout",
     "output_type": "stream",
     "text": [
      "\n",
      "      Epoch    GPU_mem   box_loss   cls_loss   dfl_loss  Instances       Size\n"
     ]
    },
    {
     "name": "stderr",
     "output_type": "stream",
     "text": [
      "     65/300      4.09G      1.614      1.255      1.338         10        640: 100%|██████████| 62/62 [00:13<00:00,  4.69it/s]\n",
      "                 Class     Images  Instances      Box(P          R      mAP50  mAP50-95): 100%|██████████| 8/8 [00:02<00:00,  3.05it/s]"
     ]
    },
    {
     "name": "stdout",
     "output_type": "stream",
     "text": [
      "                   all        247        266      0.556      0.523      0.492      0.207\n"
     ]
    },
    {
     "name": "stderr",
     "output_type": "stream",
     "text": [
      "\n"
     ]
    },
    {
     "name": "stdout",
     "output_type": "stream",
     "text": [
      "\n",
      "      Epoch    GPU_mem   box_loss   cls_loss   dfl_loss  Instances       Size\n"
     ]
    },
    {
     "name": "stderr",
     "output_type": "stream",
     "text": [
      "     66/300      4.24G      1.589      1.273       1.35          7        640: 100%|██████████| 62/62 [00:13<00:00,  4.68it/s]\n",
      "                 Class     Images  Instances      Box(P          R      mAP50  mAP50-95): 100%|██████████| 8/8 [00:02<00:00,  3.00it/s]"
     ]
    },
    {
     "name": "stdout",
     "output_type": "stream",
     "text": [
      "                   all        247        266      0.602      0.462      0.483       0.21\n"
     ]
    },
    {
     "name": "stderr",
     "output_type": "stream",
     "text": [
      "\n"
     ]
    },
    {
     "name": "stdout",
     "output_type": "stream",
     "text": [
      "\n",
      "      Epoch    GPU_mem   box_loss   cls_loss   dfl_loss  Instances       Size\n"
     ]
    },
    {
     "name": "stderr",
     "output_type": "stream",
     "text": [
      "     67/300      4.08G      1.574      1.291      1.342          9        640: 100%|██████████| 62/62 [00:13<00:00,  4.70it/s]\n",
      "                 Class     Images  Instances      Box(P          R      mAP50  mAP50-95): 100%|██████████| 8/8 [00:02<00:00,  2.98it/s]"
     ]
    },
    {
     "name": "stdout",
     "output_type": "stream",
     "text": [
      "                   all        247        266      0.572      0.481        0.5      0.205\n"
     ]
    },
    {
     "name": "stderr",
     "output_type": "stream",
     "text": [
      "\n"
     ]
    },
    {
     "name": "stdout",
     "output_type": "stream",
     "text": [
      "\n",
      "      Epoch    GPU_mem   box_loss   cls_loss   dfl_loss  Instances       Size\n"
     ]
    },
    {
     "name": "stderr",
     "output_type": "stream",
     "text": [
      "     68/300      4.08G      1.623       1.31      1.365         10        640: 100%|██████████| 62/62 [00:13<00:00,  4.67it/s]\n",
      "                 Class     Images  Instances      Box(P          R      mAP50  mAP50-95): 100%|██████████| 8/8 [00:02<00:00,  3.02it/s]"
     ]
    },
    {
     "name": "stdout",
     "output_type": "stream",
     "text": [
      "                   all        247        266       0.55      0.505      0.483      0.201\n"
     ]
    },
    {
     "name": "stderr",
     "output_type": "stream",
     "text": [
      "\n"
     ]
    },
    {
     "name": "stdout",
     "output_type": "stream",
     "text": [
      "\n",
      "      Epoch    GPU_mem   box_loss   cls_loss   dfl_loss  Instances       Size\n"
     ]
    },
    {
     "name": "stderr",
     "output_type": "stream",
     "text": [
      "     69/300      4.08G      1.612      1.295      1.345         16        640: 100%|██████████| 62/62 [00:13<00:00,  4.67it/s]\n",
      "                 Class     Images  Instances      Box(P          R      mAP50  mAP50-95): 100%|██████████| 8/8 [00:02<00:00,  3.01it/s]"
     ]
    },
    {
     "name": "stdout",
     "output_type": "stream",
     "text": [
      "                   all        247        266      0.577      0.489      0.497      0.206\n"
     ]
    },
    {
     "name": "stderr",
     "output_type": "stream",
     "text": [
      "\n"
     ]
    },
    {
     "name": "stdout",
     "output_type": "stream",
     "text": [
      "\n",
      "      Epoch    GPU_mem   box_loss   cls_loss   dfl_loss  Instances       Size\n"
     ]
    },
    {
     "name": "stderr",
     "output_type": "stream",
     "text": [
      "     70/300      4.24G      1.595       1.28      1.352          7        640: 100%|██████████| 62/62 [00:13<00:00,  4.71it/s]\n",
      "                 Class     Images  Instances      Box(P          R      mAP50  mAP50-95): 100%|██████████| 8/8 [00:02<00:00,  3.02it/s]"
     ]
    },
    {
     "name": "stdout",
     "output_type": "stream",
     "text": [
      "                   all        247        266      0.577      0.474       0.48      0.202\n"
     ]
    },
    {
     "name": "stderr",
     "output_type": "stream",
     "text": [
      "\n"
     ]
    },
    {
     "name": "stdout",
     "output_type": "stream",
     "text": [
      "\n",
      "      Epoch    GPU_mem   box_loss   cls_loss   dfl_loss  Instances       Size\n"
     ]
    },
    {
     "name": "stderr",
     "output_type": "stream",
     "text": [
      "     71/300      4.24G      1.586      1.215      1.338         13        640: 100%|██████████| 62/62 [00:13<00:00,  4.70it/s]\n",
      "                 Class     Images  Instances      Box(P          R      mAP50  mAP50-95): 100%|██████████| 8/8 [00:02<00:00,  2.92it/s]"
     ]
    },
    {
     "name": "stdout",
     "output_type": "stream",
     "text": [
      "                   all        247        266      0.536      0.477      0.486      0.207\n"
     ]
    },
    {
     "name": "stderr",
     "output_type": "stream",
     "text": [
      "\n"
     ]
    },
    {
     "name": "stdout",
     "output_type": "stream",
     "text": [
      "\n",
      "      Epoch    GPU_mem   box_loss   cls_loss   dfl_loss  Instances       Size\n"
     ]
    },
    {
     "name": "stderr",
     "output_type": "stream",
     "text": [
      "     72/300      4.24G      1.542      1.221      1.323         13        640: 100%|██████████| 62/62 [00:13<00:00,  4.71it/s]\n",
      "                 Class     Images  Instances      Box(P          R      mAP50  mAP50-95): 100%|██████████| 8/8 [00:02<00:00,  2.95it/s]"
     ]
    },
    {
     "name": "stdout",
     "output_type": "stream",
     "text": [
      "                   all        247        266      0.556      0.486      0.472      0.198\n"
     ]
    },
    {
     "name": "stderr",
     "output_type": "stream",
     "text": [
      "\n"
     ]
    },
    {
     "name": "stdout",
     "output_type": "stream",
     "text": [
      "\n",
      "      Epoch    GPU_mem   box_loss   cls_loss   dfl_loss  Instances       Size\n"
     ]
    },
    {
     "name": "stderr",
     "output_type": "stream",
     "text": [
      "     73/300      4.25G      1.559      1.258       1.31         11        640: 100%|██████████| 62/62 [00:13<00:00,  4.65it/s]\n",
      "                 Class     Images  Instances      Box(P          R      mAP50  mAP50-95): 100%|██████████| 8/8 [00:02<00:00,  3.00it/s]"
     ]
    },
    {
     "name": "stdout",
     "output_type": "stream",
     "text": [
      "                   all        247        266      0.598      0.429      0.463      0.202\n"
     ]
    },
    {
     "name": "stderr",
     "output_type": "stream",
     "text": [
      "\n"
     ]
    },
    {
     "name": "stdout",
     "output_type": "stream",
     "text": [
      "\n",
      "      Epoch    GPU_mem   box_loss   cls_loss   dfl_loss  Instances       Size\n"
     ]
    },
    {
     "name": "stderr",
     "output_type": "stream",
     "text": [
      "     74/300      4.24G      1.519      1.178      1.292         10        640: 100%|██████████| 62/62 [00:13<00:00,  4.64it/s]\n",
      "                 Class     Images  Instances      Box(P          R      mAP50  mAP50-95): 100%|██████████| 8/8 [00:02<00:00,  3.00it/s]"
     ]
    },
    {
     "name": "stdout",
     "output_type": "stream",
     "text": [
      "                   all        247        266      0.542      0.511      0.503      0.215\n"
     ]
    },
    {
     "name": "stderr",
     "output_type": "stream",
     "text": [
      "\n"
     ]
    },
    {
     "name": "stdout",
     "output_type": "stream",
     "text": [
      "\n",
      "      Epoch    GPU_mem   box_loss   cls_loss   dfl_loss  Instances       Size\n"
     ]
    },
    {
     "name": "stderr",
     "output_type": "stream",
     "text": [
      "     75/300      4.24G       1.53      1.221       1.31         10        640: 100%|██████████| 62/62 [00:13<00:00,  4.66it/s]\n",
      "                 Class     Images  Instances      Box(P          R      mAP50  mAP50-95): 100%|██████████| 8/8 [00:02<00:00,  2.96it/s]"
     ]
    },
    {
     "name": "stdout",
     "output_type": "stream",
     "text": [
      "                   all        247        266      0.656      0.429      0.509       0.22\n"
     ]
    },
    {
     "name": "stderr",
     "output_type": "stream",
     "text": [
      "\n"
     ]
    },
    {
     "name": "stdout",
     "output_type": "stream",
     "text": [
      "\n",
      "      Epoch    GPU_mem   box_loss   cls_loss   dfl_loss  Instances       Size\n"
     ]
    },
    {
     "name": "stderr",
     "output_type": "stream",
     "text": [
      "     76/300      4.08G      1.488       1.19      1.279          9        640: 100%|██████████| 62/62 [00:13<00:00,  4.69it/s]\n",
      "                 Class     Images  Instances      Box(P          R      mAP50  mAP50-95): 100%|██████████| 8/8 [00:02<00:00,  2.92it/s]"
     ]
    },
    {
     "name": "stdout",
     "output_type": "stream",
     "text": [
      "                   all        247        266      0.606      0.436      0.488      0.211\n"
     ]
    },
    {
     "name": "stderr",
     "output_type": "stream",
     "text": [
      "\n"
     ]
    },
    {
     "name": "stdout",
     "output_type": "stream",
     "text": [
      "\n",
      "      Epoch    GPU_mem   box_loss   cls_loss   dfl_loss  Instances       Size\n"
     ]
    },
    {
     "name": "stderr",
     "output_type": "stream",
     "text": [
      "     77/300      4.08G      1.571      1.184      1.322         11        640: 100%|██████████| 62/62 [00:13<00:00,  4.67it/s]\n",
      "                 Class     Images  Instances      Box(P          R      mAP50  mAP50-95): 100%|██████████| 8/8 [00:02<00:00,  3.02it/s]"
     ]
    },
    {
     "name": "stdout",
     "output_type": "stream",
     "text": [
      "                   all        247        266      0.628       0.44      0.489      0.206\n"
     ]
    },
    {
     "name": "stderr",
     "output_type": "stream",
     "text": [
      "\n"
     ]
    },
    {
     "name": "stdout",
     "output_type": "stream",
     "text": [
      "\n",
      "      Epoch    GPU_mem   box_loss   cls_loss   dfl_loss  Instances       Size\n"
     ]
    },
    {
     "name": "stderr",
     "output_type": "stream",
     "text": [
      "     78/300      4.09G      1.457      1.126      1.284          9        640: 100%|██████████| 62/62 [00:13<00:00,  4.67it/s]\n",
      "                 Class     Images  Instances      Box(P          R      mAP50  mAP50-95): 100%|██████████| 8/8 [00:02<00:00,  2.96it/s]"
     ]
    },
    {
     "name": "stdout",
     "output_type": "stream",
     "text": [
      "                   all        247        266      0.585      0.511       0.51      0.209\n"
     ]
    },
    {
     "name": "stderr",
     "output_type": "stream",
     "text": [
      "\n"
     ]
    },
    {
     "name": "stdout",
     "output_type": "stream",
     "text": [
      "\n",
      "      Epoch    GPU_mem   box_loss   cls_loss   dfl_loss  Instances       Size\n"
     ]
    },
    {
     "name": "stderr",
     "output_type": "stream",
     "text": [
      "     79/300      4.08G      1.478      1.141      1.265         11        640: 100%|██████████| 62/62 [00:13<00:00,  4.67it/s]\n",
      "                 Class     Images  Instances      Box(P          R      mAP50  mAP50-95): 100%|██████████| 8/8 [00:02<00:00,  2.96it/s]"
     ]
    },
    {
     "name": "stdout",
     "output_type": "stream",
     "text": [
      "                   all        247        266      0.606      0.468      0.487      0.199\n"
     ]
    },
    {
     "name": "stderr",
     "output_type": "stream",
     "text": [
      "\n"
     ]
    },
    {
     "name": "stdout",
     "output_type": "stream",
     "text": [
      "\n",
      "      Epoch    GPU_mem   box_loss   cls_loss   dfl_loss  Instances       Size\n"
     ]
    },
    {
     "name": "stderr",
     "output_type": "stream",
     "text": [
      "     80/300      4.23G      1.485      1.162      1.281         14        640: 100%|██████████| 62/62 [00:13<00:00,  4.69it/s]\n",
      "                 Class     Images  Instances      Box(P          R      mAP50  mAP50-95): 100%|██████████| 8/8 [00:02<00:00,  3.01it/s]"
     ]
    },
    {
     "name": "stdout",
     "output_type": "stream",
     "text": [
      "                   all        247        266      0.622      0.432      0.479      0.188\n"
     ]
    },
    {
     "name": "stderr",
     "output_type": "stream",
     "text": [
      "\n"
     ]
    },
    {
     "name": "stdout",
     "output_type": "stream",
     "text": [
      "\n",
      "      Epoch    GPU_mem   box_loss   cls_loss   dfl_loss  Instances       Size\n"
     ]
    },
    {
     "name": "stderr",
     "output_type": "stream",
     "text": [
      "     81/300      4.24G      1.504      1.137       1.27         15        640: 100%|██████████| 62/62 [00:13<00:00,  4.69it/s]\n",
      "                 Class     Images  Instances      Box(P          R      mAP50  mAP50-95): 100%|██████████| 8/8 [00:02<00:00,  2.95it/s]"
     ]
    },
    {
     "name": "stdout",
     "output_type": "stream",
     "text": [
      "                   all        247        266      0.625      0.466      0.487      0.198\n"
     ]
    },
    {
     "name": "stderr",
     "output_type": "stream",
     "text": [
      "\n"
     ]
    },
    {
     "name": "stdout",
     "output_type": "stream",
     "text": [
      "\n",
      "      Epoch    GPU_mem   box_loss   cls_loss   dfl_loss  Instances       Size\n"
     ]
    },
    {
     "name": "stderr",
     "output_type": "stream",
     "text": [
      "     82/300      4.24G      1.474      1.101      1.268          9        640: 100%|██████████| 62/62 [00:13<00:00,  4.71it/s]\n",
      "                 Class     Images  Instances      Box(P          R      mAP50  mAP50-95): 100%|██████████| 8/8 [00:02<00:00,  2.87it/s]"
     ]
    },
    {
     "name": "stdout",
     "output_type": "stream",
     "text": [
      "                   all        247        266      0.498       0.53      0.489      0.204\n"
     ]
    },
    {
     "name": "stderr",
     "output_type": "stream",
     "text": [
      "\n"
     ]
    },
    {
     "name": "stdout",
     "output_type": "stream",
     "text": [
      "\n",
      "      Epoch    GPU_mem   box_loss   cls_loss   dfl_loss  Instances       Size\n"
     ]
    },
    {
     "name": "stderr",
     "output_type": "stream",
     "text": [
      "     83/300      4.09G      1.494      1.134      1.265         11        640: 100%|██████████| 62/62 [00:13<00:00,  4.63it/s]\n",
      "                 Class     Images  Instances      Box(P          R      mAP50  mAP50-95): 100%|██████████| 8/8 [00:02<00:00,  3.02it/s]"
     ]
    },
    {
     "name": "stdout",
     "output_type": "stream",
     "text": [
      "                   all        247        266      0.564      0.511      0.491      0.197\n"
     ]
    },
    {
     "name": "stderr",
     "output_type": "stream",
     "text": [
      "\n"
     ]
    },
    {
     "name": "stdout",
     "output_type": "stream",
     "text": [
      "\n",
      "      Epoch    GPU_mem   box_loss   cls_loss   dfl_loss  Instances       Size\n"
     ]
    },
    {
     "name": "stderr",
     "output_type": "stream",
     "text": [
      "     84/300      4.09G      1.448      1.115      1.256         12        640: 100%|██████████| 62/62 [00:13<00:00,  4.62it/s]\n",
      "                 Class     Images  Instances      Box(P          R      mAP50  mAP50-95): 100%|██████████| 8/8 [00:02<00:00,  2.93it/s]"
     ]
    },
    {
     "name": "stdout",
     "output_type": "stream",
     "text": [
      "                   all        247        266      0.651      0.444      0.484      0.207\n"
     ]
    },
    {
     "name": "stderr",
     "output_type": "stream",
     "text": [
      "\n"
     ]
    },
    {
     "name": "stdout",
     "output_type": "stream",
     "text": [
      "\n",
      "      Epoch    GPU_mem   box_loss   cls_loss   dfl_loss  Instances       Size\n"
     ]
    },
    {
     "name": "stderr",
     "output_type": "stream",
     "text": [
      "     85/300      4.09G      1.477       1.14      1.255         10        640: 100%|██████████| 62/62 [00:13<00:00,  4.65it/s]\n",
      "                 Class     Images  Instances      Box(P          R      mAP50  mAP50-95): 100%|██████████| 8/8 [00:02<00:00,  2.90it/s]"
     ]
    },
    {
     "name": "stdout",
     "output_type": "stream",
     "text": [
      "                   all        247        266       0.58      0.466      0.478        0.2\n"
     ]
    },
    {
     "name": "stderr",
     "output_type": "stream",
     "text": [
      "\n"
     ]
    },
    {
     "name": "stdout",
     "output_type": "stream",
     "text": [
      "\n",
      "      Epoch    GPU_mem   box_loss   cls_loss   dfl_loss  Instances       Size\n"
     ]
    },
    {
     "name": "stderr",
     "output_type": "stream",
     "text": [
      "     86/300      4.09G      1.474      1.093      1.264          8        640: 100%|██████████| 62/62 [00:13<00:00,  4.71it/s]\n",
      "                 Class     Images  Instances      Box(P          R      mAP50  mAP50-95): 100%|██████████| 8/8 [00:02<00:00,  2.82it/s]"
     ]
    },
    {
     "name": "stdout",
     "output_type": "stream",
     "text": [
      "                   all        247        266      0.589      0.466       0.46      0.185\n"
     ]
    },
    {
     "name": "stderr",
     "output_type": "stream",
     "text": [
      "\n"
     ]
    },
    {
     "name": "stdout",
     "output_type": "stream",
     "text": [
      "\n",
      "      Epoch    GPU_mem   box_loss   cls_loss   dfl_loss  Instances       Size\n"
     ]
    },
    {
     "name": "stderr",
     "output_type": "stream",
     "text": [
      "     87/300      4.24G      1.427      1.064      1.246         11        640: 100%|██████████| 62/62 [00:13<00:00,  4.60it/s]\n",
      "                 Class     Images  Instances      Box(P          R      mAP50  mAP50-95): 100%|██████████| 8/8 [00:02<00:00,  2.93it/s]"
     ]
    },
    {
     "name": "stdout",
     "output_type": "stream",
     "text": [
      "                   all        247        266      0.609      0.477      0.489      0.195\n"
     ]
    },
    {
     "name": "stderr",
     "output_type": "stream",
     "text": [
      "\n"
     ]
    },
    {
     "name": "stdout",
     "output_type": "stream",
     "text": [
      "\n",
      "      Epoch    GPU_mem   box_loss   cls_loss   dfl_loss  Instances       Size\n"
     ]
    },
    {
     "name": "stderr",
     "output_type": "stream",
     "text": [
      "     88/300      4.09G      1.418      1.036      1.216         10        640: 100%|██████████| 62/62 [00:13<00:00,  4.61it/s]\n",
      "                 Class     Images  Instances      Box(P          R      mAP50  mAP50-95): 100%|██████████| 8/8 [00:02<00:00,  2.91it/s]"
     ]
    },
    {
     "name": "stdout",
     "output_type": "stream",
     "text": [
      "                   all        247        266      0.574      0.474      0.485      0.204\n"
     ]
    },
    {
     "name": "stderr",
     "output_type": "stream",
     "text": [
      "\n"
     ]
    },
    {
     "name": "stdout",
     "output_type": "stream",
     "text": [
      "\n",
      "      Epoch    GPU_mem   box_loss   cls_loss   dfl_loss  Instances       Size\n"
     ]
    },
    {
     "name": "stderr",
     "output_type": "stream",
     "text": [
      "     89/300      4.08G       1.52      1.114      1.285         10        640: 100%|██████████| 62/62 [00:13<00:00,  4.70it/s]\n",
      "                 Class     Images  Instances      Box(P          R      mAP50  mAP50-95): 100%|██████████| 8/8 [00:02<00:00,  3.03it/s]"
     ]
    },
    {
     "name": "stdout",
     "output_type": "stream",
     "text": [
      "                   all        247        266      0.602      0.467      0.455      0.184\n"
     ]
    },
    {
     "name": "stderr",
     "output_type": "stream",
     "text": [
      "\n"
     ]
    },
    {
     "name": "stdout",
     "output_type": "stream",
     "text": [
      "\n",
      "      Epoch    GPU_mem   box_loss   cls_loss   dfl_loss  Instances       Size\n"
     ]
    },
    {
     "name": "stderr",
     "output_type": "stream",
     "text": [
      "     90/300      4.24G      1.409      1.047      1.249         11        640: 100%|██████████| 62/62 [00:13<00:00,  4.71it/s]\n",
      "                 Class     Images  Instances      Box(P          R      mAP50  mAP50-95): 100%|██████████| 8/8 [00:02<00:00,  3.01it/s]"
     ]
    },
    {
     "name": "stdout",
     "output_type": "stream",
     "text": [
      "                   all        247        266      0.607      0.425      0.451      0.192\n"
     ]
    },
    {
     "name": "stderr",
     "output_type": "stream",
     "text": [
      "\n"
     ]
    },
    {
     "name": "stdout",
     "output_type": "stream",
     "text": [
      "\n",
      "      Epoch    GPU_mem   box_loss   cls_loss   dfl_loss  Instances       Size\n"
     ]
    },
    {
     "name": "stderr",
     "output_type": "stream",
     "text": [
      "     91/300      4.24G      1.401      1.082      1.241          8        640: 100%|██████████| 62/62 [00:13<00:00,  4.69it/s]\n",
      "                 Class     Images  Instances      Box(P          R      mAP50  mAP50-95): 100%|██████████| 8/8 [00:02<00:00,  2.95it/s]"
     ]
    },
    {
     "name": "stdout",
     "output_type": "stream",
     "text": [
      "                   all        247        266      0.652      0.414      0.455      0.193\n"
     ]
    },
    {
     "name": "stderr",
     "output_type": "stream",
     "text": [
      "\n"
     ]
    },
    {
     "name": "stdout",
     "output_type": "stream",
     "text": [
      "\n",
      "      Epoch    GPU_mem   box_loss   cls_loss   dfl_loss  Instances       Size\n"
     ]
    },
    {
     "name": "stderr",
     "output_type": "stream",
     "text": [
      "     92/300      4.24G      1.403      1.036      1.242         10        640: 100%|██████████| 62/62 [00:13<00:00,  4.70it/s]\n",
      "                 Class     Images  Instances      Box(P          R      mAP50  mAP50-95): 100%|██████████| 8/8 [00:02<00:00,  2.90it/s]"
     ]
    },
    {
     "name": "stdout",
     "output_type": "stream",
     "text": [
      "                   all        247        266      0.578      0.453      0.455      0.196\n"
     ]
    },
    {
     "name": "stderr",
     "output_type": "stream",
     "text": [
      "\n"
     ]
    },
    {
     "name": "stdout",
     "output_type": "stream",
     "text": [
      "\n",
      "      Epoch    GPU_mem   box_loss   cls_loss   dfl_loss  Instances       Size\n"
     ]
    },
    {
     "name": "stderr",
     "output_type": "stream",
     "text": [
      "     93/300      4.24G      1.371      1.045      1.211          9        640: 100%|██████████| 62/62 [00:13<00:00,  4.67it/s]\n",
      "                 Class     Images  Instances      Box(P          R      mAP50  mAP50-95): 100%|██████████| 8/8 [00:02<00:00,  3.08it/s]"
     ]
    },
    {
     "name": "stdout",
     "output_type": "stream",
     "text": [
      "                   all        247        266      0.565      0.485      0.465      0.186\n"
     ]
    },
    {
     "name": "stderr",
     "output_type": "stream",
     "text": [
      "\n"
     ]
    },
    {
     "name": "stdout",
     "output_type": "stream",
     "text": [
      "\n",
      "      Epoch    GPU_mem   box_loss   cls_loss   dfl_loss  Instances       Size\n"
     ]
    },
    {
     "name": "stderr",
     "output_type": "stream",
     "text": [
      "     94/300      4.24G      1.387      1.034      1.234         11        640: 100%|██████████| 62/62 [00:13<00:00,  4.69it/s]\n",
      "                 Class     Images  Instances      Box(P          R      mAP50  mAP50-95): 100%|██████████| 8/8 [00:02<00:00,  2.95it/s]"
     ]
    },
    {
     "name": "stdout",
     "output_type": "stream",
     "text": [
      "                   all        247        266      0.567      0.409      0.428      0.183\n"
     ]
    },
    {
     "name": "stderr",
     "output_type": "stream",
     "text": [
      "\n"
     ]
    },
    {
     "name": "stdout",
     "output_type": "stream",
     "text": [
      "\n",
      "      Epoch    GPU_mem   box_loss   cls_loss   dfl_loss  Instances       Size\n"
     ]
    },
    {
     "name": "stderr",
     "output_type": "stream",
     "text": [
      "     95/300      4.08G      1.388      1.011      1.235          9        640: 100%|██████████| 62/62 [00:13<00:00,  4.68it/s]\n",
      "                 Class     Images  Instances      Box(P          R      mAP50  mAP50-95): 100%|██████████| 8/8 [00:02<00:00,  2.89it/s]"
     ]
    },
    {
     "name": "stdout",
     "output_type": "stream",
     "text": [
      "                   all        247        266      0.631      0.459      0.462       0.19\n"
     ]
    },
    {
     "name": "stderr",
     "output_type": "stream",
     "text": [
      "\n"
     ]
    },
    {
     "name": "stdout",
     "output_type": "stream",
     "text": [
      "\n",
      "      Epoch    GPU_mem   box_loss   cls_loss   dfl_loss  Instances       Size\n"
     ]
    },
    {
     "name": "stderr",
     "output_type": "stream",
     "text": [
      "     96/300      4.24G      1.392      1.016      1.224          9        640: 100%|██████████| 62/62 [00:13<00:00,  4.69it/s]\n",
      "                 Class     Images  Instances      Box(P          R      mAP50  mAP50-95): 100%|██████████| 8/8 [00:02<00:00,  2.98it/s]"
     ]
    },
    {
     "name": "stdout",
     "output_type": "stream",
     "text": [
      "                   all        247        266       0.54      0.519      0.488      0.203\n"
     ]
    },
    {
     "name": "stderr",
     "output_type": "stream",
     "text": [
      "\n"
     ]
    },
    {
     "name": "stdout",
     "output_type": "stream",
     "text": [
      "\n",
      "      Epoch    GPU_mem   box_loss   cls_loss   dfl_loss  Instances       Size\n"
     ]
    },
    {
     "name": "stderr",
     "output_type": "stream",
     "text": [
      "     97/300      4.08G       1.39      1.002       1.24          9        640: 100%|██████████| 62/62 [00:13<00:00,  4.67it/s]\n",
      "                 Class     Images  Instances      Box(P          R      mAP50  mAP50-95): 100%|██████████| 8/8 [00:02<00:00,  2.93it/s]"
     ]
    },
    {
     "name": "stdout",
     "output_type": "stream",
     "text": [
      "                   all        247        266      0.556      0.477      0.459      0.189\n"
     ]
    },
    {
     "name": "stderr",
     "output_type": "stream",
     "text": [
      "\n"
     ]
    },
    {
     "name": "stdout",
     "output_type": "stream",
     "text": [
      "\n",
      "      Epoch    GPU_mem   box_loss   cls_loss   dfl_loss  Instances       Size\n"
     ]
    },
    {
     "name": "stderr",
     "output_type": "stream",
     "text": [
      "     98/300      4.24G      1.323     0.9734      1.199         10        640: 100%|██████████| 62/62 [00:13<00:00,  4.68it/s]\n",
      "                 Class     Images  Instances      Box(P          R      mAP50  mAP50-95): 100%|██████████| 8/8 [00:02<00:00,  3.00it/s]"
     ]
    },
    {
     "name": "stdout",
     "output_type": "stream",
     "text": [
      "                   all        247        266      0.487      0.455      0.432      0.183\n"
     ]
    },
    {
     "name": "stderr",
     "output_type": "stream",
     "text": [
      "\n"
     ]
    },
    {
     "name": "stdout",
     "output_type": "stream",
     "text": [
      "\n",
      "      Epoch    GPU_mem   box_loss   cls_loss   dfl_loss  Instances       Size\n"
     ]
    },
    {
     "name": "stderr",
     "output_type": "stream",
     "text": [
      "     99/300      4.08G      1.363     0.9797      1.218         12        640: 100%|██████████| 62/62 [00:13<00:00,  4.68it/s]\n",
      "                 Class     Images  Instances      Box(P          R      mAP50  mAP50-95): 100%|██████████| 8/8 [00:02<00:00,  3.05it/s]"
     ]
    },
    {
     "name": "stdout",
     "output_type": "stream",
     "text": [
      "                   all        247        266      0.563      0.481      0.497      0.204\n"
     ]
    },
    {
     "name": "stderr",
     "output_type": "stream",
     "text": [
      "\n"
     ]
    },
    {
     "name": "stdout",
     "output_type": "stream",
     "text": [
      "\n",
      "      Epoch    GPU_mem   box_loss   cls_loss   dfl_loss  Instances       Size\n"
     ]
    },
    {
     "name": "stderr",
     "output_type": "stream",
     "text": [
      "    100/300      4.24G      1.305     0.9614      1.192          9        640: 100%|██████████| 62/62 [00:13<00:00,  4.68it/s]\n",
      "                 Class     Images  Instances      Box(P          R      mAP50  mAP50-95): 100%|██████████| 8/8 [00:02<00:00,  2.95it/s]"
     ]
    },
    {
     "name": "stdout",
     "output_type": "stream",
     "text": [
      "                   all        247        266      0.502      0.511      0.459      0.192\n",
      "Stopping training early as no improvement observed in last 50 epochs. Best results observed at epoch 50, best model saved as best.pt.\n",
      "To update EarlyStopping(patience=50) pass a new patience value, i.e. `patience=300` or use `patience=0` to disable EarlyStopping.\n"
     ]
    },
    {
     "name": "stderr",
     "output_type": "stream",
     "text": [
      "\n"
     ]
    },
    {
     "name": "stdout",
     "output_type": "stream",
     "text": [
      "\n",
      "100 epochs completed in 0.459 hours.\n",
      "Optimizer stripped from runs\\detect\\train\\weights\\last.pt, 22.5MB\n",
      "Optimizer stripped from runs\\detect\\train\\weights\\best.pt, 22.5MB\n",
      "\n",
      "Validating runs\\detect\\train\\weights\\best.pt...\n",
      "Ultralytics YOLOv8.0.215 🚀 Python-3.8.10 torch-2.1.1+cu121 CUDA:0 (NVIDIA GeForce RTX 3080 Ti, 12288MiB)\n",
      "Model summary (fused): 168 layers, 11125971 parameters, 0 gradients, 28.4 GFLOPs\n"
     ]
    },
    {
     "name": "stderr",
     "output_type": "stream",
     "text": [
      "                 Class     Images  Instances      Box(P          R      mAP50  mAP50-95): 100%|██████████| 8/8 [00:03<00:00,  2.14it/s]\n"
     ]
    },
    {
     "name": "stdout",
     "output_type": "stream",
     "text": [
      "                   all        247        266       0.65      0.504       0.53       0.22\n",
      "Speed: 0.2ms preprocess, 4.3ms inference, 0.0ms loss, 2.1ms postprocess per image\n",
      "Results saved to \u001b[1mruns\\detect\\train\u001b[0m\n"
     ]
    },
    {
     "data": {
      "text/plain": [
       "ultralytics.utils.metrics.DetMetrics object with attributes:\n",
       "\n",
       "ap_class_index: array([0])\n",
       "box: ultralytics.utils.metrics.Metric object\n",
       "confusion_matrix: <ultralytics.utils.metrics.ConfusionMatrix object at 0x000001F8C6A5B250>\n",
       "curves: ['Precision-Recall(B)', 'F1-Confidence(B)', 'Precision-Confidence(B)', 'Recall-Confidence(B)']\n",
       "curves_results: [[array([          0,    0.001001,    0.002002,    0.003003,    0.004004,    0.005005,    0.006006,    0.007007,    0.008008,    0.009009,     0.01001,    0.011011,    0.012012,    0.013013,    0.014014,    0.015015,    0.016016,    0.017017,    0.018018,    0.019019,     0.02002,    0.021021,    0.022022,    0.023023,\n",
       "          0.024024,    0.025025,    0.026026,    0.027027,    0.028028,    0.029029,     0.03003,    0.031031,    0.032032,    0.033033,    0.034034,    0.035035,    0.036036,    0.037037,    0.038038,    0.039039,     0.04004,    0.041041,    0.042042,    0.043043,    0.044044,    0.045045,    0.046046,    0.047047,\n",
       "          0.048048,    0.049049,     0.05005,    0.051051,    0.052052,    0.053053,    0.054054,    0.055055,    0.056056,    0.057057,    0.058058,    0.059059,     0.06006,    0.061061,    0.062062,    0.063063,    0.064064,    0.065065,    0.066066,    0.067067,    0.068068,    0.069069,     0.07007,    0.071071,\n",
       "          0.072072,    0.073073,    0.074074,    0.075075,    0.076076,    0.077077,    0.078078,    0.079079,     0.08008,    0.081081,    0.082082,    0.083083,    0.084084,    0.085085,    0.086086,    0.087087,    0.088088,    0.089089,     0.09009,    0.091091,    0.092092,    0.093093,    0.094094,    0.095095,\n",
       "          0.096096,    0.097097,    0.098098,    0.099099,      0.1001,      0.1011,      0.1021,      0.1031,      0.1041,     0.10511,     0.10611,     0.10711,     0.10811,     0.10911,     0.11011,     0.11111,     0.11211,     0.11311,     0.11411,     0.11512,     0.11612,     0.11712,     0.11812,     0.11912,\n",
       "           0.12012,     0.12112,     0.12212,     0.12312,     0.12412,     0.12513,     0.12613,     0.12713,     0.12813,     0.12913,     0.13013,     0.13113,     0.13213,     0.13313,     0.13413,     0.13514,     0.13614,     0.13714,     0.13814,     0.13914,     0.14014,     0.14114,     0.14214,     0.14314,\n",
       "           0.14414,     0.14515,     0.14615,     0.14715,     0.14815,     0.14915,     0.15015,     0.15115,     0.15215,     0.15315,     0.15415,     0.15516,     0.15616,     0.15716,     0.15816,     0.15916,     0.16016,     0.16116,     0.16216,     0.16316,     0.16416,     0.16517,     0.16617,     0.16717,\n",
       "           0.16817,     0.16917,     0.17017,     0.17117,     0.17217,     0.17317,     0.17417,     0.17518,     0.17618,     0.17718,     0.17818,     0.17918,     0.18018,     0.18118,     0.18218,     0.18318,     0.18418,     0.18519,     0.18619,     0.18719,     0.18819,     0.18919,     0.19019,     0.19119,\n",
       "           0.19219,     0.19319,     0.19419,      0.1952,      0.1962,      0.1972,      0.1982,      0.1992,      0.2002,      0.2012,      0.2022,      0.2032,      0.2042,     0.20521,     0.20621,     0.20721,     0.20821,     0.20921,     0.21021,     0.21121,     0.21221,     0.21321,     0.21421,     0.21522,\n",
       "           0.21622,     0.21722,     0.21822,     0.21922,     0.22022,     0.22122,     0.22222,     0.22322,     0.22422,     0.22523,     0.22623,     0.22723,     0.22823,     0.22923,     0.23023,     0.23123,     0.23223,     0.23323,     0.23423,     0.23524,     0.23624,     0.23724,     0.23824,     0.23924,\n",
       "           0.24024,     0.24124,     0.24224,     0.24324,     0.24424,     0.24525,     0.24625,     0.24725,     0.24825,     0.24925,     0.25025,     0.25125,     0.25225,     0.25325,     0.25425,     0.25526,     0.25626,     0.25726,     0.25826,     0.25926,     0.26026,     0.26126,     0.26226,     0.26326,\n",
       "           0.26426,     0.26527,     0.26627,     0.26727,     0.26827,     0.26927,     0.27027,     0.27127,     0.27227,     0.27327,     0.27427,     0.27528,     0.27628,     0.27728,     0.27828,     0.27928,     0.28028,     0.28128,     0.28228,     0.28328,     0.28428,     0.28529,     0.28629,     0.28729,\n",
       "           0.28829,     0.28929,     0.29029,     0.29129,     0.29229,     0.29329,     0.29429,      0.2953,      0.2963,      0.2973,      0.2983,      0.2993,      0.3003,      0.3013,      0.3023,      0.3033,      0.3043,     0.30531,     0.30631,     0.30731,     0.30831,     0.30931,     0.31031,     0.31131,\n",
       "           0.31231,     0.31331,     0.31431,     0.31532,     0.31632,     0.31732,     0.31832,     0.31932,     0.32032,     0.32132,     0.32232,     0.32332,     0.32432,     0.32533,     0.32633,     0.32733,     0.32833,     0.32933,     0.33033,     0.33133,     0.33233,     0.33333,     0.33433,     0.33534,\n",
       "           0.33634,     0.33734,     0.33834,     0.33934,     0.34034,     0.34134,     0.34234,     0.34334,     0.34434,     0.34535,     0.34635,     0.34735,     0.34835,     0.34935,     0.35035,     0.35135,     0.35235,     0.35335,     0.35435,     0.35536,     0.35636,     0.35736,     0.35836,     0.35936,\n",
       "           0.36036,     0.36136,     0.36236,     0.36336,     0.36436,     0.36537,     0.36637,     0.36737,     0.36837,     0.36937,     0.37037,     0.37137,     0.37237,     0.37337,     0.37437,     0.37538,     0.37638,     0.37738,     0.37838,     0.37938,     0.38038,     0.38138,     0.38238,     0.38338,\n",
       "           0.38438,     0.38539,     0.38639,     0.38739,     0.38839,     0.38939,     0.39039,     0.39139,     0.39239,     0.39339,     0.39439,      0.3954,      0.3964,      0.3974,      0.3984,      0.3994,      0.4004,      0.4014,      0.4024,      0.4034,      0.4044,     0.40541,     0.40641,     0.40741,\n",
       "           0.40841,     0.40941,     0.41041,     0.41141,     0.41241,     0.41341,     0.41441,     0.41542,     0.41642,     0.41742,     0.41842,     0.41942,     0.42042,     0.42142,     0.42242,     0.42342,     0.42442,     0.42543,     0.42643,     0.42743,     0.42843,     0.42943,     0.43043,     0.43143,\n",
       "           0.43243,     0.43343,     0.43443,     0.43544,     0.43644,     0.43744,     0.43844,     0.43944,     0.44044,     0.44144,     0.44244,     0.44344,     0.44444,     0.44545,     0.44645,     0.44745,     0.44845,     0.44945,     0.45045,     0.45145,     0.45245,     0.45345,     0.45445,     0.45546,\n",
       "           0.45646,     0.45746,     0.45846,     0.45946,     0.46046,     0.46146,     0.46246,     0.46346,     0.46446,     0.46547,     0.46647,     0.46747,     0.46847,     0.46947,     0.47047,     0.47147,     0.47247,     0.47347,     0.47447,     0.47548,     0.47648,     0.47748,     0.47848,     0.47948,\n",
       "           0.48048,     0.48148,     0.48248,     0.48348,     0.48448,     0.48549,     0.48649,     0.48749,     0.48849,     0.48949,     0.49049,     0.49149,     0.49249,     0.49349,     0.49449,      0.4955,      0.4965,      0.4975,      0.4985,      0.4995,      0.5005,      0.5015,      0.5025,      0.5035,\n",
       "            0.5045,     0.50551,     0.50651,     0.50751,     0.50851,     0.50951,     0.51051,     0.51151,     0.51251,     0.51351,     0.51451,     0.51552,     0.51652,     0.51752,     0.51852,     0.51952,     0.52052,     0.52152,     0.52252,     0.52352,     0.52452,     0.52553,     0.52653,     0.52753,\n",
       "           0.52853,     0.52953,     0.53053,     0.53153,     0.53253,     0.53353,     0.53453,     0.53554,     0.53654,     0.53754,     0.53854,     0.53954,     0.54054,     0.54154,     0.54254,     0.54354,     0.54454,     0.54555,     0.54655,     0.54755,     0.54855,     0.54955,     0.55055,     0.55155,\n",
       "           0.55255,     0.55355,     0.55455,     0.55556,     0.55656,     0.55756,     0.55856,     0.55956,     0.56056,     0.56156,     0.56256,     0.56356,     0.56456,     0.56557,     0.56657,     0.56757,     0.56857,     0.56957,     0.57057,     0.57157,     0.57257,     0.57357,     0.57457,     0.57558,\n",
       "           0.57658,     0.57758,     0.57858,     0.57958,     0.58058,     0.58158,     0.58258,     0.58358,     0.58458,     0.58559,     0.58659,     0.58759,     0.58859,     0.58959,     0.59059,     0.59159,     0.59259,     0.59359,     0.59459,      0.5956,      0.5966,      0.5976,      0.5986,      0.5996,\n",
       "            0.6006,      0.6016,      0.6026,      0.6036,      0.6046,     0.60561,     0.60661,     0.60761,     0.60861,     0.60961,     0.61061,     0.61161,     0.61261,     0.61361,     0.61461,     0.61562,     0.61662,     0.61762,     0.61862,     0.61962,     0.62062,     0.62162,     0.62262,     0.62362,\n",
       "           0.62462,     0.62563,     0.62663,     0.62763,     0.62863,     0.62963,     0.63063,     0.63163,     0.63263,     0.63363,     0.63463,     0.63564,     0.63664,     0.63764,     0.63864,     0.63964,     0.64064,     0.64164,     0.64264,     0.64364,     0.64464,     0.64565,     0.64665,     0.64765,\n",
       "           0.64865,     0.64965,     0.65065,     0.65165,     0.65265,     0.65365,     0.65465,     0.65566,     0.65666,     0.65766,     0.65866,     0.65966,     0.66066,     0.66166,     0.66266,     0.66366,     0.66466,     0.66567,     0.66667,     0.66767,     0.66867,     0.66967,     0.67067,     0.67167,\n",
       "           0.67267,     0.67367,     0.67467,     0.67568,     0.67668,     0.67768,     0.67868,     0.67968,     0.68068,     0.68168,     0.68268,     0.68368,     0.68468,     0.68569,     0.68669,     0.68769,     0.68869,     0.68969,     0.69069,     0.69169,     0.69269,     0.69369,     0.69469,      0.6957,\n",
       "            0.6967,      0.6977,      0.6987,      0.6997,      0.7007,      0.7017,      0.7027,      0.7037,      0.7047,     0.70571,     0.70671,     0.70771,     0.70871,     0.70971,     0.71071,     0.71171,     0.71271,     0.71371,     0.71471,     0.71572,     0.71672,     0.71772,     0.71872,     0.71972,\n",
       "           0.72072,     0.72172,     0.72272,     0.72372,     0.72472,     0.72573,     0.72673,     0.72773,     0.72873,     0.72973,     0.73073,     0.73173,     0.73273,     0.73373,     0.73473,     0.73574,     0.73674,     0.73774,     0.73874,     0.73974,     0.74074,     0.74174,     0.74274,     0.74374,\n",
       "           0.74474,     0.74575,     0.74675,     0.74775,     0.74875,     0.74975,     0.75075,     0.75175,     0.75275,     0.75375,     0.75475,     0.75576,     0.75676,     0.75776,     0.75876,     0.75976,     0.76076,     0.76176,     0.76276,     0.76376,     0.76476,     0.76577,     0.76677,     0.76777,\n",
       "           0.76877,     0.76977,     0.77077,     0.77177,     0.77277,     0.77377,     0.77477,     0.77578,     0.77678,     0.77778,     0.77878,     0.77978,     0.78078,     0.78178,     0.78278,     0.78378,     0.78478,     0.78579,     0.78679,     0.78779,     0.78879,     0.78979,     0.79079,     0.79179,\n",
       "           0.79279,     0.79379,     0.79479,      0.7958,      0.7968,      0.7978,      0.7988,      0.7998,      0.8008,      0.8018,      0.8028,      0.8038,      0.8048,     0.80581,     0.80681,     0.80781,     0.80881,     0.80981,     0.81081,     0.81181,     0.81281,     0.81381,     0.81481,     0.81582,\n",
       "           0.81682,     0.81782,     0.81882,     0.81982,     0.82082,     0.82182,     0.82282,     0.82382,     0.82482,     0.82583,     0.82683,     0.82783,     0.82883,     0.82983,     0.83083,     0.83183,     0.83283,     0.83383,     0.83483,     0.83584,     0.83684,     0.83784,     0.83884,     0.83984,\n",
       "           0.84084,     0.84184,     0.84284,     0.84384,     0.84484,     0.84585,     0.84685,     0.84785,     0.84885,     0.84985,     0.85085,     0.85185,     0.85285,     0.85385,     0.85485,     0.85586,     0.85686,     0.85786,     0.85886,     0.85986,     0.86086,     0.86186,     0.86286,     0.86386,\n",
       "           0.86486,     0.86587,     0.86687,     0.86787,     0.86887,     0.86987,     0.87087,     0.87187,     0.87287,     0.87387,     0.87487,     0.87588,     0.87688,     0.87788,     0.87888,     0.87988,     0.88088,     0.88188,     0.88288,     0.88388,     0.88488,     0.88589,     0.88689,     0.88789,\n",
       "           0.88889,     0.88989,     0.89089,     0.89189,     0.89289,     0.89389,     0.89489,      0.8959,      0.8969,      0.8979,      0.8989,      0.8999,      0.9009,      0.9019,      0.9029,      0.9039,      0.9049,     0.90591,     0.90691,     0.90791,     0.90891,     0.90991,     0.91091,     0.91191,\n",
       "           0.91291,     0.91391,     0.91491,     0.91592,     0.91692,     0.91792,     0.91892,     0.91992,     0.92092,     0.92192,     0.92292,     0.92392,     0.92492,     0.92593,     0.92693,     0.92793,     0.92893,     0.92993,     0.93093,     0.93193,     0.93293,     0.93393,     0.93493,     0.93594,\n",
       "           0.93694,     0.93794,     0.93894,     0.93994,     0.94094,     0.94194,     0.94294,     0.94394,     0.94494,     0.94595,     0.94695,     0.94795,     0.94895,     0.94995,     0.95095,     0.95195,     0.95295,     0.95395,     0.95495,     0.95596,     0.95696,     0.95796,     0.95896,     0.95996,\n",
       "           0.96096,     0.96196,     0.96296,     0.96396,     0.96496,     0.96597,     0.96697,     0.96797,     0.96897,     0.96997,     0.97097,     0.97197,     0.97297,     0.97397,     0.97497,     0.97598,     0.97698,     0.97798,     0.97898,     0.97998,     0.98098,     0.98198,     0.98298,     0.98398,\n",
       "           0.98498,     0.98599,     0.98699,     0.98799,     0.98899,     0.98999,     0.99099,     0.99199,     0.99299,     0.99399,     0.99499,       0.996,       0.997,       0.998,       0.999,           1]), array([[          1,           1,           1,           1,           1,           1,           1,           1,     0.94118,     0.94118,     0.94118,     0.94118,     0.94118,     0.94118,     0.94118,     0.94118,     0.94118,     0.94118,     0.94118,     0.94118,     0.94118,     0.94118,     0.94118,\n",
       "            0.94118,     0.94118,     0.94118,     0.94118,     0.94118,     0.94118,     0.94118,     0.94118,     0.94118,     0.94118,     0.94118,     0.94118,     0.94118,     0.94118,     0.94118,     0.94118,     0.94118,     0.94118,     0.94118,     0.94118,     0.94118,     0.94118,     0.94118,\n",
       "            0.94118,     0.94118,     0.94118,     0.94118,     0.94118,     0.94118,     0.94118,     0.94118,     0.94118,     0.94118,     0.94118,     0.94118,     0.94118,     0.94118,     0.94118,     0.92593,     0.92593,     0.92593,     0.92593,     0.92593,     0.92593,     0.92593,     0.92593,\n",
       "            0.92593,     0.92593,     0.92593,     0.92593,     0.92593,     0.92593,     0.92593,     0.92593,     0.92593,     0.92593,     0.92593,     0.92593,     0.92593,     0.92593,     0.92593,     0.92593,     0.92593,     0.92593,     0.92593,     0.92593,     0.92593,     0.92593,     0.92593,\n",
       "            0.92593,     0.92593,     0.91071,     0.91071,     0.91071,     0.91071,     0.91071,     0.91071,     0.91071,     0.91071,     0.91071,     0.91071,     0.91071,     0.91071,     0.91071,     0.91071,     0.91071,     0.91071,     0.91071,     0.91071,     0.91071,     0.91071,     0.91071,\n",
       "            0.91071,     0.91071,     0.91071,     0.91071,     0.91071,     0.91071,     0.91071,     0.91071,     0.91071,     0.91071,     0.91071,     0.91071,     0.91071,     0.91071,     0.91071,     0.91071,     0.91071,     0.91071,     0.91071,     0.91071,     0.91071,     0.91071,     0.91071,\n",
       "            0.91071,     0.91071,     0.91071,     0.91071,     0.91071,     0.91071,     0.91071,     0.91071,     0.91071,     0.91071,     0.91071,     0.91071,     0.91071,     0.91071,     0.91071,     0.91071,     0.91071,     0.91071,     0.91071,     0.91071,     0.91071,     0.91071,     0.91071,\n",
       "            0.91071,     0.91071,     0.91071,     0.91071,     0.91071,     0.91071,     0.91071,     0.91071,     0.91071,     0.91071,     0.91071,     0.91071,     0.91071,     0.91071,     0.91071,     0.91071,     0.91071,     0.91071,     0.91071,     0.91071,     0.91071,     0.91071,     0.91071,\n",
       "            0.91071,     0.91071,     0.91071,     0.91071,     0.91071,     0.91071,     0.91071,     0.91071,     0.90164,     0.90164,     0.90164,     0.90164,     0.90164,     0.90164,     0.90164,     0.90164,     0.90164,     0.90164,     0.90164,     0.90164,     0.90164,     0.90164,     0.90164,\n",
       "            0.88889,     0.88889,     0.88889,     0.88889,     0.87692,     0.87692,     0.87692,     0.87692,     0.87143,     0.87143,     0.87143,     0.87143,     0.87143,     0.87143,     0.87143,     0.87143,     0.87143,     0.87143,     0.87143,     0.87143,     0.87143,     0.87143,     0.87143,\n",
       "            0.86301,     0.86301,     0.86301,     0.86301,     0.86301,     0.86301,     0.86301,     0.86076,     0.86076,     0.86076,     0.86076,     0.86076,     0.86076,     0.86076,     0.86076,     0.86076,     0.86076,     0.86076,     0.86076,     0.86076,     0.86076,     0.86076,     0.86076,\n",
       "            0.86076,     0.86076,     0.86076,     0.84337,     0.84337,     0.84337,     0.84337,     0.84337,     0.84337,     0.84337,     0.83168,     0.83168,     0.83168,     0.83168,     0.83168,     0.83168,     0.83168,     0.83168,     0.83168,     0.83168,     0.83168,     0.83168,     0.83168,\n",
       "            0.83168,     0.83168,     0.83168,     0.83168,     0.83168,     0.83168,     0.83168,     0.83168,     0.83168,     0.83168,     0.83168,     0.83168,     0.83168,     0.83168,     0.83168,     0.83168,     0.83168,     0.83168,     0.83168,     0.83168,     0.83168,     0.83168,     0.83168,\n",
       "            0.83168,     0.83168,     0.83168,     0.83168,     0.83168,     0.83168,     0.83168,     0.83168,     0.83168,     0.83168,     0.83168,     0.83168,     0.83168,     0.83168,     0.83168,     0.83168,     0.83168,     0.82857,     0.82857,     0.82857,     0.82857,     0.82857,     0.82857,\n",
       "            0.82857,     0.82857,     0.82857,     0.82857,     0.82857,     0.81651,     0.81651,     0.81651,     0.81651,     0.81651,     0.81651,     0.81651,     0.81651,     0.81356,     0.81356,     0.81356,     0.81356,     0.81356,     0.81356,     0.81356,     0.81356,     0.81356,     0.81356,\n",
       "            0.81356,     0.81356,     0.81356,     0.81356,     0.81356,     0.81356,     0.81356,     0.81356,     0.81356,     0.81356,     0.81356,     0.81356,     0.81356,     0.81356,     0.81356,     0.81356,     0.79528,     0.79528,     0.79528,     0.79528,     0.79528,     0.79528,     0.79528,\n",
       "            0.79528,     0.79528,     0.79528,     0.79528,     0.79528,     0.79528,     0.79528,     0.79528,     0.79528,     0.79528,     0.79528,     0.79528,     0.77273,     0.77273,     0.77273,     0.77273,     0.76866,     0.76866,     0.76866,     0.76642,     0.76642,     0.76642,     0.76642,\n",
       "            0.76642,     0.76642,     0.76642,     0.76642,     0.76259,     0.76259,     0.76259,     0.76259,     0.74825,     0.74825,     0.74825,     0.74483,     0.74483,     0.74483,     0.74483,      0.7415,      0.7415,      0.7415,      0.7415,        0.74,        0.74,        0.74,        0.74,\n",
       "               0.74,        0.74,        0.74,     0.73203,     0.73203,     0.73203,     0.73203,     0.73077,     0.73077,     0.73077,     0.73077,     0.73077,     0.73077,     0.73077,     0.73077,     0.72785,     0.72785,     0.72785,      0.7205,      0.7205,      0.7205,      0.7205,     0.71341,\n",
       "            0.71341,     0.71341,     0.71341,     0.69006,     0.69006,     0.69006,     0.69006,     0.68786,     0.68786,     0.68786,     0.67797,     0.67797,     0.67797,     0.67797,     0.67222,     0.67222,     0.67222,     0.67222,     0.67033,     0.67033,     0.67033,     0.67033,      0.6701,\n",
       "             0.6701,      0.6701,      0.6701,      0.6701,      0.6701,      0.6701,      0.6701,      0.6701,      0.6701,      0.6701,      0.6701,      0.6701,      0.6701,      0.6701,      0.6701,      0.6701,      0.6701,      0.6701,      0.6701,      0.6701,      0.6701,      0.6701,      0.6701,\n",
       "             0.6701,      0.6701,      0.6701,      0.6701,      0.6701,      0.6701,     0.65842,     0.65842,     0.65842,     0.65842,     0.65842,     0.65842,     0.65842,     0.65842,     0.65842,     0.65842,     0.65842,     0.65686,     0.65686,     0.65686,     0.65686,     0.63981,     0.63981,\n",
       "            0.63981,     0.63981,     0.59912,     0.59912,     0.59912,     0.59052,     0.59052,     0.59052,     0.59052,     0.58228,     0.58228,     0.58228,     0.58228,     0.56735,     0.56735,     0.56735,     0.56735,     0.55777,     0.55777,     0.55777,     0.55385,     0.55385,     0.55385,\n",
       "            0.55385,     0.55385,     0.55385,     0.55385,     0.55385,     0.55385,     0.55385,     0.55385,     0.55385,     0.55385,     0.55385,     0.55385,     0.52536,     0.52536,     0.52536,     0.52536,      0.5233,      0.5233,      0.5233,      0.5233,     0.52313,     0.52313,     0.52313,\n",
       "            0.52313,      0.5193,      0.5193,      0.5193,     0.51736,     0.51736,     0.51736,     0.51736,      0.5102,      0.5102,      0.5102,      0.5102,     0.48867,     0.48867,     0.48867,     0.48867,     0.48254,     0.48254,     0.48254,     0.48125,     0.48125,     0.48125,     0.48125,\n",
       "            0.48125,     0.48125,     0.48125,     0.48125,        0.48,        0.48,        0.48,        0.48,        0.48,        0.48,        0.48,     0.46726,     0.46726,     0.46726,     0.46726,     0.44759,     0.44759,     0.44759,     0.44759,     0.44413,     0.44413,     0.44413,     0.44413,\n",
       "            0.44321,     0.44321,     0.44321,     0.43548,     0.43548,     0.43548,     0.43548,     0.43548,     0.43548,     0.43548,     0.43548,     0.43467,     0.43467,     0.43467,     0.43467,     0.43272,     0.43272,     0.43272,     0.42526,     0.42526,     0.42526,     0.42526,     0.42347,\n",
       "            0.42347,     0.42347,     0.42347,     0.40732,     0.40732,     0.40732,     0.40732,     0.40482,     0.40482,     0.40482,     0.39953,     0.39953,     0.39953,     0.39953,     0.37118,     0.37118,     0.37118,     0.37118,     0.35774,     0.35774,     0.35774,     0.35774,      0.3567,\n",
       "             0.3567,      0.3567,      0.3567,      0.3567,      0.3567,      0.3567,     0.34381,     0.34381,     0.34381,     0.34381,     0.34381,     0.34381,     0.34381,     0.34381,     0.34375,     0.34375,     0.34375,     0.31949,     0.31949,     0.31949,     0.31949,     0.31173,     0.31173,\n",
       "            0.31173,     0.31173,     0.29983,     0.29983,     0.29983,     0.29983,       0.288,       0.288,       0.288,       0.288,      0.2837,      0.2837,      0.2837,     0.28349,     0.28349,     0.28349,     0.28349,     0.27436,     0.27436,     0.27436,     0.27436,     0.23803,     0.23803,\n",
       "            0.23803,     0.23803,     0.23388,     0.23388,     0.23388,      0.2325,      0.2325,      0.2325,      0.2325,     0.22503,     0.22503,     0.22503,     0.22503,     0.22014,     0.22014,     0.22014,     0.22014,     0.20214,     0.20214,     0.20214,     0.19937,     0.19937,     0.19937,\n",
       "            0.19937,     0.18892,     0.18892,     0.18892,     0.18892,      0.1875,      0.1875,      0.1875,      0.1875,     0.18558,     0.18558,     0.18558,      0.1819,      0.1819,      0.1819,      0.1819,      0.1819,      0.1819,      0.1819,      0.1819,     0.17469,     0.17469,     0.17469,\n",
       "            0.17469,     0.17311,     0.17311,     0.17311,     0.16695,     0.16695,     0.16695,     0.16695,     0.15744,     0.15744,     0.15744,     0.15744,     0.15699,     0.15699,     0.15699,     0.15699,     0.14889,     0.14889,     0.14889,     0.14648,     0.14648,     0.14648,     0.14648,\n",
       "            0.13914,     0.13914,     0.13914,     0.13914,     0.13043,     0.13043,     0.13043,     0.13043,     0.12861,     0.12861,     0.12861,     0.12211,     0.12211,     0.12211,     0.12211,     0.11768,     0.11768,     0.11768,     0.11768,     0.11379,     0.11379,     0.11379,     0.11379,\n",
       "            0.11117,     0.11117,     0.11117,     0.10742,     0.10742,     0.10742,     0.10742,    0.092788,    0.092788,    0.092788,    0.092788,    0.089001,    0.089001,    0.089001,    0.089001,    0.088602,    0.088602,    0.088602,    0.087098,    0.087098,    0.087098,    0.087098,    0.086276,\n",
       "           0.086276,    0.086276,    0.086276,    0.085477,    0.085477,    0.085477,    0.085477,    0.077861,    0.077861,    0.077861,    0.074581,    0.074581,    0.074581,    0.074581,    0.073318,    0.073318,    0.073318,    0.073318,    0.064497,    0.064497,    0.064497,    0.064497,    0.063689,\n",
       "           0.063689,    0.063689,    0.063465,    0.063465,    0.063465,    0.063465,    0.063152,    0.063152,    0.063152,    0.063152,    0.063152,    0.063152,    0.063152,    0.063152,    0.055528,    0.055528,    0.055528,    0.055528,    0.054695,    0.054695,    0.054695,    0.052136,    0.052136,\n",
       "           0.052136,    0.052136,    0.051294,    0.051294,    0.051294,    0.051294,    0.047698,    0.047698,    0.047698,    0.047698,    0.047064,    0.047064,    0.047064,    0.046723,    0.046723,    0.046723,    0.046723,    0.045215,    0.045215,    0.045215,    0.045215,    0.041363,    0.041363,\n",
       "           0.041363,    0.041363,    0.036433,    0.036137,    0.035841,    0.035544,    0.035248,    0.034952,    0.034656,     0.03436,    0.034063,    0.033767,    0.033471,    0.033175,    0.032879,    0.032582,    0.032286,     0.03199,    0.031694,    0.031398,    0.031101,    0.030805,    0.030509,\n",
       "           0.030213,    0.029917,     0.02962,    0.029324,    0.029028,    0.028732,    0.028435,    0.028139,    0.027843,    0.027547,    0.027251,    0.026954,    0.026658,    0.026362,    0.026066,     0.02577,    0.025473,    0.025177,    0.024881,    0.024585,    0.024289,    0.023992,    0.023696,\n",
       "             0.0234,    0.023104,    0.022808,    0.022511,    0.022215,    0.021919,    0.021623,    0.021327,     0.02103,    0.020734,    0.020438,    0.020142,    0.019846,    0.019549,    0.019253,    0.018957,    0.018661,    0.018365,    0.018068,    0.017772,    0.017476,     0.01718,    0.016884,\n",
       "           0.016587,    0.016291,    0.015995,    0.015699,    0.015403,    0.015106,     0.01481,    0.014514,    0.014218,    0.013922,    0.013625,    0.013329,    0.013033,    0.012737,    0.012441,    0.012144,    0.011848,    0.011552,    0.011256,     0.01096,    0.010663,    0.010367,    0.010071,\n",
       "          0.0097747,   0.0094785,   0.0091823,   0.0088861,   0.0085899,   0.0082937,   0.0079975,   0.0077013,   0.0074051,   0.0071089,   0.0068127,   0.0065165,   0.0062203,   0.0059241,   0.0056279,   0.0053317,   0.0050355,   0.0047392,    0.004443,   0.0041468,   0.0038506,   0.0035544,   0.0032582,\n",
       "           0.002962,   0.0026658,   0.0023696,   0.0020734,   0.0017772,    0.001481,   0.0011848,  0.00088861,  0.00059241,   0.0002962,           0]]), 'Recall', 'Precision'], [array([          0,    0.001001,    0.002002,    0.003003,    0.004004,    0.005005,    0.006006,    0.007007,    0.008008,    0.009009,     0.01001,    0.011011,    0.012012,    0.013013,    0.014014,    0.015015,    0.016016,    0.017017,    0.018018,    0.019019,     0.02002,    0.021021,    0.022022,    0.023023,\n",
       "          0.024024,    0.025025,    0.026026,    0.027027,    0.028028,    0.029029,     0.03003,    0.031031,    0.032032,    0.033033,    0.034034,    0.035035,    0.036036,    0.037037,    0.038038,    0.039039,     0.04004,    0.041041,    0.042042,    0.043043,    0.044044,    0.045045,    0.046046,    0.047047,\n",
       "          0.048048,    0.049049,     0.05005,    0.051051,    0.052052,    0.053053,    0.054054,    0.055055,    0.056056,    0.057057,    0.058058,    0.059059,     0.06006,    0.061061,    0.062062,    0.063063,    0.064064,    0.065065,    0.066066,    0.067067,    0.068068,    0.069069,     0.07007,    0.071071,\n",
       "          0.072072,    0.073073,    0.074074,    0.075075,    0.076076,    0.077077,    0.078078,    0.079079,     0.08008,    0.081081,    0.082082,    0.083083,    0.084084,    0.085085,    0.086086,    0.087087,    0.088088,    0.089089,     0.09009,    0.091091,    0.092092,    0.093093,    0.094094,    0.095095,\n",
       "          0.096096,    0.097097,    0.098098,    0.099099,      0.1001,      0.1011,      0.1021,      0.1031,      0.1041,     0.10511,     0.10611,     0.10711,     0.10811,     0.10911,     0.11011,     0.11111,     0.11211,     0.11311,     0.11411,     0.11512,     0.11612,     0.11712,     0.11812,     0.11912,\n",
       "           0.12012,     0.12112,     0.12212,     0.12312,     0.12412,     0.12513,     0.12613,     0.12713,     0.12813,     0.12913,     0.13013,     0.13113,     0.13213,     0.13313,     0.13413,     0.13514,     0.13614,     0.13714,     0.13814,     0.13914,     0.14014,     0.14114,     0.14214,     0.14314,\n",
       "           0.14414,     0.14515,     0.14615,     0.14715,     0.14815,     0.14915,     0.15015,     0.15115,     0.15215,     0.15315,     0.15415,     0.15516,     0.15616,     0.15716,     0.15816,     0.15916,     0.16016,     0.16116,     0.16216,     0.16316,     0.16416,     0.16517,     0.16617,     0.16717,\n",
       "           0.16817,     0.16917,     0.17017,     0.17117,     0.17217,     0.17317,     0.17417,     0.17518,     0.17618,     0.17718,     0.17818,     0.17918,     0.18018,     0.18118,     0.18218,     0.18318,     0.18418,     0.18519,     0.18619,     0.18719,     0.18819,     0.18919,     0.19019,     0.19119,\n",
       "           0.19219,     0.19319,     0.19419,      0.1952,      0.1962,      0.1972,      0.1982,      0.1992,      0.2002,      0.2012,      0.2022,      0.2032,      0.2042,     0.20521,     0.20621,     0.20721,     0.20821,     0.20921,     0.21021,     0.21121,     0.21221,     0.21321,     0.21421,     0.21522,\n",
       "           0.21622,     0.21722,     0.21822,     0.21922,     0.22022,     0.22122,     0.22222,     0.22322,     0.22422,     0.22523,     0.22623,     0.22723,     0.22823,     0.22923,     0.23023,     0.23123,     0.23223,     0.23323,     0.23423,     0.23524,     0.23624,     0.23724,     0.23824,     0.23924,\n",
       "           0.24024,     0.24124,     0.24224,     0.24324,     0.24424,     0.24525,     0.24625,     0.24725,     0.24825,     0.24925,     0.25025,     0.25125,     0.25225,     0.25325,     0.25425,     0.25526,     0.25626,     0.25726,     0.25826,     0.25926,     0.26026,     0.26126,     0.26226,     0.26326,\n",
       "           0.26426,     0.26527,     0.26627,     0.26727,     0.26827,     0.26927,     0.27027,     0.27127,     0.27227,     0.27327,     0.27427,     0.27528,     0.27628,     0.27728,     0.27828,     0.27928,     0.28028,     0.28128,     0.28228,     0.28328,     0.28428,     0.28529,     0.28629,     0.28729,\n",
       "           0.28829,     0.28929,     0.29029,     0.29129,     0.29229,     0.29329,     0.29429,      0.2953,      0.2963,      0.2973,      0.2983,      0.2993,      0.3003,      0.3013,      0.3023,      0.3033,      0.3043,     0.30531,     0.30631,     0.30731,     0.30831,     0.30931,     0.31031,     0.31131,\n",
       "           0.31231,     0.31331,     0.31431,     0.31532,     0.31632,     0.31732,     0.31832,     0.31932,     0.32032,     0.32132,     0.32232,     0.32332,     0.32432,     0.32533,     0.32633,     0.32733,     0.32833,     0.32933,     0.33033,     0.33133,     0.33233,     0.33333,     0.33433,     0.33534,\n",
       "           0.33634,     0.33734,     0.33834,     0.33934,     0.34034,     0.34134,     0.34234,     0.34334,     0.34434,     0.34535,     0.34635,     0.34735,     0.34835,     0.34935,     0.35035,     0.35135,     0.35235,     0.35335,     0.35435,     0.35536,     0.35636,     0.35736,     0.35836,     0.35936,\n",
       "           0.36036,     0.36136,     0.36236,     0.36336,     0.36436,     0.36537,     0.36637,     0.36737,     0.36837,     0.36937,     0.37037,     0.37137,     0.37237,     0.37337,     0.37437,     0.37538,     0.37638,     0.37738,     0.37838,     0.37938,     0.38038,     0.38138,     0.38238,     0.38338,\n",
       "           0.38438,     0.38539,     0.38639,     0.38739,     0.38839,     0.38939,     0.39039,     0.39139,     0.39239,     0.39339,     0.39439,      0.3954,      0.3964,      0.3974,      0.3984,      0.3994,      0.4004,      0.4014,      0.4024,      0.4034,      0.4044,     0.40541,     0.40641,     0.40741,\n",
       "           0.40841,     0.40941,     0.41041,     0.41141,     0.41241,     0.41341,     0.41441,     0.41542,     0.41642,     0.41742,     0.41842,     0.41942,     0.42042,     0.42142,     0.42242,     0.42342,     0.42442,     0.42543,     0.42643,     0.42743,     0.42843,     0.42943,     0.43043,     0.43143,\n",
       "           0.43243,     0.43343,     0.43443,     0.43544,     0.43644,     0.43744,     0.43844,     0.43944,     0.44044,     0.44144,     0.44244,     0.44344,     0.44444,     0.44545,     0.44645,     0.44745,     0.44845,     0.44945,     0.45045,     0.45145,     0.45245,     0.45345,     0.45445,     0.45546,\n",
       "           0.45646,     0.45746,     0.45846,     0.45946,     0.46046,     0.46146,     0.46246,     0.46346,     0.46446,     0.46547,     0.46647,     0.46747,     0.46847,     0.46947,     0.47047,     0.47147,     0.47247,     0.47347,     0.47447,     0.47548,     0.47648,     0.47748,     0.47848,     0.47948,\n",
       "           0.48048,     0.48148,     0.48248,     0.48348,     0.48448,     0.48549,     0.48649,     0.48749,     0.48849,     0.48949,     0.49049,     0.49149,     0.49249,     0.49349,     0.49449,      0.4955,      0.4965,      0.4975,      0.4985,      0.4995,      0.5005,      0.5015,      0.5025,      0.5035,\n",
       "            0.5045,     0.50551,     0.50651,     0.50751,     0.50851,     0.50951,     0.51051,     0.51151,     0.51251,     0.51351,     0.51451,     0.51552,     0.51652,     0.51752,     0.51852,     0.51952,     0.52052,     0.52152,     0.52252,     0.52352,     0.52452,     0.52553,     0.52653,     0.52753,\n",
       "           0.52853,     0.52953,     0.53053,     0.53153,     0.53253,     0.53353,     0.53453,     0.53554,     0.53654,     0.53754,     0.53854,     0.53954,     0.54054,     0.54154,     0.54254,     0.54354,     0.54454,     0.54555,     0.54655,     0.54755,     0.54855,     0.54955,     0.55055,     0.55155,\n",
       "           0.55255,     0.55355,     0.55455,     0.55556,     0.55656,     0.55756,     0.55856,     0.55956,     0.56056,     0.56156,     0.56256,     0.56356,     0.56456,     0.56557,     0.56657,     0.56757,     0.56857,     0.56957,     0.57057,     0.57157,     0.57257,     0.57357,     0.57457,     0.57558,\n",
       "           0.57658,     0.57758,     0.57858,     0.57958,     0.58058,     0.58158,     0.58258,     0.58358,     0.58458,     0.58559,     0.58659,     0.58759,     0.58859,     0.58959,     0.59059,     0.59159,     0.59259,     0.59359,     0.59459,      0.5956,      0.5966,      0.5976,      0.5986,      0.5996,\n",
       "            0.6006,      0.6016,      0.6026,      0.6036,      0.6046,     0.60561,     0.60661,     0.60761,     0.60861,     0.60961,     0.61061,     0.61161,     0.61261,     0.61361,     0.61461,     0.61562,     0.61662,     0.61762,     0.61862,     0.61962,     0.62062,     0.62162,     0.62262,     0.62362,\n",
       "           0.62462,     0.62563,     0.62663,     0.62763,     0.62863,     0.62963,     0.63063,     0.63163,     0.63263,     0.63363,     0.63463,     0.63564,     0.63664,     0.63764,     0.63864,     0.63964,     0.64064,     0.64164,     0.64264,     0.64364,     0.64464,     0.64565,     0.64665,     0.64765,\n",
       "           0.64865,     0.64965,     0.65065,     0.65165,     0.65265,     0.65365,     0.65465,     0.65566,     0.65666,     0.65766,     0.65866,     0.65966,     0.66066,     0.66166,     0.66266,     0.66366,     0.66466,     0.66567,     0.66667,     0.66767,     0.66867,     0.66967,     0.67067,     0.67167,\n",
       "           0.67267,     0.67367,     0.67467,     0.67568,     0.67668,     0.67768,     0.67868,     0.67968,     0.68068,     0.68168,     0.68268,     0.68368,     0.68468,     0.68569,     0.68669,     0.68769,     0.68869,     0.68969,     0.69069,     0.69169,     0.69269,     0.69369,     0.69469,      0.6957,\n",
       "            0.6967,      0.6977,      0.6987,      0.6997,      0.7007,      0.7017,      0.7027,      0.7037,      0.7047,     0.70571,     0.70671,     0.70771,     0.70871,     0.70971,     0.71071,     0.71171,     0.71271,     0.71371,     0.71471,     0.71572,     0.71672,     0.71772,     0.71872,     0.71972,\n",
       "           0.72072,     0.72172,     0.72272,     0.72372,     0.72472,     0.72573,     0.72673,     0.72773,     0.72873,     0.72973,     0.73073,     0.73173,     0.73273,     0.73373,     0.73473,     0.73574,     0.73674,     0.73774,     0.73874,     0.73974,     0.74074,     0.74174,     0.74274,     0.74374,\n",
       "           0.74474,     0.74575,     0.74675,     0.74775,     0.74875,     0.74975,     0.75075,     0.75175,     0.75275,     0.75375,     0.75475,     0.75576,     0.75676,     0.75776,     0.75876,     0.75976,     0.76076,     0.76176,     0.76276,     0.76376,     0.76476,     0.76577,     0.76677,     0.76777,\n",
       "           0.76877,     0.76977,     0.77077,     0.77177,     0.77277,     0.77377,     0.77477,     0.77578,     0.77678,     0.77778,     0.77878,     0.77978,     0.78078,     0.78178,     0.78278,     0.78378,     0.78478,     0.78579,     0.78679,     0.78779,     0.78879,     0.78979,     0.79079,     0.79179,\n",
       "           0.79279,     0.79379,     0.79479,      0.7958,      0.7968,      0.7978,      0.7988,      0.7998,      0.8008,      0.8018,      0.8028,      0.8038,      0.8048,     0.80581,     0.80681,     0.80781,     0.80881,     0.80981,     0.81081,     0.81181,     0.81281,     0.81381,     0.81481,     0.81582,\n",
       "           0.81682,     0.81782,     0.81882,     0.81982,     0.82082,     0.82182,     0.82282,     0.82382,     0.82482,     0.82583,     0.82683,     0.82783,     0.82883,     0.82983,     0.83083,     0.83183,     0.83283,     0.83383,     0.83483,     0.83584,     0.83684,     0.83784,     0.83884,     0.83984,\n",
       "           0.84084,     0.84184,     0.84284,     0.84384,     0.84484,     0.84585,     0.84685,     0.84785,     0.84885,     0.84985,     0.85085,     0.85185,     0.85285,     0.85385,     0.85485,     0.85586,     0.85686,     0.85786,     0.85886,     0.85986,     0.86086,     0.86186,     0.86286,     0.86386,\n",
       "           0.86486,     0.86587,     0.86687,     0.86787,     0.86887,     0.86987,     0.87087,     0.87187,     0.87287,     0.87387,     0.87487,     0.87588,     0.87688,     0.87788,     0.87888,     0.87988,     0.88088,     0.88188,     0.88288,     0.88388,     0.88488,     0.88589,     0.88689,     0.88789,\n",
       "           0.88889,     0.88989,     0.89089,     0.89189,     0.89289,     0.89389,     0.89489,      0.8959,      0.8969,      0.8979,      0.8989,      0.8999,      0.9009,      0.9019,      0.9029,      0.9039,      0.9049,     0.90591,     0.90691,     0.90791,     0.90891,     0.90991,     0.91091,     0.91191,\n",
       "           0.91291,     0.91391,     0.91491,     0.91592,     0.91692,     0.91792,     0.91892,     0.91992,     0.92092,     0.92192,     0.92292,     0.92392,     0.92492,     0.92593,     0.92693,     0.92793,     0.92893,     0.92993,     0.93093,     0.93193,     0.93293,     0.93393,     0.93493,     0.93594,\n",
       "           0.93694,     0.93794,     0.93894,     0.93994,     0.94094,     0.94194,     0.94294,     0.94394,     0.94494,     0.94595,     0.94695,     0.94795,     0.94895,     0.94995,     0.95095,     0.95195,     0.95295,     0.95395,     0.95495,     0.95596,     0.95696,     0.95796,     0.95896,     0.95996,\n",
       "           0.96096,     0.96196,     0.96296,     0.96396,     0.96496,     0.96597,     0.96697,     0.96797,     0.96897,     0.96997,     0.97097,     0.97197,     0.97297,     0.97397,     0.97497,     0.97598,     0.97698,     0.97798,     0.97898,     0.97998,     0.98098,     0.98198,     0.98298,     0.98398,\n",
       "           0.98498,     0.98599,     0.98699,     0.98799,     0.98899,     0.98999,     0.99099,     0.99199,     0.99299,     0.99399,     0.99499,       0.996,       0.997,       0.998,       0.999,           1]), array([[   0.070467,    0.070467,     0.10035,     0.12129,     0.14163,     0.15698,     0.17005,     0.18307,     0.19541,     0.20377,       0.212,     0.21929,     0.22645,     0.23358,     0.24084,     0.24527,     0.25219,      0.2597,     0.26611,      0.2723,     0.27591,     0.28006,     0.28548,\n",
       "            0.29103,     0.29187,      0.2972,     0.30055,      0.3053,     0.31068,     0.31418,     0.31674,     0.32059,     0.32594,     0.32986,     0.33409,     0.33536,     0.34053,      0.3428,     0.34867,     0.34889,     0.35303,      0.3559,     0.35755,     0.36169,     0.36548,     0.37202,\n",
       "            0.37505,      0.3784,     0.38304,     0.38569,      0.3904,     0.39174,     0.39458,     0.39852,     0.39984,     0.39901,     0.40139,     0.40403,     0.40527,     0.40779,     0.41075,     0.41444,     0.41531,     0.41985,       0.422,     0.42485,     0.42392,     0.42546,     0.42808,\n",
       "            0.43068,     0.42979,     0.43195,     0.43349,     0.43545,     0.43862,     0.44066,     0.44493,     0.44867,     0.45014,     0.45145,     0.45103,     0.44789,      0.4505,     0.45481,     0.45698,     0.45889,     0.45976,     0.46054,     0.45823,     0.45786,     0.45977,     0.46138,\n",
       "            0.46422,     0.46688,     0.46914,     0.46763,     0.46917,     0.47146,     0.47408,     0.47736,     0.47932,     0.48271,     0.48596,     0.48685,     0.49052,     0.49111,     0.49294,       0.492,      0.4924,     0.49367,     0.49701,     0.50123,     0.50238,     0.50295,     0.50259,\n",
       "            0.50378,     0.50781,     0.50831,     0.50714,     0.50811,     0.50749,       0.506,     0.50471,     0.50732,     0.51021,     0.50822,      0.5087,     0.50879,     0.50899,     0.50847,      0.5103,     0.51375,     0.51522,     0.51679,     0.52023,     0.52153,      0.5239,     0.52623,\n",
       "            0.52762,     0.52422,     0.52432,     0.52121,     0.52272,     0.52093,     0.52202,     0.52436,      0.5245,     0.52637,     0.52832,     0.53107,      0.5331,       0.534,     0.53715,     0.53679,     0.53473,     0.53505,     0.53537,     0.53683,     0.53745,     0.53576,      0.5331,\n",
       "            0.53497,     0.53692,     0.53841,      0.5389,     0.53954,     0.54169,     0.54233,     0.54297,     0.54501,     0.54615,     0.54709,      0.5429,     0.54061,     0.54065,     0.54095,     0.54126,     0.54157,     0.54155,     0.54336,     0.54246,     0.54346,     0.54377,     0.54407,\n",
       "            0.54437,     0.54483,      0.5453,     0.54591,     0.54717,     0.54777,     0.54816,     0.54843,     0.54869,     0.54896,     0.54908,     0.54861,     0.54955,      0.5515,     0.55098,     0.55046,     0.54993,     0.54941,     0.54888,     0.55004,     0.55302,     0.55691,     0.55777,\n",
       "            0.56034,     0.56094,     0.56166,     0.56256,     0.56299,     0.56343,     0.56529,     0.56511,     0.56757,     0.56983,     0.56733,     0.56737,     0.56493,     0.56428,     0.56363,     0.56299,     0.56234,     0.56031,     0.55936,     0.55981,     0.56026,     0.56284,     0.56375,\n",
       "            0.56443,     0.56502,     0.56238,     0.55865,     0.55713,     0.55525,     0.55202,     0.55049,     0.54898,     0.54753,     0.54637,     0.54727,     0.54843,     0.54498,     0.54351,     0.54364,     0.54376,     0.54154,     0.54193,     0.54252,     0.54139,     0.53997,     0.54023,\n",
       "            0.54122,     0.54019,     0.53898,     0.53977,     0.54033,     0.54089,     0.54131,     0.54173,     0.54211,     0.54106,     0.54001,     0.53896,     0.53994,     0.53908,     0.53822,     0.53736,     0.53708,     0.53814,     0.53857,     0.53899,     0.53946,     0.53997,     0.54303,\n",
       "             0.5439,     0.54129,     0.54203,      0.5401,     0.54097,     0.54141,     0.54172,     0.54203,     0.54234,     0.53955,     0.53997,     0.53794,     0.53654,     0.53592,      0.5353,     0.53468,     0.53406,     0.53344,     0.53367,     0.53407,     0.53447,     0.53324,     0.53119,\n",
       "            0.53288,      0.5334,      0.5329,     0.53145,     0.52973,     0.52657,     0.52492,     0.52229,     0.52281,     0.52301,     0.52195,     0.52089,     0.51983,      0.5202,     0.52095,      0.5217,     0.52283,     0.52065,     0.51774,     0.51613,     0.51475,     0.51416,     0.51302,\n",
       "            0.51224,     0.50944,     0.51333,     0.50953,     0.50167,     0.49941,     0.49892,     0.49921,      0.4995,      0.4998,     0.49624,     0.49662,     0.49699,     0.49737,     0.49808,     0.49884,      0.4996,     0.49558,      0.4945,     0.49343,     0.49235,     0.49026,     0.48776,\n",
       "            0.48391,     0.48156,     0.47971,     0.47854,     0.47736,     0.47619,     0.47667,     0.47714,      0.4761,     0.47386,     0.46713,     0.46801,     0.46647,     0.46493,     0.46377,     0.46264,      0.4615,     0.46036,     0.45922,     0.45808,     0.45693,     0.45671,     0.45699,\n",
       "            0.45727,     0.45756,     0.45667,     0.45311,     0.45154,     0.44996,     0.44802,     0.44584,     0.44484,     0.44451,     0.44418,     0.44385,     0.44352,     0.44319,     0.44286,     0.44252,     0.44219,     0.44186,     0.44153,      0.4412,     0.44087,     0.43897,     0.43642,\n",
       "            0.43211,     0.43133,     0.43056,     0.42978,       0.429,     0.42823,     0.42683,     0.42458,     0.42126,     0.41771,     0.41511,     0.41551,       0.412,     0.40741,     0.40715,     0.40758,     0.40751,      0.4052,     0.40305,      0.4015,     0.39995,     0.39891,     0.39909,\n",
       "            0.39926,     0.39943,     0.39961,     0.39978,     0.39995,     0.40084,     0.39304,     0.39317,      0.3933,     0.39344,     0.39357,      0.3937,     0.39384,     0.39397,      0.3941,     0.39393,     0.39273,     0.39154,     0.39034,     0.38326,     0.37522,      0.3748,     0.37439,\n",
       "            0.37397,     0.37356,     0.37314,     0.37272,      0.3723,     0.37189,     0.37147,     0.37105,     0.37063,     0.37092,      0.3713,     0.37167,     0.36693,     0.36636,     0.36585,     0.36534,     0.36484,     0.36433,     0.36382,     0.36331,      0.3628,     0.36229,     0.36191,\n",
       "             0.3594,     0.35309,      0.3527,     0.35231,     0.35192,     0.35153,     0.35114,     0.35075,     0.35036,     0.34997,     0.34958,     0.34919,      0.3488,     0.34841,     0.34406,     0.34429,     0.34384,      0.3432,     0.34256,     0.34191,     0.34127,     0.34063,     0.33998,\n",
       "            0.33942,     0.33968,     0.33995,     0.34021,     0.33995,     0.33736,     0.33545,      0.3358,     0.33615,     0.33586,     0.33412,     0.33238,      0.3293,     0.32403,     0.31586,     0.31603,      0.3162,     0.31637,     0.31653,      0.3167,     0.31643,     0.31583,     0.31524,\n",
       "            0.31464,     0.31404,     0.31345,     0.31285,     0.31225,     0.31165,     0.31046,     0.30911,     0.30775,      0.3064,     0.29997,     0.29887,     0.29778,     0.29668,     0.29553,     0.29015,     0.28831,     0.28646,     0.28461,     0.28275,     0.28089,     0.27885,     0.27604,\n",
       "            0.27345,     0.27157,     0.26968,      0.2675,     0.26466,     0.26231,     0.26089,     0.25945,     0.25802,     0.25762,     0.24966,     0.24529,     0.24236,     0.24023,     0.23876,     0.23729,     0.23581,     0.23453,     0.23334,     0.23216,     0.23097,     0.22978,     0.22836,\n",
       "            0.22687,     0.22538,     0.22388,     0.22253,     0.22119,     0.21986,     0.21852,     0.21746,     0.21671,     0.21595,      0.2152,     0.21444,     0.21368,     0.21293,     0.21217,     0.20988,     0.20683,     0.20156,     0.20017,      0.2004,     0.20063,     0.19995,     0.19906,\n",
       "            0.19818,      0.1973,     0.19641,     0.19553,     0.19464,     0.18819,     0.18782,     0.18745,     0.18708,     0.18671,     0.18635,     0.18598,     0.18561,     0.18524,     0.18487,      0.1845,     0.18413,     0.18376,     0.18339,     0.18302,     0.18265,     0.18158,     0.17948,\n",
       "            0.17737,     0.17324,     0.17011,     0.17019,     0.17027,     0.17035,     0.17043,     0.17051,     0.17059,     0.16946,     0.16411,     0.16282,     0.16153,     0.16024,     0.15894,     0.15592,     0.15079,     0.14817,     0.14555,     0.13927,     0.13576,     0.13244,     0.13177,\n",
       "            0.13114,      0.1305,     0.12987,     0.12923,     0.12859,     0.12795,     0.12731,     0.12668,     0.12604,     0.11298,     0.11096,     0.10822,     0.10603,     0.10497,     0.10391,     0.10285,     0.10178,     0.10072,    0.099653,    0.098116,    0.096571,    0.095025,    0.093476,\n",
       "           0.091457,    0.089123,    0.086784,    0.085609,    0.084997,    0.084384,    0.083772,    0.083159,    0.082545,    0.081931,    0.081317,    0.080702,    0.080087,    0.079472,     0.07855,    0.077261,    0.075969,    0.074677,    0.073382,     0.07202,    0.069979,    0.067934,    0.065885,\n",
       "           0.064139,    0.062539,    0.060936,    0.059331,    0.057924,    0.057018,    0.056112,    0.055205,    0.054297,    0.053388,    0.052479,    0.051569,    0.050511,    0.049294,    0.048076,    0.046856,    0.045635,    0.044413,    0.043602,    0.043036,     0.04247,    0.041904,    0.041338,\n",
       "           0.040771,    0.040204,    0.039637,    0.039069,    0.038502,    0.037934,    0.037365,    0.036797,    0.035988,    0.035165,    0.034341,    0.033516,    0.032691,    0.031865,    0.031039,    0.030212,    0.029446,    0.028994,    0.028542,    0.028089,    0.027637,    0.027184,    0.026731,\n",
       "           0.026278,    0.025824,    0.025371,    0.024917,    0.024463,     0.02401,    0.023555,    0.023101,    0.022647,    0.014898,    0.014488,    0.014077,    0.013666,    0.013255,    0.012844,    0.012433,    0.012021,    0.011609,    0.011198,    0.010786,    0.010373,    0.009961,   0.0095484,\n",
       "          0.0091357,   0.0087228,   0.0083098,   0.0078966,           0,           0,           0,           0,           0,           0,           0,           0,           0,           0,           0,           0,           0,           0,           0,           0,           0,           0,           0,\n",
       "                  0,           0,           0,           0,           0,           0,           0,           0,           0,           0,           0,           0,           0,           0,           0,           0,           0,           0,           0,           0,           0,           0,           0,\n",
       "                  0,           0,           0,           0,           0,           0,           0,           0,           0,           0,           0,           0,           0,           0,           0,           0,           0,           0,           0,           0,           0,           0,           0,\n",
       "                  0,           0,           0,           0,           0,           0,           0,           0,           0,           0,           0,           0,           0,           0,           0,           0,           0,           0,           0,           0,           0,           0,           0,\n",
       "                  0,           0,           0,           0,           0,           0,           0,           0,           0,           0,           0,           0,           0,           0,           0,           0,           0,           0,           0,           0,           0,           0,           0,\n",
       "                  0,           0,           0,           0,           0,           0,           0,           0,           0,           0,           0,           0,           0,           0,           0,           0,           0,           0,           0,           0,           0,           0,           0,\n",
       "                  0,           0,           0,           0,           0,           0,           0,           0,           0,           0,           0,           0,           0,           0,           0,           0,           0,           0,           0,           0,           0,           0,           0,\n",
       "                  0,           0,           0,           0,           0,           0,           0,           0,           0,           0,           0,           0,           0,           0,           0,           0,           0,           0,           0,           0,           0,           0,           0,\n",
       "                  0,           0,           0,           0,           0,           0,           0,           0,           0,           0,           0,           0,           0,           0,           0,           0,           0,           0,           0,           0,           0,           0,           0,\n",
       "                  0,           0,           0,           0,           0,           0,           0,           0,           0,           0,           0,           0,           0,           0,           0,           0,           0,           0,           0,           0,           0,           0,           0,\n",
       "                  0,           0,           0,           0,           0,           0,           0,           0,           0,           0,           0,           0,           0,           0,           0,           0,           0,           0,           0,           0,           0,           0,           0,\n",
       "                  0,           0,           0,           0,           0,           0,           0,           0,           0,           0,           0]]), 'Confidence', 'F1'], [array([          0,    0.001001,    0.002002,    0.003003,    0.004004,    0.005005,    0.006006,    0.007007,    0.008008,    0.009009,     0.01001,    0.011011,    0.012012,    0.013013,    0.014014,    0.015015,    0.016016,    0.017017,    0.018018,    0.019019,     0.02002,    0.021021,    0.022022,    0.023023,\n",
       "          0.024024,    0.025025,    0.026026,    0.027027,    0.028028,    0.029029,     0.03003,    0.031031,    0.032032,    0.033033,    0.034034,    0.035035,    0.036036,    0.037037,    0.038038,    0.039039,     0.04004,    0.041041,    0.042042,    0.043043,    0.044044,    0.045045,    0.046046,    0.047047,\n",
       "          0.048048,    0.049049,     0.05005,    0.051051,    0.052052,    0.053053,    0.054054,    0.055055,    0.056056,    0.057057,    0.058058,    0.059059,     0.06006,    0.061061,    0.062062,    0.063063,    0.064064,    0.065065,    0.066066,    0.067067,    0.068068,    0.069069,     0.07007,    0.071071,\n",
       "          0.072072,    0.073073,    0.074074,    0.075075,    0.076076,    0.077077,    0.078078,    0.079079,     0.08008,    0.081081,    0.082082,    0.083083,    0.084084,    0.085085,    0.086086,    0.087087,    0.088088,    0.089089,     0.09009,    0.091091,    0.092092,    0.093093,    0.094094,    0.095095,\n",
       "          0.096096,    0.097097,    0.098098,    0.099099,      0.1001,      0.1011,      0.1021,      0.1031,      0.1041,     0.10511,     0.10611,     0.10711,     0.10811,     0.10911,     0.11011,     0.11111,     0.11211,     0.11311,     0.11411,     0.11512,     0.11612,     0.11712,     0.11812,     0.11912,\n",
       "           0.12012,     0.12112,     0.12212,     0.12312,     0.12412,     0.12513,     0.12613,     0.12713,     0.12813,     0.12913,     0.13013,     0.13113,     0.13213,     0.13313,     0.13413,     0.13514,     0.13614,     0.13714,     0.13814,     0.13914,     0.14014,     0.14114,     0.14214,     0.14314,\n",
       "           0.14414,     0.14515,     0.14615,     0.14715,     0.14815,     0.14915,     0.15015,     0.15115,     0.15215,     0.15315,     0.15415,     0.15516,     0.15616,     0.15716,     0.15816,     0.15916,     0.16016,     0.16116,     0.16216,     0.16316,     0.16416,     0.16517,     0.16617,     0.16717,\n",
       "           0.16817,     0.16917,     0.17017,     0.17117,     0.17217,     0.17317,     0.17417,     0.17518,     0.17618,     0.17718,     0.17818,     0.17918,     0.18018,     0.18118,     0.18218,     0.18318,     0.18418,     0.18519,     0.18619,     0.18719,     0.18819,     0.18919,     0.19019,     0.19119,\n",
       "           0.19219,     0.19319,     0.19419,      0.1952,      0.1962,      0.1972,      0.1982,      0.1992,      0.2002,      0.2012,      0.2022,      0.2032,      0.2042,     0.20521,     0.20621,     0.20721,     0.20821,     0.20921,     0.21021,     0.21121,     0.21221,     0.21321,     0.21421,     0.21522,\n",
       "           0.21622,     0.21722,     0.21822,     0.21922,     0.22022,     0.22122,     0.22222,     0.22322,     0.22422,     0.22523,     0.22623,     0.22723,     0.22823,     0.22923,     0.23023,     0.23123,     0.23223,     0.23323,     0.23423,     0.23524,     0.23624,     0.23724,     0.23824,     0.23924,\n",
       "           0.24024,     0.24124,     0.24224,     0.24324,     0.24424,     0.24525,     0.24625,     0.24725,     0.24825,     0.24925,     0.25025,     0.25125,     0.25225,     0.25325,     0.25425,     0.25526,     0.25626,     0.25726,     0.25826,     0.25926,     0.26026,     0.26126,     0.26226,     0.26326,\n",
       "           0.26426,     0.26527,     0.26627,     0.26727,     0.26827,     0.26927,     0.27027,     0.27127,     0.27227,     0.27327,     0.27427,     0.27528,     0.27628,     0.27728,     0.27828,     0.27928,     0.28028,     0.28128,     0.28228,     0.28328,     0.28428,     0.28529,     0.28629,     0.28729,\n",
       "           0.28829,     0.28929,     0.29029,     0.29129,     0.29229,     0.29329,     0.29429,      0.2953,      0.2963,      0.2973,      0.2983,      0.2993,      0.3003,      0.3013,      0.3023,      0.3033,      0.3043,     0.30531,     0.30631,     0.30731,     0.30831,     0.30931,     0.31031,     0.31131,\n",
       "           0.31231,     0.31331,     0.31431,     0.31532,     0.31632,     0.31732,     0.31832,     0.31932,     0.32032,     0.32132,     0.32232,     0.32332,     0.32432,     0.32533,     0.32633,     0.32733,     0.32833,     0.32933,     0.33033,     0.33133,     0.33233,     0.33333,     0.33433,     0.33534,\n",
       "           0.33634,     0.33734,     0.33834,     0.33934,     0.34034,     0.34134,     0.34234,     0.34334,     0.34434,     0.34535,     0.34635,     0.34735,     0.34835,     0.34935,     0.35035,     0.35135,     0.35235,     0.35335,     0.35435,     0.35536,     0.35636,     0.35736,     0.35836,     0.35936,\n",
       "           0.36036,     0.36136,     0.36236,     0.36336,     0.36436,     0.36537,     0.36637,     0.36737,     0.36837,     0.36937,     0.37037,     0.37137,     0.37237,     0.37337,     0.37437,     0.37538,     0.37638,     0.37738,     0.37838,     0.37938,     0.38038,     0.38138,     0.38238,     0.38338,\n",
       "           0.38438,     0.38539,     0.38639,     0.38739,     0.38839,     0.38939,     0.39039,     0.39139,     0.39239,     0.39339,     0.39439,      0.3954,      0.3964,      0.3974,      0.3984,      0.3994,      0.4004,      0.4014,      0.4024,      0.4034,      0.4044,     0.40541,     0.40641,     0.40741,\n",
       "           0.40841,     0.40941,     0.41041,     0.41141,     0.41241,     0.41341,     0.41441,     0.41542,     0.41642,     0.41742,     0.41842,     0.41942,     0.42042,     0.42142,     0.42242,     0.42342,     0.42442,     0.42543,     0.42643,     0.42743,     0.42843,     0.42943,     0.43043,     0.43143,\n",
       "           0.43243,     0.43343,     0.43443,     0.43544,     0.43644,     0.43744,     0.43844,     0.43944,     0.44044,     0.44144,     0.44244,     0.44344,     0.44444,     0.44545,     0.44645,     0.44745,     0.44845,     0.44945,     0.45045,     0.45145,     0.45245,     0.45345,     0.45445,     0.45546,\n",
       "           0.45646,     0.45746,     0.45846,     0.45946,     0.46046,     0.46146,     0.46246,     0.46346,     0.46446,     0.46547,     0.46647,     0.46747,     0.46847,     0.46947,     0.47047,     0.47147,     0.47247,     0.47347,     0.47447,     0.47548,     0.47648,     0.47748,     0.47848,     0.47948,\n",
       "           0.48048,     0.48148,     0.48248,     0.48348,     0.48448,     0.48549,     0.48649,     0.48749,     0.48849,     0.48949,     0.49049,     0.49149,     0.49249,     0.49349,     0.49449,      0.4955,      0.4965,      0.4975,      0.4985,      0.4995,      0.5005,      0.5015,      0.5025,      0.5035,\n",
       "            0.5045,     0.50551,     0.50651,     0.50751,     0.50851,     0.50951,     0.51051,     0.51151,     0.51251,     0.51351,     0.51451,     0.51552,     0.51652,     0.51752,     0.51852,     0.51952,     0.52052,     0.52152,     0.52252,     0.52352,     0.52452,     0.52553,     0.52653,     0.52753,\n",
       "           0.52853,     0.52953,     0.53053,     0.53153,     0.53253,     0.53353,     0.53453,     0.53554,     0.53654,     0.53754,     0.53854,     0.53954,     0.54054,     0.54154,     0.54254,     0.54354,     0.54454,     0.54555,     0.54655,     0.54755,     0.54855,     0.54955,     0.55055,     0.55155,\n",
       "           0.55255,     0.55355,     0.55455,     0.55556,     0.55656,     0.55756,     0.55856,     0.55956,     0.56056,     0.56156,     0.56256,     0.56356,     0.56456,     0.56557,     0.56657,     0.56757,     0.56857,     0.56957,     0.57057,     0.57157,     0.57257,     0.57357,     0.57457,     0.57558,\n",
       "           0.57658,     0.57758,     0.57858,     0.57958,     0.58058,     0.58158,     0.58258,     0.58358,     0.58458,     0.58559,     0.58659,     0.58759,     0.58859,     0.58959,     0.59059,     0.59159,     0.59259,     0.59359,     0.59459,      0.5956,      0.5966,      0.5976,      0.5986,      0.5996,\n",
       "            0.6006,      0.6016,      0.6026,      0.6036,      0.6046,     0.60561,     0.60661,     0.60761,     0.60861,     0.60961,     0.61061,     0.61161,     0.61261,     0.61361,     0.61461,     0.61562,     0.61662,     0.61762,     0.61862,     0.61962,     0.62062,     0.62162,     0.62262,     0.62362,\n",
       "           0.62462,     0.62563,     0.62663,     0.62763,     0.62863,     0.62963,     0.63063,     0.63163,     0.63263,     0.63363,     0.63463,     0.63564,     0.63664,     0.63764,     0.63864,     0.63964,     0.64064,     0.64164,     0.64264,     0.64364,     0.64464,     0.64565,     0.64665,     0.64765,\n",
       "           0.64865,     0.64965,     0.65065,     0.65165,     0.65265,     0.65365,     0.65465,     0.65566,     0.65666,     0.65766,     0.65866,     0.65966,     0.66066,     0.66166,     0.66266,     0.66366,     0.66466,     0.66567,     0.66667,     0.66767,     0.66867,     0.66967,     0.67067,     0.67167,\n",
       "           0.67267,     0.67367,     0.67467,     0.67568,     0.67668,     0.67768,     0.67868,     0.67968,     0.68068,     0.68168,     0.68268,     0.68368,     0.68468,     0.68569,     0.68669,     0.68769,     0.68869,     0.68969,     0.69069,     0.69169,     0.69269,     0.69369,     0.69469,      0.6957,\n",
       "            0.6967,      0.6977,      0.6987,      0.6997,      0.7007,      0.7017,      0.7027,      0.7037,      0.7047,     0.70571,     0.70671,     0.70771,     0.70871,     0.70971,     0.71071,     0.71171,     0.71271,     0.71371,     0.71471,     0.71572,     0.71672,     0.71772,     0.71872,     0.71972,\n",
       "           0.72072,     0.72172,     0.72272,     0.72372,     0.72472,     0.72573,     0.72673,     0.72773,     0.72873,     0.72973,     0.73073,     0.73173,     0.73273,     0.73373,     0.73473,     0.73574,     0.73674,     0.73774,     0.73874,     0.73974,     0.74074,     0.74174,     0.74274,     0.74374,\n",
       "           0.74474,     0.74575,     0.74675,     0.74775,     0.74875,     0.74975,     0.75075,     0.75175,     0.75275,     0.75375,     0.75475,     0.75576,     0.75676,     0.75776,     0.75876,     0.75976,     0.76076,     0.76176,     0.76276,     0.76376,     0.76476,     0.76577,     0.76677,     0.76777,\n",
       "           0.76877,     0.76977,     0.77077,     0.77177,     0.77277,     0.77377,     0.77477,     0.77578,     0.77678,     0.77778,     0.77878,     0.77978,     0.78078,     0.78178,     0.78278,     0.78378,     0.78478,     0.78579,     0.78679,     0.78779,     0.78879,     0.78979,     0.79079,     0.79179,\n",
       "           0.79279,     0.79379,     0.79479,      0.7958,      0.7968,      0.7978,      0.7988,      0.7998,      0.8008,      0.8018,      0.8028,      0.8038,      0.8048,     0.80581,     0.80681,     0.80781,     0.80881,     0.80981,     0.81081,     0.81181,     0.81281,     0.81381,     0.81481,     0.81582,\n",
       "           0.81682,     0.81782,     0.81882,     0.81982,     0.82082,     0.82182,     0.82282,     0.82382,     0.82482,     0.82583,     0.82683,     0.82783,     0.82883,     0.82983,     0.83083,     0.83183,     0.83283,     0.83383,     0.83483,     0.83584,     0.83684,     0.83784,     0.83884,     0.83984,\n",
       "           0.84084,     0.84184,     0.84284,     0.84384,     0.84484,     0.84585,     0.84685,     0.84785,     0.84885,     0.84985,     0.85085,     0.85185,     0.85285,     0.85385,     0.85485,     0.85586,     0.85686,     0.85786,     0.85886,     0.85986,     0.86086,     0.86186,     0.86286,     0.86386,\n",
       "           0.86486,     0.86587,     0.86687,     0.86787,     0.86887,     0.86987,     0.87087,     0.87187,     0.87287,     0.87387,     0.87487,     0.87588,     0.87688,     0.87788,     0.87888,     0.87988,     0.88088,     0.88188,     0.88288,     0.88388,     0.88488,     0.88589,     0.88689,     0.88789,\n",
       "           0.88889,     0.88989,     0.89089,     0.89189,     0.89289,     0.89389,     0.89489,      0.8959,      0.8969,      0.8979,      0.8989,      0.8999,      0.9009,      0.9019,      0.9029,      0.9039,      0.9049,     0.90591,     0.90691,     0.90791,     0.90891,     0.90991,     0.91091,     0.91191,\n",
       "           0.91291,     0.91391,     0.91491,     0.91592,     0.91692,     0.91792,     0.91892,     0.91992,     0.92092,     0.92192,     0.92292,     0.92392,     0.92492,     0.92593,     0.92693,     0.92793,     0.92893,     0.92993,     0.93093,     0.93193,     0.93293,     0.93393,     0.93493,     0.93594,\n",
       "           0.93694,     0.93794,     0.93894,     0.93994,     0.94094,     0.94194,     0.94294,     0.94394,     0.94494,     0.94595,     0.94695,     0.94795,     0.94895,     0.94995,     0.95095,     0.95195,     0.95295,     0.95395,     0.95495,     0.95596,     0.95696,     0.95796,     0.95896,     0.95996,\n",
       "           0.96096,     0.96196,     0.96296,     0.96396,     0.96496,     0.96597,     0.96697,     0.96797,     0.96897,     0.96997,     0.97097,     0.97197,     0.97297,     0.97397,     0.97497,     0.97598,     0.97698,     0.97798,     0.97898,     0.97998,     0.98098,     0.98198,     0.98298,     0.98398,\n",
       "           0.98498,     0.98599,     0.98699,     0.98799,     0.98899,     0.98999,     0.99099,     0.99199,     0.99299,     0.99399,     0.99499,       0.996,       0.997,       0.998,       0.999,           1]), array([[    0.03671,     0.03671,    0.053326,    0.065469,    0.077584,    0.087017,    0.095284,     0.10354,     0.11166,     0.11723,      0.1229,     0.12783,     0.13295,     0.13789,     0.14312,      0.1464,      0.1515,     0.15696,     0.16202,     0.16663,     0.16954,     0.17289,     0.17725,\n",
       "            0.18163,     0.18268,     0.18738,     0.19032,     0.19414,     0.19851,     0.20168,     0.20411,     0.20731,     0.21181,     0.21513,     0.21875,      0.2202,     0.22468,     0.22705,     0.23223,     0.23316,     0.23699,     0.24004,     0.24154,     0.24533,     0.24883,     0.25494,\n",
       "             0.2578,     0.26097,     0.26541,     0.26795,     0.27253,     0.27443,     0.27723,     0.28113,     0.28309,     0.28279,     0.28532,     0.28799,     0.28994,     0.29253,     0.29559,     0.29943,     0.30109,     0.30588,     0.30818,     0.31143,     0.31103,      0.3127,     0.31554,\n",
       "            0.31837,     0.31827,     0.32063,     0.32234,     0.32451,     0.32804,     0.33033,     0.33515,     0.33941,      0.3411,     0.34261,     0.34314,     0.34155,      0.3446,     0.34967,     0.35223,     0.35451,     0.35555,     0.35649,     0.35599,     0.35671,     0.35903,       0.361,\n",
       "            0.36448,     0.36778,     0.37059,     0.36997,     0.37191,     0.37479,     0.37811,      0.3823,     0.38483,     0.38921,     0.39346,     0.39462,     0.39947,     0.40176,     0.40453,      0.4045,     0.40661,     0.40834,     0.41294,     0.41881,      0.4204,     0.42294,     0.42419,\n",
       "            0.42589,     0.43169,      0.4324,     0.43256,     0.43398,     0.43526,     0.43471,     0.43476,     0.43864,     0.44298,     0.44202,     0.44274,     0.44359,     0.44527,      0.4466,     0.44944,     0.45482,     0.45713,     0.45961,     0.46743,     0.46954,     0.47339,     0.47722,\n",
       "             0.4795,     0.47894,     0.48043,     0.47911,     0.48167,     0.48104,     0.48317,     0.48812,     0.49024,     0.49351,     0.49695,     0.50185,     0.50549,     0.50911,     0.51688,     0.51903,     0.51796,     0.51856,     0.51916,     0.52191,     0.52308,     0.52326,     0.52508,\n",
       "            0.52873,     0.53256,     0.53551,     0.53647,     0.53773,     0.54202,     0.54331,      0.5446,     0.54871,     0.55103,     0.55296,     0.55245,     0.55102,     0.55578,     0.55643,     0.55708,     0.55772,     0.56198,     0.56589,     0.56839,     0.57059,     0.57126,     0.57193,\n",
       "             0.5726,     0.57362,     0.57465,     0.58072,     0.58358,     0.58494,     0.58584,     0.58645,     0.58705,     0.58766,     0.58984,     0.59183,     0.59401,     0.59899,     0.59867,     0.59835,     0.59804,     0.59772,     0.59741,     0.60034,     0.60748,     0.61696,     0.61907,\n",
       "            0.62544,     0.62693,     0.62874,     0.63098,     0.63209,     0.63319,     0.63789,     0.63928,     0.64988,     0.65665,     0.65527,     0.65786,      0.6565,     0.65614,     0.65578,     0.65542,     0.65506,     0.65392,     0.65387,      0.6551,     0.65633,     0.66346,       0.666,\n",
       "            0.66789,     0.66955,     0.66855,      0.6665,     0.66566,     0.66461,     0.66282,     0.66196,     0.66111,     0.66029,     0.65991,     0.66254,     0.66653,      0.6646,     0.66377,     0.66731,     0.66984,     0.66859,     0.67018,     0.67197,     0.67154,     0.67075,     0.67318,\n",
       "            0.67627,      0.6771,     0.67776,     0.68027,     0.68205,     0.68383,      0.6852,     0.68655,     0.68784,     0.68727,      0.6867,     0.68613,        0.69,     0.68953,     0.68906,      0.6886,     0.68949,       0.693,     0.69441,     0.69582,      0.6974,     0.69911,     0.70947,\n",
       "            0.71243,     0.71337,     0.71594,     0.71945,     0.72254,     0.72411,     0.72522,     0.72632,     0.72742,     0.72639,     0.73061,      0.7296,     0.72889,     0.72858,     0.72827,     0.72795,     0.72764,     0.72732,     0.72853,     0.73003,     0.73153,     0.73134,     0.73031,\n",
       "            0.73703,     0.73903,     0.73963,     0.73891,     0.73806,     0.74086,     0.74233,     0.74442,     0.74655,     0.74815,     0.74763,     0.74711,     0.74659,     0.74892,     0.75203,     0.75517,     0.75992,     0.76452,     0.76486,      0.7641,     0.76345,     0.76492,     0.76773,\n",
       "            0.77124,     0.77128,     0.79211,     0.79336,     0.78992,     0.78893,     0.78964,     0.79111,     0.79258,     0.79405,     0.79397,     0.79591,     0.79784,     0.79978,     0.80349,     0.80744,     0.81144,     0.81176,     0.81131,     0.81087,     0.81043,     0.80956,     0.80851,\n",
       "            0.80689,     0.80589,     0.80509,     0.80459,     0.80408,     0.80359,     0.80629,     0.80899,     0.81024,     0.81175,     0.81701,     0.82818,     0.82756,     0.82695,     0.82648,     0.82602,     0.82556,      0.8251,     0.82463,     0.82416,      0.8237,     0.82472,     0.82658,\n",
       "            0.82844,      0.8303,     0.83125,     0.82982,     0.82918,     0.82854,     0.82775,     0.82685,     0.82644,      0.8263,     0.82616,     0.82603,     0.82589,     0.82575,     0.82561,     0.82547,     0.82533,      0.8252,     0.82506,     0.82492,     0.82478,     0.82398,      0.8229,\n",
       "            0.82104,      0.8207,     0.82036,     0.82002,     0.81968,     0.81934,     0.81873,     0.81773,     0.81624,     0.81463,     0.81344,     0.82051,     0.82055,     0.81847,     0.82121,     0.82471,      0.8274,     0.82637,     0.82542,     0.82472,     0.82402,     0.82398,     0.82547,\n",
       "            0.82696,     0.82845,     0.82994,     0.83142,     0.83291,     0.84072,     0.83997,     0.85097,     0.85223,     0.85349,     0.85475,     0.85601,     0.85727,     0.85853,     0.85979,     0.86065,      0.8602,     0.85974,     0.85928,     0.85651,     0.85327,      0.8531,     0.85293,\n",
       "            0.85275,     0.85258,     0.85241,     0.85224,     0.85206,     0.85189,     0.85172,     0.85154,     0.85137,     0.85489,     0.85888,     0.86286,     0.86114,     0.86091,      0.8607,      0.8605,     0.86029,     0.86009,     0.85988,     0.85967,     0.85947,     0.85926,     0.87098,\n",
       "            0.87002,     0.86757,     0.86741,     0.86725,      0.8671,     0.86694,     0.86679,     0.86663,     0.86648,     0.86632,     0.86616,     0.86601,     0.86585,      0.8657,     0.86392,     0.87542,      0.8767,     0.87646,     0.87621,     0.87596,     0.87572,     0.87547,     0.87523,\n",
       "             0.8753,     0.87886,     0.88242,     0.88598,     0.88872,      0.8878,     0.88825,     0.89322,     0.89818,     0.90147,     0.90091,     0.90035,     0.89934,     0.89758,      0.8959,     0.89863,     0.90136,     0.90409,     0.90682,     0.90955,     0.91061,     0.91042,     0.91024,\n",
       "            0.91005,     0.90987,     0.90968,      0.9095,     0.90931,     0.90913,     0.90875,     0.90832,     0.90789,     0.90745,     0.90533,     0.90496,     0.90459,     0.90421,     0.90382,     0.90194,     0.90127,      0.9006,     0.89992,     0.89923,     0.89853,     0.89776,     0.89667,\n",
       "            0.89566,      0.8949,     0.89414,     0.89325,     0.89207,     0.89108,     0.89047,     0.88985,     0.88923,     0.89825,     0.90589,     0.90417,     0.90297,      0.9021,     0.90147,     0.90085,     0.90022,     0.89966,     0.89913,     0.89861,     0.89808,     0.89756,      0.8969,\n",
       "            0.89621,     0.89552,     0.89483,     0.89417,     0.89353,     0.89288,     0.89223,     0.89171,     0.89132,     0.89094,     0.89055,     0.89017,     0.88978,      0.8894,     0.88901,     0.88779,     0.88617,     0.88323,     0.88916,      0.8983,     0.90744,     0.90875,     0.90833,\n",
       "            0.90792,      0.9075,     0.90709,     0.90667,     0.90625,     0.90303,     0.90284,     0.90264,     0.90245,     0.90226,     0.90206,     0.90187,     0.90167,     0.90148,     0.90128,     0.90109,     0.90089,      0.9007,      0.9005,     0.90031,     0.90012,     0.89952,     0.89834,\n",
       "            0.89717,     0.89474,     0.89513,     0.89965,     0.90417,     0.90869,     0.91321,     0.91773,     0.92224,     0.92538,     0.92294,     0.92231,     0.92168,     0.92105,     0.92042,     0.91887,     0.91614,     0.91465,     0.91317,     0.90933,       0.907,     0.90478,      0.9043,\n",
       "            0.90384,     0.90337,     0.90291,     0.90244,     0.90198,     0.90151,     0.90105,     0.90058,     0.90012,     0.92893,     0.94001,     0.93851,     0.93728,     0.93662,     0.93597,     0.93531,     0.93465,       0.934,     0.93334,     0.93226,     0.93117,     0.93009,       0.929,\n",
       "            0.92744,     0.92557,     0.92369,     0.92269,     0.92212,     0.92155,     0.92098,     0.92041,     0.91983,     0.91926,     0.91869,     0.91812,     0.91755,     0.91698,     0.91602,     0.91461,      0.9132,     0.91179,     0.91038,     0.90885,     0.90619,     0.90353,     0.90087,\n",
       "            0.89829,     0.89576,     0.89323,      0.8907,     0.88838,      0.8866,     0.88482,     0.88304,     0.88126,     0.87948,      0.8777,     0.87593,     0.87354,     0.87049,     0.86743,     0.86438,     0.86133,     0.85828,     0.85597,     0.85409,     0.85221,     0.85033,     0.84846,\n",
       "            0.84658,      0.8447,     0.84283,     0.84095,     0.83907,     0.83719,     0.83532,     0.83344,     0.82975,     0.82595,     0.82216,     0.81836,     0.81456,     0.81077,     0.80697,     0.80318,     0.79949,     0.79639,     0.79328,     0.79017,     0.78707,     0.78396,     0.78086,\n",
       "            0.77775,     0.77464,     0.77154,     0.76843,     0.76532,     0.76222,     0.75911,     0.75601,      0.7529,           1,           1,           1,           1,           1,           1,           1,           1,           1,           1,           1,           1,           1,           1,\n",
       "                  1,           1,           1,           1,           1,           1,           1,           1,           1,           1,           1,           1,           1,           1,           1,           1,           1,           1,           1,           1,           1,           1,           1,\n",
       "                  1,           1,           1,           1,           1,           1,           1,           1,           1,           1,           1,           1,           1,           1,           1,           1,           1,           1,           1,           1,           1,           1,           1,\n",
       "                  1,           1,           1,           1,           1,           1,           1,           1,           1,           1,           1,           1,           1,           1,           1,           1,           1,           1,           1,           1,           1,           1,           1,\n",
       "                  1,           1,           1,           1,           1,           1,           1,           1,           1,           1,           1,           1,           1,           1,           1,           1,           1,           1,           1,           1,           1,           1,           1,\n",
       "                  1,           1,           1,           1,           1,           1,           1,           1,           1,           1,           1,           1,           1,           1,           1,           1,           1,           1,           1,           1,           1,           1,           1,\n",
       "                  1,           1,           1,           1,           1,           1,           1,           1,           1,           1,           1,           1,           1,           1,           1,           1,           1,           1,           1,           1,           1,           1,           1,\n",
       "                  1,           1,           1,           1,           1,           1,           1,           1,           1,           1,           1,           1,           1,           1,           1,           1,           1,           1,           1,           1,           1,           1,           1,\n",
       "                  1,           1,           1,           1,           1,           1,           1,           1,           1,           1,           1,           1,           1,           1,           1,           1,           1,           1,           1,           1,           1,           1,           1,\n",
       "                  1,           1,           1,           1,           1,           1,           1,           1,           1,           1,           1,           1,           1,           1,           1,           1,           1,           1,           1,           1,           1,           1,           1,\n",
       "                  1,           1,           1,           1,           1,           1,           1,           1,           1,           1,           1,           1,           1,           1,           1,           1,           1,           1,           1,           1,           1,           1,           1,\n",
       "                  1,           1,           1,           1,           1,           1,           1,           1,           1,           1,           1,           1,           1,           1,           1,           1,           1,           1,           1,           1,           1,           1,           1,\n",
       "                  1,           1,           1,           1,           1,           1,           1,           1,           1,           1,           1]]), 'Confidence', 'Precision'], [array([          0,    0.001001,    0.002002,    0.003003,    0.004004,    0.005005,    0.006006,    0.007007,    0.008008,    0.009009,     0.01001,    0.011011,    0.012012,    0.013013,    0.014014,    0.015015,    0.016016,    0.017017,    0.018018,    0.019019,     0.02002,    0.021021,    0.022022,    0.023023,\n",
       "          0.024024,    0.025025,    0.026026,    0.027027,    0.028028,    0.029029,     0.03003,    0.031031,    0.032032,    0.033033,    0.034034,    0.035035,    0.036036,    0.037037,    0.038038,    0.039039,     0.04004,    0.041041,    0.042042,    0.043043,    0.044044,    0.045045,    0.046046,    0.047047,\n",
       "          0.048048,    0.049049,     0.05005,    0.051051,    0.052052,    0.053053,    0.054054,    0.055055,    0.056056,    0.057057,    0.058058,    0.059059,     0.06006,    0.061061,    0.062062,    0.063063,    0.064064,    0.065065,    0.066066,    0.067067,    0.068068,    0.069069,     0.07007,    0.071071,\n",
       "          0.072072,    0.073073,    0.074074,    0.075075,    0.076076,    0.077077,    0.078078,    0.079079,     0.08008,    0.081081,    0.082082,    0.083083,    0.084084,    0.085085,    0.086086,    0.087087,    0.088088,    0.089089,     0.09009,    0.091091,    0.092092,    0.093093,    0.094094,    0.095095,\n",
       "          0.096096,    0.097097,    0.098098,    0.099099,      0.1001,      0.1011,      0.1021,      0.1031,      0.1041,     0.10511,     0.10611,     0.10711,     0.10811,     0.10911,     0.11011,     0.11111,     0.11211,     0.11311,     0.11411,     0.11512,     0.11612,     0.11712,     0.11812,     0.11912,\n",
       "           0.12012,     0.12112,     0.12212,     0.12312,     0.12412,     0.12513,     0.12613,     0.12713,     0.12813,     0.12913,     0.13013,     0.13113,     0.13213,     0.13313,     0.13413,     0.13514,     0.13614,     0.13714,     0.13814,     0.13914,     0.14014,     0.14114,     0.14214,     0.14314,\n",
       "           0.14414,     0.14515,     0.14615,     0.14715,     0.14815,     0.14915,     0.15015,     0.15115,     0.15215,     0.15315,     0.15415,     0.15516,     0.15616,     0.15716,     0.15816,     0.15916,     0.16016,     0.16116,     0.16216,     0.16316,     0.16416,     0.16517,     0.16617,     0.16717,\n",
       "           0.16817,     0.16917,     0.17017,     0.17117,     0.17217,     0.17317,     0.17417,     0.17518,     0.17618,     0.17718,     0.17818,     0.17918,     0.18018,     0.18118,     0.18218,     0.18318,     0.18418,     0.18519,     0.18619,     0.18719,     0.18819,     0.18919,     0.19019,     0.19119,\n",
       "           0.19219,     0.19319,     0.19419,      0.1952,      0.1962,      0.1972,      0.1982,      0.1992,      0.2002,      0.2012,      0.2022,      0.2032,      0.2042,     0.20521,     0.20621,     0.20721,     0.20821,     0.20921,     0.21021,     0.21121,     0.21221,     0.21321,     0.21421,     0.21522,\n",
       "           0.21622,     0.21722,     0.21822,     0.21922,     0.22022,     0.22122,     0.22222,     0.22322,     0.22422,     0.22523,     0.22623,     0.22723,     0.22823,     0.22923,     0.23023,     0.23123,     0.23223,     0.23323,     0.23423,     0.23524,     0.23624,     0.23724,     0.23824,     0.23924,\n",
       "           0.24024,     0.24124,     0.24224,     0.24324,     0.24424,     0.24525,     0.24625,     0.24725,     0.24825,     0.24925,     0.25025,     0.25125,     0.25225,     0.25325,     0.25425,     0.25526,     0.25626,     0.25726,     0.25826,     0.25926,     0.26026,     0.26126,     0.26226,     0.26326,\n",
       "           0.26426,     0.26527,     0.26627,     0.26727,     0.26827,     0.26927,     0.27027,     0.27127,     0.27227,     0.27327,     0.27427,     0.27528,     0.27628,     0.27728,     0.27828,     0.27928,     0.28028,     0.28128,     0.28228,     0.28328,     0.28428,     0.28529,     0.28629,     0.28729,\n",
       "           0.28829,     0.28929,     0.29029,     0.29129,     0.29229,     0.29329,     0.29429,      0.2953,      0.2963,      0.2973,      0.2983,      0.2993,      0.3003,      0.3013,      0.3023,      0.3033,      0.3043,     0.30531,     0.30631,     0.30731,     0.30831,     0.30931,     0.31031,     0.31131,\n",
       "           0.31231,     0.31331,     0.31431,     0.31532,     0.31632,     0.31732,     0.31832,     0.31932,     0.32032,     0.32132,     0.32232,     0.32332,     0.32432,     0.32533,     0.32633,     0.32733,     0.32833,     0.32933,     0.33033,     0.33133,     0.33233,     0.33333,     0.33433,     0.33534,\n",
       "           0.33634,     0.33734,     0.33834,     0.33934,     0.34034,     0.34134,     0.34234,     0.34334,     0.34434,     0.34535,     0.34635,     0.34735,     0.34835,     0.34935,     0.35035,     0.35135,     0.35235,     0.35335,     0.35435,     0.35536,     0.35636,     0.35736,     0.35836,     0.35936,\n",
       "           0.36036,     0.36136,     0.36236,     0.36336,     0.36436,     0.36537,     0.36637,     0.36737,     0.36837,     0.36937,     0.37037,     0.37137,     0.37237,     0.37337,     0.37437,     0.37538,     0.37638,     0.37738,     0.37838,     0.37938,     0.38038,     0.38138,     0.38238,     0.38338,\n",
       "           0.38438,     0.38539,     0.38639,     0.38739,     0.38839,     0.38939,     0.39039,     0.39139,     0.39239,     0.39339,     0.39439,      0.3954,      0.3964,      0.3974,      0.3984,      0.3994,      0.4004,      0.4014,      0.4024,      0.4034,      0.4044,     0.40541,     0.40641,     0.40741,\n",
       "           0.40841,     0.40941,     0.41041,     0.41141,     0.41241,     0.41341,     0.41441,     0.41542,     0.41642,     0.41742,     0.41842,     0.41942,     0.42042,     0.42142,     0.42242,     0.42342,     0.42442,     0.42543,     0.42643,     0.42743,     0.42843,     0.42943,     0.43043,     0.43143,\n",
       "           0.43243,     0.43343,     0.43443,     0.43544,     0.43644,     0.43744,     0.43844,     0.43944,     0.44044,     0.44144,     0.44244,     0.44344,     0.44444,     0.44545,     0.44645,     0.44745,     0.44845,     0.44945,     0.45045,     0.45145,     0.45245,     0.45345,     0.45445,     0.45546,\n",
       "           0.45646,     0.45746,     0.45846,     0.45946,     0.46046,     0.46146,     0.46246,     0.46346,     0.46446,     0.46547,     0.46647,     0.46747,     0.46847,     0.46947,     0.47047,     0.47147,     0.47247,     0.47347,     0.47447,     0.47548,     0.47648,     0.47748,     0.47848,     0.47948,\n",
       "           0.48048,     0.48148,     0.48248,     0.48348,     0.48448,     0.48549,     0.48649,     0.48749,     0.48849,     0.48949,     0.49049,     0.49149,     0.49249,     0.49349,     0.49449,      0.4955,      0.4965,      0.4975,      0.4985,      0.4995,      0.5005,      0.5015,      0.5025,      0.5035,\n",
       "            0.5045,     0.50551,     0.50651,     0.50751,     0.50851,     0.50951,     0.51051,     0.51151,     0.51251,     0.51351,     0.51451,     0.51552,     0.51652,     0.51752,     0.51852,     0.51952,     0.52052,     0.52152,     0.52252,     0.52352,     0.52452,     0.52553,     0.52653,     0.52753,\n",
       "           0.52853,     0.52953,     0.53053,     0.53153,     0.53253,     0.53353,     0.53453,     0.53554,     0.53654,     0.53754,     0.53854,     0.53954,     0.54054,     0.54154,     0.54254,     0.54354,     0.54454,     0.54555,     0.54655,     0.54755,     0.54855,     0.54955,     0.55055,     0.55155,\n",
       "           0.55255,     0.55355,     0.55455,     0.55556,     0.55656,     0.55756,     0.55856,     0.55956,     0.56056,     0.56156,     0.56256,     0.56356,     0.56456,     0.56557,     0.56657,     0.56757,     0.56857,     0.56957,     0.57057,     0.57157,     0.57257,     0.57357,     0.57457,     0.57558,\n",
       "           0.57658,     0.57758,     0.57858,     0.57958,     0.58058,     0.58158,     0.58258,     0.58358,     0.58458,     0.58559,     0.58659,     0.58759,     0.58859,     0.58959,     0.59059,     0.59159,     0.59259,     0.59359,     0.59459,      0.5956,      0.5966,      0.5976,      0.5986,      0.5996,\n",
       "            0.6006,      0.6016,      0.6026,      0.6036,      0.6046,     0.60561,     0.60661,     0.60761,     0.60861,     0.60961,     0.61061,     0.61161,     0.61261,     0.61361,     0.61461,     0.61562,     0.61662,     0.61762,     0.61862,     0.61962,     0.62062,     0.62162,     0.62262,     0.62362,\n",
       "           0.62462,     0.62563,     0.62663,     0.62763,     0.62863,     0.62963,     0.63063,     0.63163,     0.63263,     0.63363,     0.63463,     0.63564,     0.63664,     0.63764,     0.63864,     0.63964,     0.64064,     0.64164,     0.64264,     0.64364,     0.64464,     0.64565,     0.64665,     0.64765,\n",
       "           0.64865,     0.64965,     0.65065,     0.65165,     0.65265,     0.65365,     0.65465,     0.65566,     0.65666,     0.65766,     0.65866,     0.65966,     0.66066,     0.66166,     0.66266,     0.66366,     0.66466,     0.66567,     0.66667,     0.66767,     0.66867,     0.66967,     0.67067,     0.67167,\n",
       "           0.67267,     0.67367,     0.67467,     0.67568,     0.67668,     0.67768,     0.67868,     0.67968,     0.68068,     0.68168,     0.68268,     0.68368,     0.68468,     0.68569,     0.68669,     0.68769,     0.68869,     0.68969,     0.69069,     0.69169,     0.69269,     0.69369,     0.69469,      0.6957,\n",
       "            0.6967,      0.6977,      0.6987,      0.6997,      0.7007,      0.7017,      0.7027,      0.7037,      0.7047,     0.70571,     0.70671,     0.70771,     0.70871,     0.70971,     0.71071,     0.71171,     0.71271,     0.71371,     0.71471,     0.71572,     0.71672,     0.71772,     0.71872,     0.71972,\n",
       "           0.72072,     0.72172,     0.72272,     0.72372,     0.72472,     0.72573,     0.72673,     0.72773,     0.72873,     0.72973,     0.73073,     0.73173,     0.73273,     0.73373,     0.73473,     0.73574,     0.73674,     0.73774,     0.73874,     0.73974,     0.74074,     0.74174,     0.74274,     0.74374,\n",
       "           0.74474,     0.74575,     0.74675,     0.74775,     0.74875,     0.74975,     0.75075,     0.75175,     0.75275,     0.75375,     0.75475,     0.75576,     0.75676,     0.75776,     0.75876,     0.75976,     0.76076,     0.76176,     0.76276,     0.76376,     0.76476,     0.76577,     0.76677,     0.76777,\n",
       "           0.76877,     0.76977,     0.77077,     0.77177,     0.77277,     0.77377,     0.77477,     0.77578,     0.77678,     0.77778,     0.77878,     0.77978,     0.78078,     0.78178,     0.78278,     0.78378,     0.78478,     0.78579,     0.78679,     0.78779,     0.78879,     0.78979,     0.79079,     0.79179,\n",
       "           0.79279,     0.79379,     0.79479,      0.7958,      0.7968,      0.7978,      0.7988,      0.7998,      0.8008,      0.8018,      0.8028,      0.8038,      0.8048,     0.80581,     0.80681,     0.80781,     0.80881,     0.80981,     0.81081,     0.81181,     0.81281,     0.81381,     0.81481,     0.81582,\n",
       "           0.81682,     0.81782,     0.81882,     0.81982,     0.82082,     0.82182,     0.82282,     0.82382,     0.82482,     0.82583,     0.82683,     0.82783,     0.82883,     0.82983,     0.83083,     0.83183,     0.83283,     0.83383,     0.83483,     0.83584,     0.83684,     0.83784,     0.83884,     0.83984,\n",
       "           0.84084,     0.84184,     0.84284,     0.84384,     0.84484,     0.84585,     0.84685,     0.84785,     0.84885,     0.84985,     0.85085,     0.85185,     0.85285,     0.85385,     0.85485,     0.85586,     0.85686,     0.85786,     0.85886,     0.85986,     0.86086,     0.86186,     0.86286,     0.86386,\n",
       "           0.86486,     0.86587,     0.86687,     0.86787,     0.86887,     0.86987,     0.87087,     0.87187,     0.87287,     0.87387,     0.87487,     0.87588,     0.87688,     0.87788,     0.87888,     0.87988,     0.88088,     0.88188,     0.88288,     0.88388,     0.88488,     0.88589,     0.88689,     0.88789,\n",
       "           0.88889,     0.88989,     0.89089,     0.89189,     0.89289,     0.89389,     0.89489,      0.8959,      0.8969,      0.8979,      0.8989,      0.8999,      0.9009,      0.9019,      0.9029,      0.9039,      0.9049,     0.90591,     0.90691,     0.90791,     0.90891,     0.90991,     0.91091,     0.91191,\n",
       "           0.91291,     0.91391,     0.91491,     0.91592,     0.91692,     0.91792,     0.91892,     0.91992,     0.92092,     0.92192,     0.92292,     0.92392,     0.92492,     0.92593,     0.92693,     0.92793,     0.92893,     0.92993,     0.93093,     0.93193,     0.93293,     0.93393,     0.93493,     0.93594,\n",
       "           0.93694,     0.93794,     0.93894,     0.93994,     0.94094,     0.94194,     0.94294,     0.94394,     0.94494,     0.94595,     0.94695,     0.94795,     0.94895,     0.94995,     0.95095,     0.95195,     0.95295,     0.95395,     0.95495,     0.95596,     0.95696,     0.95796,     0.95896,     0.95996,\n",
       "           0.96096,     0.96196,     0.96296,     0.96396,     0.96496,     0.96597,     0.96697,     0.96797,     0.96897,     0.96997,     0.97097,     0.97197,     0.97297,     0.97397,     0.97497,     0.97598,     0.97698,     0.97798,     0.97898,     0.97998,     0.98098,     0.98198,     0.98298,     0.98398,\n",
       "           0.98498,     0.98599,     0.98699,     0.98799,     0.98899,     0.98999,     0.99099,     0.99199,     0.99299,     0.99399,     0.99499,       0.996,       0.997,       0.998,       0.999,           1]), array([[    0.87594,     0.87594,     0.84962,     0.82331,     0.81203,     0.80075,     0.78947,     0.78947,     0.78195,      0.7782,     0.77068,     0.77068,     0.76316,     0.76316,      0.7594,     0.75564,     0.75188,     0.75188,     0.74436,     0.74436,      0.7406,     0.73684,     0.73308,\n",
       "            0.73175,     0.72556,     0.71805,     0.71429,     0.71429,     0.71429,     0.71053,     0.70677,     0.70677,     0.70677,     0.70677,     0.70677,     0.70301,     0.70301,     0.69925,     0.69925,     0.69269,     0.69173,     0.68797,     0.68797,     0.68797,     0.68797,     0.68797,\n",
       "            0.68797,     0.68797,     0.68797,     0.68797,     0.68797,     0.68421,     0.68421,     0.68421,     0.68045,     0.67741,     0.67669,     0.67669,     0.67293,     0.67293,     0.67293,     0.67293,     0.66917,     0.66917,     0.66917,     0.66822,     0.66541,     0.66541,     0.66541,\n",
       "            0.66541,     0.66165,     0.66165,     0.66165,     0.66165,     0.66165,     0.66165,     0.66165,     0.66165,     0.66165,     0.66165,     0.65789,     0.65038,     0.65038,     0.65038,     0.65038,     0.65038,     0.65038,     0.65038,     0.64286,      0.6391,      0.6391,      0.6391,\n",
       "             0.6391,      0.6391,      0.6391,     0.63534,     0.63534,     0.63534,     0.63534,     0.63534,     0.63534,     0.63534,     0.63534,     0.63534,     0.63534,     0.63158,     0.63081,     0.62782,     0.62406,     0.62406,     0.62406,     0.62406,     0.62406,      0.6203,     0.61654,\n",
       "            0.61654,     0.61654,     0.61654,     0.61278,     0.61278,     0.60847,     0.60526,      0.6015,      0.6015,      0.6015,     0.59774,     0.59774,     0.59644,     0.59398,     0.59023,     0.59023,     0.59023,     0.59023,     0.59023,     0.58647,     0.58647,     0.58647,     0.58647,\n",
       "            0.58647,     0.57895,     0.57704,     0.57143,     0.57143,     0.56802,     0.56767,     0.56641,     0.56391,     0.56391,     0.56391,     0.56391,     0.56391,     0.56145,     0.55907,      0.5558,     0.55263,     0.55263,     0.55263,     0.55263,     0.55263,     0.54887,     0.54135,\n",
       "            0.54135,     0.54135,     0.54135,     0.54135,     0.54135,     0.54135,     0.54135,     0.54135,     0.54135,     0.54135,     0.54135,     0.53367,     0.53059,     0.52632,     0.52632,     0.52632,     0.52632,     0.52256,     0.52256,      0.5188,      0.5188,      0.5188,      0.5188,\n",
       "             0.5188,      0.5188,      0.5188,     0.51504,     0.51504,     0.51504,     0.51504,     0.51504,     0.51504,     0.51504,     0.51359,     0.51128,     0.51128,       0.511,     0.51033,     0.50966,     0.50899,     0.50832,     0.50765,     0.50752,     0.50752,     0.50752,     0.50752,\n",
       "            0.50752,     0.50752,     0.50752,     0.50752,     0.50752,     0.50752,     0.50752,     0.50636,     0.50376,     0.50329,     0.50021,     0.49876,     0.49577,     0.49498,     0.49419,      0.4934,     0.49261,     0.49014,     0.48872,     0.48872,     0.48872,     0.48872,     0.48872,\n",
       "            0.48872,     0.48872,     0.48531,     0.48084,     0.47903,     0.47679,     0.47297,     0.47115,     0.46937,     0.46766,     0.46617,     0.46617,     0.46588,     0.46185,     0.46014,     0.45865,     0.45763,     0.45506,     0.45489,     0.45489,     0.45349,     0.45187,     0.45113,\n",
       "            0.45113,     0.44934,     0.44737,     0.44737,     0.44737,     0.44737,     0.44737,     0.44737,     0.44733,     0.44615,     0.44496,     0.44377,     0.44349,     0.44252,     0.44156,      0.4406,     0.43985,     0.43985,     0.43985,     0.43985,     0.43985,     0.43985,     0.43985,\n",
       "            0.43985,     0.43609,     0.43609,     0.43233,     0.43233,     0.43233,     0.43233,     0.43233,     0.43233,     0.42916,     0.42823,     0.42603,     0.42451,     0.42384,     0.42317,      0.4225,     0.42183,     0.42116,     0.42105,     0.42105,     0.42105,     0.41959,     0.41738,\n",
       "            0.41729,     0.41729,     0.41649,     0.41495,     0.41312,     0.40843,     0.40602,     0.40226,     0.40226,     0.40203,     0.40093,     0.39983,     0.39873,      0.3985,      0.3985,      0.3985,      0.3985,     0.39474,     0.39131,     0.38967,     0.38827,     0.38722,     0.38521,\n",
       "            0.38346,     0.38033,      0.3797,     0.37527,     0.36754,     0.36534,     0.36466,     0.36466,     0.36466,     0.36466,      0.3609,      0.3609,      0.3609,      0.3609,      0.3609,      0.3609,      0.3609,     0.35666,     0.35563,      0.3546,     0.35358,     0.35159,     0.34922,\n",
       "            0.34558,     0.34338,     0.34164,     0.34054,     0.33944,     0.33835,     0.33835,     0.33835,     0.33709,     0.33459,     0.32707,     0.32617,     0.32477,     0.32336,     0.32232,     0.32129,     0.32027,     0.31924,     0.31821,     0.31718,     0.31616,     0.31579,     0.31579,\n",
       "            0.31579,     0.31579,     0.31481,     0.31164,     0.31024,     0.30884,     0.30713,      0.3052,     0.30432,     0.30403,     0.30374,     0.30345,     0.30316,     0.30287,     0.30258,     0.30229,       0.302,     0.30171,     0.30142,     0.30113,     0.30083,     0.29917,     0.29696,\n",
       "            0.29321,     0.29254,     0.29187,      0.2912,     0.29053,     0.28986,     0.28866,     0.28673,     0.28389,     0.28086,     0.27866,      0.2782,     0.27506,      0.2712,     0.27068,     0.27068,     0.27033,      0.2684,     0.26662,     0.26534,     0.26405,     0.26316,     0.26316,\n",
       "            0.26316,     0.26316,     0.26316,     0.26316,     0.26316,     0.26316,     0.25654,     0.25564,     0.25564,     0.25564,     0.25564,     0.25564,     0.25564,     0.25564,     0.25564,     0.25542,     0.25445,     0.25349,     0.25253,     0.24686,     0.24049,     0.24016,     0.23983,\n",
       "             0.2395,     0.23917,     0.23885,     0.23852,     0.23819,     0.23786,     0.23753,     0.23721,     0.23688,     0.23684,     0.23684,     0.23684,     0.23313,     0.23269,      0.2323,      0.2319,     0.23151,     0.23111,     0.23072,     0.23032,     0.22993,     0.22953,     0.22841,\n",
       "            0.22648,     0.22165,     0.22135,     0.22106,     0.22076,     0.22046,     0.22017,     0.21987,     0.21957,     0.21928,     0.21898,     0.21869,     0.21839,     0.21809,     0.21481,     0.21429,     0.21386,     0.21338,     0.21289,     0.21241,     0.21193,     0.21145,     0.21097,\n",
       "            0.21053,     0.21053,     0.21053,     0.21053,     0.21017,     0.20825,     0.20677,     0.20677,     0.20677,     0.20638,     0.20509,     0.20381,     0.20155,      0.1977,     0.19173,     0.19173,     0.19173,     0.19173,     0.19173,     0.19173,     0.19148,     0.19106,     0.19063,\n",
       "             0.1902,     0.18977,     0.18934,     0.18891,     0.18849,     0.18806,     0.18721,     0.18624,     0.18528,     0.18432,     0.17976,     0.17899,     0.17822,     0.17745,     0.17664,     0.17288,      0.1716,     0.17032,     0.16903,     0.16775,     0.16646,     0.16506,     0.16313,\n",
       "            0.16136,     0.16007,     0.15879,     0.15731,     0.15538,     0.15379,     0.15283,     0.15187,      0.1509,     0.15038,     0.14478,     0.14189,     0.13997,     0.13857,      0.1376,     0.13664,     0.13568,     0.13484,     0.13407,      0.1333,     0.13253,     0.13176,     0.13084,\n",
       "            0.12987,     0.12891,     0.12795,     0.12708,     0.12622,     0.12536,     0.12451,     0.12383,     0.12335,     0.12287,     0.12239,      0.1219,     0.12142,     0.12094,     0.12046,     0.11901,     0.11708,     0.11376,     0.11278,     0.11278,     0.11278,     0.11233,     0.11178,\n",
       "            0.11123,     0.11068,     0.11013,     0.10958,     0.10903,     0.10504,     0.10481,     0.10459,     0.10436,     0.10413,     0.10391,     0.10368,     0.10345,     0.10323,       0.103,     0.10277,     0.10255,     0.10232,     0.10209,     0.10187,     0.10164,     0.10098,    0.099699,\n",
       "           0.098415,    0.095902,    0.093985,    0.093985,    0.093985,    0.093985,    0.093985,    0.093985,    0.093985,     0.09327,    0.090064,    0.089293,    0.088522,    0.087752,    0.086981,    0.085187,    0.082157,    0.080616,    0.079075,    0.075412,    0.073373,    0.071446,    0.071065,\n",
       "           0.070698,    0.070331,    0.069964,    0.069597,     0.06923,    0.068863,    0.068496,    0.068129,    0.067762,     0.06015,    0.058961,     0.05742,    0.056194,    0.055601,    0.055008,    0.054415,    0.053822,     0.05323,    0.052637,    0.051783,    0.050926,     0.05007,    0.049214,\n",
       "             0.0481,    0.046816,    0.045531,    0.044887,    0.044552,    0.044217,    0.043882,    0.043546,    0.043211,    0.042876,    0.042541,    0.042206,    0.041871,    0.041536,    0.041035,    0.040334,    0.039633,    0.038933,    0.038232,    0.037496,    0.036395,    0.035294,    0.034193,\n",
       "           0.033257,      0.0324,    0.031544,    0.030688,    0.029938,    0.029456,    0.028975,    0.028493,    0.028011,     0.02753,    0.027048,    0.026566,    0.026008,    0.025365,    0.024723,    0.024081,    0.023439,    0.022796,    0.022371,    0.022074,    0.021778,    0.021481,    0.021185,\n",
       "           0.020889,    0.020592,    0.020296,    0.019999,    0.019703,    0.019406,     0.01911,    0.018814,    0.018393,    0.017965,    0.017537,    0.017108,     0.01668,    0.016252,    0.015824,    0.015396,    0.014999,    0.014766,    0.014532,    0.014299,    0.014065,    0.013832,    0.013598,\n",
       "           0.013365,    0.013131,    0.012897,    0.012664,     0.01243,    0.012197,    0.011963,     0.01173,    0.011496,    0.007505,   0.0072967,   0.0070884,   0.0068801,   0.0066718,   0.0064635,   0.0062552,   0.0060469,   0.0058386,   0.0056303,    0.005422,   0.0052137,   0.0050054,   0.0047971,\n",
       "          0.0045888,   0.0043805,   0.0041722,   0.0039639,           0,           0,           0,           0,           0,           0,           0,           0,           0,           0,           0,           0,           0,           0,           0,           0,           0,           0,           0,\n",
       "                  0,           0,           0,           0,           0,           0,           0,           0,           0,           0,           0,           0,           0,           0,           0,           0,           0,           0,           0,           0,           0,           0,           0,\n",
       "                  0,           0,           0,           0,           0,           0,           0,           0,           0,           0,           0,           0,           0,           0,           0,           0,           0,           0,           0,           0,           0,           0,           0,\n",
       "                  0,           0,           0,           0,           0,           0,           0,           0,           0,           0,           0,           0,           0,           0,           0,           0,           0,           0,           0,           0,           0,           0,           0,\n",
       "                  0,           0,           0,           0,           0,           0,           0,           0,           0,           0,           0,           0,           0,           0,           0,           0,           0,           0,           0,           0,           0,           0,           0,\n",
       "                  0,           0,           0,           0,           0,           0,           0,           0,           0,           0,           0,           0,           0,           0,           0,           0,           0,           0,           0,           0,           0,           0,           0,\n",
       "                  0,           0,           0,           0,           0,           0,           0,           0,           0,           0,           0,           0,           0,           0,           0,           0,           0,           0,           0,           0,           0,           0,           0,\n",
       "                  0,           0,           0,           0,           0,           0,           0,           0,           0,           0,           0,           0,           0,           0,           0,           0,           0,           0,           0,           0,           0,           0,           0,\n",
       "                  0,           0,           0,           0,           0,           0,           0,           0,           0,           0,           0,           0,           0,           0,           0,           0,           0,           0,           0,           0,           0,           0,           0,\n",
       "                  0,           0,           0,           0,           0,           0,           0,           0,           0,           0,           0,           0,           0,           0,           0,           0,           0,           0,           0,           0,           0,           0,           0,\n",
       "                  0,           0,           0,           0,           0,           0,           0,           0,           0,           0,           0,           0,           0,           0,           0,           0,           0,           0,           0,           0,           0,           0,           0,\n",
       "                  0,           0,           0,           0,           0,           0,           0,           0,           0,           0,           0]]), 'Confidence', 'Recall']]\n",
       "fitness: 0.2511534707340563\n",
       "keys: ['metrics/precision(B)', 'metrics/recall(B)', 'metrics/mAP50(B)', 'metrics/mAP50-95(B)']\n",
       "maps: array([    0.22014])\n",
       "names: {0: 'mass'}\n",
       "plot: True\n",
       "results_dict: {'metrics/precision(B)': 0.6498840005992579, 'metrics/recall(B)': 0.5037593984962406, 'metrics/mAP50(B)': 0.5302543313512352, 'metrics/mAP50-95(B)': 0.2201422639988142, 'fitness': 0.2511534707340563}\n",
       "save_dir: WindowsPath('runs/detect/train')\n",
       "speed: {'preprocess': 0.21804199527632367, 'inference': 4.300581781487716, 'loss': 0.0, 'postprocess': 2.135614634525438}\n",
       "task: 'detect'"
      ]
     },
     "execution_count": 3,
     "metadata": {},
     "output_type": "execute_result"
    }
   ],
   "source": [
    "# Load a model\n",
    "model = YOLO(\"D:\\BreastSegmentation\\ObjectDetection\\yolov8s.pt\")  # load a pretrained model (recommended for training)\n",
    "\n",
    "model.train(data='C:\\\\Users\\\\manolakisd\\\\mass_data.yml',epochs=300, scale=0.0, hsv_h=0, hsv_s=0, hsv_v=0, translate=0, flipud=0.3, fliplr=0.3, imgsz=640, workers=24, patience=50)"
   ]
  },
  {
   "cell_type": "code",
   "execution_count": 22,
   "metadata": {},
   "outputs": [
    {
     "name": "stdout",
     "output_type": "stream",
     "text": [
      " Volume in drive C has no label.\n",
      " Volume Serial Number is E881-86C4\n",
      "\n",
      " Directory of C:\\Users\\manolakisd\\yolov5\n",
      "\n",
      "12/20/2023  01:41 PM    <DIR>          .\n",
      "12/20/2023  01:41 PM    <DIR>          ..\n",
      "11/21/2023  01:43 PM             3,923 .dockerignore\n",
      "11/21/2023  01:43 PM                77 .gitattributes\n",
      "11/21/2023  01:43 PM    <DIR>          .github\n",
      "11/21/2023  01:43 PM             4,255 .gitignore\n",
      "11/21/2023  01:43 PM             1,888 .pre-commit-config.yaml\n",
      "11/21/2023  01:43 PM             8,183 benchmarks.py\n",
      "11/21/2023  01:43 PM               407 CITATION.cff\n",
      "11/21/2023  01:43 PM    <DIR>          classify\n",
      "11/21/2023  01:43 PM             5,102 CONTRIBUTING.md\n",
      "11/21/2023  02:47 PM    <DIR>          data\n",
      "11/21/2023  01:43 PM            15,649 detect.py\n",
      "11/21/2023  01:43 PM            42,138 export.py\n",
      "11/21/2023  01:43 PM             7,938 hubconf.py\n",
      "12/12/2023  04:49 PM    <DIR>          images\n",
      "12/15/2023  12:58 PM    <DIR>          labels\n",
      "11/21/2023  01:43 PM            35,184 LICENSE\n",
      "11/21/2023  02:22 PM    <DIR>          models\n",
      "11/21/2023  01:43 PM            42,500 README.md\n",
      "11/21/2023  01:43 PM            41,523 README.zh-CN.md\n",
      "11/21/2023  01:43 PM             1,612 requirements.txt\n",
      "12/12/2023  04:53 PM    <DIR>          runs\n",
      "11/21/2023  01:43 PM    <DIR>          segment\n",
      "11/21/2023  01:43 PM             1,779 setup.cfg\n",
      "11/21/2023  01:43 PM            34,529 train.py\n",
      "11/21/2023  01:43 PM            42,024 tutorial.ipynb\n",
      "11/21/2023  02:22 PM    <DIR>          utils\n",
      "11/21/2023  01:43 PM            20,997 val.py\n",
      "12/20/2023  01:41 PM         4,062,133 yolov5n.pt\n",
      "11/21/2023  02:47 PM        14,808,437 yolov5s.pt\n",
      "12/12/2023  08:21 PM         6,534,387 yolov8n.pt\n",
      "12/01/2023  10:45 AM    <DIR>          __pycache__\n",
      "              21 File(s)     25,714,665 bytes\n",
      "              12 Dir(s)  13,735,723,008 bytes free\n"
     ]
    }
   ],
   "source": [
    "!dir"
   ]
  },
  {
   "cell_type": "code",
   "execution_count": 2,
   "metadata": {},
   "outputs": [
    {
     "name": "stdout",
     "output_type": "stream",
     "text": [
      "Ultralytics YOLOv8.0.215 🚀 Python-3.8.10 torch-2.1.1+cu121 CUDA:0 (NVIDIA GeForce RTX 3080 Ti, 12288MiB)\n",
      "Model summary (fused): 168 layers, 11125971 parameters, 0 gradients, 28.4 GFLOPs\n"
     ]
    },
    {
     "name": "stderr",
     "output_type": "stream",
     "text": [
      "\u001b[34m\u001b[1mval: \u001b[0mScanning C:\\Users\\manolakisd\\yolov5\\labels\\test.cache... 361 images, 0 backgrounds, 0 corrupt: 100%|██████████| 361/361 [00:00<?, ?it/s]\n",
      "                 Class     Images  Instances      Box(P          R      mAP50  mAP50-95): 100%|██████████| 23/23 [00:04<00:00,  4.69it/s]\n"
     ]
    },
    {
     "name": "stdout",
     "output_type": "stream",
     "text": [
      "                   all        361        378      0.692      0.463       0.52      0.229\n",
      "Speed: 0.8ms preprocess, 5.6ms inference, 0.0ms loss, 2.3ms postprocess per image\n",
      "Results saved to \u001b[1mruns\\detect\\val3\u001b[0m\n"
     ]
    }
   ],
   "source": [
    "model = YOLO(\"D:\\\\BreastSegmentation\\\\ObjectDetection\\\\runs\\\\detect\\\\train\\\\weights\\\\best.pt\")\n",
    "\n",
    "metrics = model.val(data=\"C:\\\\Users\\\\manolakisd\\\\mass_data.yml\", split='test')"
   ]
  },
  {
   "cell_type": "code",
   "execution_count": 8,
   "metadata": {},
   "outputs": [
    {
     "name": "stdout",
     "output_type": "stream",
     "text": [
      "Ultralytics YOLOv8.0.215 🚀 Python-3.8.10 torch-2.1.1+cu121 CUDA:0 (NVIDIA GeForce RTX 3080 Ti, 12288MiB)\n",
      "Model summary (fused): 168 layers, 11125971 parameters, 0 gradients, 28.4 GFLOPs\n",
      "                   all        247        266      0.655       0.47      0.515      0.226\n",
      "Speed: 1.1ms preprocess, 6.8ms inference, 0.0ms loss, 2.7ms postprocess per image\n",
      "Results saved to \u001b[1mruns\\detect\\val3\u001b[0m\n",
      "💡 Learn more at https://docs.ultralytics.com/modes/val\n"
     ]
    },
    {
     "name": "stderr",
     "output_type": "stream",
     "text": [
      "\n",
      "\u001b[34m\u001b[1mval: \u001b[0mScanning C:\\Users\\manolakisd\\yolov5\\labels\\val.cache... 247 images, 0 backgrounds, 0 corrupt: 100%|██████████| 247/247 [00:00<?, ?it/s]\n",
      "\u001b[34m\u001b[1mval: \u001b[0mScanning C:\\Users\\manolakisd\\yolov5\\labels\\val.cache... 247 images, 0 backgrounds, 0 corrupt: 100%|██████████| 247/247 [00:00<?, ?it/s]\n",
      "\n",
      "                 Class     Images  Instances      Box(P          R      mAP50  mAP50-95):   0%|          | 0/16 [00:00<?, ?it/s]\n",
      "                 Class     Images  Instances      Box(P          R      mAP50  mAP50-95):   6%|▋         | 1/16 [00:00<00:14,  1.04it/s]\n",
      "                 Class     Images  Instances      Box(P          R      mAP50  mAP50-95):  12%|█▎        | 2/16 [00:01<00:08,  1.67it/s]\n",
      "                 Class     Images  Instances      Box(P          R      mAP50  mAP50-95):  19%|█▉        | 3/16 [00:01<00:06,  2.15it/s]\n",
      "                 Class     Images  Instances      Box(P          R      mAP50  mAP50-95):  25%|██▌       | 4/16 [00:01<00:04,  2.60it/s]\n",
      "                 Class     Images  Instances      Box(P          R      mAP50  mAP50-95):  31%|███▏      | 5/16 [00:02<00:03,  3.36it/s]\n",
      "                 Class     Images  Instances      Box(P          R      mAP50  mAP50-95):  38%|███▊      | 6/16 [00:02<00:02,  3.85it/s]\n",
      "                 Class     Images  Instances      Box(P          R      mAP50  mAP50-95):  44%|████▍     | 7/16 [00:02<00:02,  4.39it/s]\n",
      "                 Class     Images  Instances      Box(P          R      mAP50  mAP50-95):  50%|█████     | 8/16 [00:02<00:01,  4.80it/s]\n",
      "                 Class     Images  Instances      Box(P          R      mAP50  mAP50-95):  56%|█████▋    | 9/16 [00:02<00:01,  5.08it/s]\n",
      "                 Class     Images  Instances      Box(P          R      mAP50  mAP50-95):  62%|██████▎   | 10/16 [00:02<00:01,  5.24it/s]\n",
      "                 Class     Images  Instances      Box(P          R      mAP50  mAP50-95):  69%|██████▉   | 11/16 [00:03<00:00,  5.45it/s]\n",
      "                 Class     Images  Instances      Box(P          R      mAP50  mAP50-95):  75%|███████▌  | 12/16 [00:03<00:00,  5.37it/s]\n",
      "                 Class     Images  Instances      Box(P          R      mAP50  mAP50-95):  81%|████████▏ | 13/16 [00:03<00:00,  5.74it/s]\n",
      "                 Class     Images  Instances      Box(P          R      mAP50  mAP50-95):  88%|████████▊ | 14/16 [00:03<00:00,  6.00it/s]\n",
      "                 Class     Images  Instances      Box(P          R      mAP50  mAP50-95):  94%|█████████▍| 15/16 [00:03<00:00,  6.04it/s]\n",
      "                 Class     Images  Instances      Box(P          R      mAP50  mAP50-95): 100%|██████████| 16/16 [00:03<00:00,  5.64it/s]\n",
      "                 Class     Images  Instances      Box(P          R      mAP50  mAP50-95): 100%|██████████| 16/16 [00:03<00:00,  4.10it/s]\n"
     ]
    }
   ],
   "source": [
    "!yolo val model=D:\\\\BreastSegmentation\\\\ObjectDetection\\\\runs\\detect\\\\yolov8s_train\\\\weights\\\\best.pt data=C:\\\\Users\\\\manolakisd\\\\mass_data.yml"
   ]
  },
  {
   "cell_type": "code",
   "execution_count": null,
   "metadata": {},
   "outputs": [],
   "source": []
  }
 ],
 "metadata": {
  "kernelspec": {
   "display_name": "Python 3",
   "language": "python",
   "name": "python3"
  },
  "language_info": {
   "codemirror_mode": {
    "name": "ipython",
    "version": 3
   },
   "file_extension": ".py",
   "mimetype": "text/x-python",
   "name": "python",
   "nbconvert_exporter": "python",
   "pygments_lexer": "ipython3",
   "version": "3.8.10"
  }
 },
 "nbformat": 4,
 "nbformat_minor": 2
}
